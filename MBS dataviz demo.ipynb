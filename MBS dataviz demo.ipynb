{
 "cells": [
  {
   "cell_type": "markdown",
   "metadata": {},
   "source": [
    "# MBS dataviz"
   ]
  },
  {
   "cell_type": "markdown",
   "metadata": {},
   "source": [
    "This notebook at http://bit.ly/mbs-demo-notebook or [this gist](https://gist.github.com/claresloggett/ad97b6c730f1baca78c90911f43a319f) at http://gist.github.com/claresloggett\n",
    "\n",
    "Slides at http://bit.ly/mbs-dataviz-slides-wk1"
   ]
  },
  {
   "cell_type": "markdown",
   "metadata": {},
   "source": [
    "To see Jupyter Notebook hotkeys, press **h**. If you're already editing a cell, press **Esc** to stop editing, then **h**.\n",
    "\n",
    "For reference:\n",
    "* [Jupyter documentation](http://jupyter.readthedocs.io/en/latest/)\n",
    "* [Jupyter Notebook primer](http://nbviewer.jupyter.org/github/jupyter/notebook/blob/master/docs/source/examples/Notebook/Notebook%20Basics.ipynb)\n",
    "* [Pandas website](https://pandas.pydata.org) with [documentation](http://pandas.pydata.org/pandas-docs/stable/)\n",
    "* [Matplotlib website](https://matplotlib.org)\n",
    "* [Seaborn website](https://seaborn.pydata.org)"
   ]
  },
  {
   "cell_type": "markdown",
   "metadata": {},
   "source": [
    "## Imports "
   ]
  },
  {
   "cell_type": "code",
   "execution_count": 1,
   "metadata": {
    "ExecuteTime": {
     "end_time": "2018-06-27T13:50:46.885780Z",
     "start_time": "2018-06-27T13:50:45.300739Z"
    }
   },
   "outputs": [],
   "source": [
    "%matplotlib inline\n",
    "import matplotlib.pyplot as plt"
   ]
  },
  {
   "cell_type": "code",
   "execution_count": 2,
   "metadata": {
    "ExecuteTime": {
     "end_time": "2018-06-27T13:50:48.747046Z",
     "start_time": "2018-06-27T13:50:46.891340Z"
    }
   },
   "outputs": [],
   "source": [
    "import seaborn as sns"
   ]
  },
  {
   "cell_type": "code",
   "execution_count": 3,
   "metadata": {
    "ExecuteTime": {
     "end_time": "2018-06-27T13:50:48.755335Z",
     "start_time": "2018-06-27T13:50:48.750622Z"
    }
   },
   "outputs": [],
   "source": [
    "import pandas as pd"
   ]
  },
  {
   "cell_type": "code",
   "execution_count": 4,
   "metadata": {
    "ExecuteTime": {
     "end_time": "2018-06-27T13:50:49.357378Z",
     "start_time": "2018-06-27T13:50:48.759243Z"
    },
    "scrolled": true
   },
   "outputs": [
    {
     "data": {
      "text/plain": [
       "<matplotlib.collections.PathCollection at 0x110c28a20>"
      ]
     },
     "execution_count": 4,
     "metadata": {},
     "output_type": "execute_result"
    },
    {
     "data": {
      "image/png": "[encoded data removed]",
      "text/plain": [
       "<Figure size 432x288 with 1 Axes>"
      ]
     },
     "metadata": {},
     "output_type": "display_data"
    }
   ],
   "source": [
    "x = [1,2,3,4]\n",
    "y = [1,4,9,16]\n",
    "\n",
    "plt.scatter(x, y)"
   ]
  },
  {
   "cell_type": "markdown",
   "metadata": {},
   "source": [
    "## Read in data "
   ]
  },
  {
   "cell_type": "code",
   "execution_count": 5,
   "metadata": {
    "ExecuteTime": {
     "end_time": "2018-06-27T13:50:50.496406Z",
     "start_time": "2018-06-27T13:50:50.452859Z"
    }
   },
   "outputs": [],
   "source": [
    "iris = pd.read_csv(\"iris.csv\")"
   ]
  },
  {
   "cell_type": "code",
   "execution_count": 6,
   "metadata": {
    "ExecuteTime": {
     "end_time": "2018-06-27T13:50:51.128788Z",
     "start_time": "2018-06-27T13:50:51.118267Z"
    }
   },
   "outputs": [],
   "source": [
    "cars = pd.read_csv(\"cars.csv\")"
   ]
  },
  {
   "cell_type": "code",
   "execution_count": 18,
   "metadata": {
    "ExecuteTime": {
     "end_time": "2018-06-05T01:03:54.804833Z",
     "start_time": "2018-06-05T01:03:54.784872Z"
    },
    "collapsed": true
   },
   "outputs": [
    {
     "data": {
      "text/html": [
       "<div>\n",
       "<style>\n",
       "    .dataframe thead tr:only-child th {\n",
       "        text-align: right;\n",
       "    }\n",
       "\n",
       "    .dataframe thead th {\n",
       "        text-align: left;\n",
       "    }\n",
       "\n",
       "    .dataframe tbody tr th {\n",
       "        vertical-align: top;\n",
       "    }\n",
       "</style>\n",
       "<table border=\"1\" class=\"dataframe\">\n",
       "  <thead>\n",
       "    <tr style=\"text-align: right;\">\n",
       "      <th></th>\n",
       "      <th>mpg</th>\n",
       "      <th>cylinders</th>\n",
       "      <th>displacement</th>\n",
       "      <th>horsepower</th>\n",
       "      <th>weight</th>\n",
       "      <th>acceleration</th>\n",
       "      <th>year</th>\n",
       "      <th>origin</th>\n",
       "      <th>name</th>\n",
       "    </tr>\n",
       "  </thead>\n",
       "  <tbody>\n",
       "    <tr>\n",
       "      <th>0</th>\n",
       "      <td>18.0</td>\n",
       "      <td>8</td>\n",
       "      <td>307.0</td>\n",
       "      <td>130</td>\n",
       "      <td>3504</td>\n",
       "      <td>12.0</td>\n",
       "      <td>70</td>\n",
       "      <td>1</td>\n",
       "      <td>chevrolet chevelle malibu</td>\n",
       "    </tr>\n",
       "    <tr>\n",
       "      <th>1</th>\n",
       "      <td>15.0</td>\n",
       "      <td>8</td>\n",
       "      <td>350.0</td>\n",
       "      <td>165</td>\n",
       "      <td>3693</td>\n",
       "      <td>11.5</td>\n",
       "      <td>70</td>\n",
       "      <td>1</td>\n",
       "      <td>buick skylark 320</td>\n",
       "    </tr>\n",
       "    <tr>\n",
       "      <th>2</th>\n",
       "      <td>18.0</td>\n",
       "      <td>8</td>\n",
       "      <td>318.0</td>\n",
       "      <td>150</td>\n",
       "      <td>3436</td>\n",
       "      <td>11.0</td>\n",
       "      <td>70</td>\n",
       "      <td>1</td>\n",
       "      <td>plymouth satellite</td>\n",
       "    </tr>\n",
       "    <tr>\n",
       "      <th>3</th>\n",
       "      <td>16.0</td>\n",
       "      <td>8</td>\n",
       "      <td>304.0</td>\n",
       "      <td>150</td>\n",
       "      <td>3433</td>\n",
       "      <td>12.0</td>\n",
       "      <td>70</td>\n",
       "      <td>1</td>\n",
       "      <td>amc rebel sst</td>\n",
       "    </tr>\n",
       "    <tr>\n",
       "      <th>4</th>\n",
       "      <td>17.0</td>\n",
       "      <td>8</td>\n",
       "      <td>302.0</td>\n",
       "      <td>140</td>\n",
       "      <td>3449</td>\n",
       "      <td>10.5</td>\n",
       "      <td>70</td>\n",
       "      <td>1</td>\n",
       "      <td>ford torino</td>\n",
       "    </tr>\n",
       "  </tbody>\n",
       "</table>\n",
       "</div>"
      ],
      "text/plain": [
       "    mpg  cylinders  displacement  horsepower  weight  acceleration  year  \\\n",
       "0  18.0          8         307.0         130    3504          12.0    70   \n",
       "1  15.0          8         350.0         165    3693          11.5    70   \n",
       "2  18.0          8         318.0         150    3436          11.0    70   \n",
       "3  16.0          8         304.0         150    3433          12.0    70   \n",
       "4  17.0          8         302.0         140    3449          10.5    70   \n",
       "\n",
       "   origin                       name  \n",
       "0       1  chevrolet chevelle malibu  \n",
       "1       1          buick skylark 320  \n",
       "2       1         plymouth satellite  \n",
       "3       1              amc rebel sst  \n",
       "4       1                ford torino  "
      ]
     },
     "execution_count": 18,
     "metadata": {},
     "output_type": "execute_result"
    }
   ],
   "source": [
    "cars.head()"
   ]
  },
  {
   "cell_type": "code",
   "execution_count": 8,
   "metadata": {
    "ExecuteTime": {
     "end_time": "2018-06-05T00:53:06.962400Z",
     "start_time": "2018-06-05T00:53:06.955205Z"
    },
    "collapsed": true
   },
   "outputs": [
    {
     "data": {
      "text/plain": [
       "pandas.core.frame.DataFrame"
      ]
     },
     "execution_count": 8,
     "metadata": {},
     "output_type": "execute_result"
    }
   ],
   "source": [
    "type(iris)"
   ]
  },
  {
   "cell_type": "code",
   "execution_count": 12,
   "metadata": {
    "ExecuteTime": {
     "end_time": "2018-06-05T01:01:58.793595Z",
     "start_time": "2018-06-05T01:01:58.777584Z"
    },
    "collapsed": true
   },
   "outputs": [
    {
     "data": {
      "text/html": [
       "<div>\n",
       "<style>\n",
       "    .dataframe thead tr:only-child th {\n",
       "        text-align: right;\n",
       "    }\n",
       "\n",
       "    .dataframe thead th {\n",
       "        text-align: left;\n",
       "    }\n",
       "\n",
       "    .dataframe tbody tr th {\n",
       "        vertical-align: top;\n",
       "    }\n",
       "</style>\n",
       "<table border=\"1\" class=\"dataframe\">\n",
       "  <thead>\n",
       "    <tr style=\"text-align: right;\">\n",
       "      <th></th>\n",
       "      <th>sepal_length</th>\n",
       "      <th>sepal_width</th>\n",
       "      <th>petal_length</th>\n",
       "      <th>petal_width</th>\n",
       "      <th>species</th>\n",
       "    </tr>\n",
       "  </thead>\n",
       "  <tbody>\n",
       "    <tr>\n",
       "      <th>0</th>\n",
       "      <td>5.1</td>\n",
       "      <td>3.5</td>\n",
       "      <td>1.4</td>\n",
       "      <td>0.2</td>\n",
       "      <td>setosa</td>\n",
       "    </tr>\n",
       "    <tr>\n",
       "      <th>1</th>\n",
       "      <td>4.9</td>\n",
       "      <td>3.0</td>\n",
       "      <td>1.4</td>\n",
       "      <td>0.2</td>\n",
       "      <td>setosa</td>\n",
       "    </tr>\n",
       "    <tr>\n",
       "      <th>2</th>\n",
       "      <td>4.7</td>\n",
       "      <td>3.2</td>\n",
       "      <td>1.3</td>\n",
       "      <td>0.2</td>\n",
       "      <td>setosa</td>\n",
       "    </tr>\n",
       "    <tr>\n",
       "      <th>3</th>\n",
       "      <td>4.6</td>\n",
       "      <td>3.1</td>\n",
       "      <td>1.5</td>\n",
       "      <td>0.2</td>\n",
       "      <td>setosa</td>\n",
       "    </tr>\n",
       "    <tr>\n",
       "      <th>4</th>\n",
       "      <td>5.0</td>\n",
       "      <td>3.6</td>\n",
       "      <td>1.4</td>\n",
       "      <td>0.2</td>\n",
       "      <td>setosa</td>\n",
       "    </tr>\n",
       "    <tr>\n",
       "      <th>5</th>\n",
       "      <td>5.4</td>\n",
       "      <td>3.9</td>\n",
       "      <td>1.7</td>\n",
       "      <td>0.4</td>\n",
       "      <td>setosa</td>\n",
       "    </tr>\n",
       "    <tr>\n",
       "      <th>6</th>\n",
       "      <td>4.6</td>\n",
       "      <td>3.4</td>\n",
       "      <td>1.4</td>\n",
       "      <td>0.3</td>\n",
       "      <td>setosa</td>\n",
       "    </tr>\n",
       "  </tbody>\n",
       "</table>\n",
       "</div>"
      ],
      "text/plain": [
       "   sepal_length  sepal_width  petal_length  petal_width species\n",
       "0           5.1          3.5           1.4          0.2  setosa\n",
       "1           4.9          3.0           1.4          0.2  setosa\n",
       "2           4.7          3.2           1.3          0.2  setosa\n",
       "3           4.6          3.1           1.5          0.2  setosa\n",
       "4           5.0          3.6           1.4          0.2  setosa\n",
       "5           5.4          3.9           1.7          0.4  setosa\n",
       "6           4.6          3.4           1.4          0.3  setosa"
      ]
     },
     "execution_count": 12,
     "metadata": {},
     "output_type": "execute_result"
    }
   ],
   "source": [
    "iris.head(7)"
   ]
  },
  {
   "cell_type": "code",
   "execution_count": 13,
   "metadata": {
    "ExecuteTime": {
     "end_time": "2018-06-05T01:02:20.530798Z",
     "start_time": "2018-06-05T01:02:20.522436Z"
    },
    "collapsed": true
   },
   "outputs": [
    {
     "data": {
      "text/plain": [
       "(150, 5)"
      ]
     },
     "execution_count": 13,
     "metadata": {},
     "output_type": "execute_result"
    }
   ],
   "source": [
    "iris.shape"
   ]
  },
  {
   "cell_type": "code",
   "execution_count": 15,
   "metadata": {
    "ExecuteTime": {
     "end_time": "2018-06-05T01:02:49.057302Z",
     "start_time": "2018-06-05T01:02:49.048439Z"
    },
    "collapsed": true
   },
   "outputs": [
    {
     "data": {
      "text/plain": [
       "0    setosa\n",
       "1    setosa\n",
       "2    setosa\n",
       "3    setosa\n",
       "4    setosa\n",
       "Name: species, dtype: object"
      ]
     },
     "execution_count": 15,
     "metadata": {},
     "output_type": "execute_result"
    }
   ],
   "source": [
    "iris['species'].head()"
   ]
  },
  {
   "cell_type": "code",
   "execution_count": 16,
   "metadata": {
    "ExecuteTime": {
     "end_time": "2018-06-05T01:03:16.866310Z",
     "start_time": "2018-06-05T01:03:16.850070Z"
    },
    "collapsed": true
   },
   "outputs": [
    {
     "data": {
      "text/plain": [
       "4.7000000000000002"
      ]
     },
     "execution_count": 16,
     "metadata": {},
     "output_type": "execute_result"
    }
   ],
   "source": [
    "iris.loc[2,'sepal_length']"
   ]
  },
  {
   "cell_type": "code",
   "execution_count": 19,
   "metadata": {
    "ExecuteTime": {
     "end_time": "2018-06-05T01:15:34.646234Z",
     "start_time": "2018-06-05T01:15:34.623234Z"
    },
    "collapsed": true
   },
   "outputs": [
    {
     "data": {
      "text/plain": [
       "(392, 9)"
      ]
     },
     "execution_count": 19,
     "metadata": {},
     "output_type": "execute_result"
    }
   ],
   "source": [
    "cars.shape"
   ]
  },
  {
   "cell_type": "code",
   "execution_count": 20,
   "metadata": {
    "ExecuteTime": {
     "end_time": "2018-06-05T01:15:37.994383Z",
     "start_time": "2018-06-05T01:15:37.972645Z"
    },
    "collapsed": true
   },
   "outputs": [
    {
     "data": {
      "text/html": [
       "<div>\n",
       "<style>\n",
       "    .dataframe thead tr:only-child th {\n",
       "        text-align: right;\n",
       "    }\n",
       "\n",
       "    .dataframe thead th {\n",
       "        text-align: left;\n",
       "    }\n",
       "\n",
       "    .dataframe tbody tr th {\n",
       "        vertical-align: top;\n",
       "    }\n",
       "</style>\n",
       "<table border=\"1\" class=\"dataframe\">\n",
       "  <thead>\n",
       "    <tr style=\"text-align: right;\">\n",
       "      <th></th>\n",
       "      <th>mpg</th>\n",
       "      <th>cylinders</th>\n",
       "      <th>displacement</th>\n",
       "      <th>horsepower</th>\n",
       "      <th>weight</th>\n",
       "      <th>acceleration</th>\n",
       "      <th>year</th>\n",
       "      <th>origin</th>\n",
       "      <th>name</th>\n",
       "    </tr>\n",
       "  </thead>\n",
       "  <tbody>\n",
       "    <tr>\n",
       "      <th>0</th>\n",
       "      <td>18.0</td>\n",
       "      <td>8</td>\n",
       "      <td>307.0</td>\n",
       "      <td>130</td>\n",
       "      <td>3504</td>\n",
       "      <td>12.0</td>\n",
       "      <td>70</td>\n",
       "      <td>1</td>\n",
       "      <td>chevrolet chevelle malibu</td>\n",
       "    </tr>\n",
       "    <tr>\n",
       "      <th>1</th>\n",
       "      <td>15.0</td>\n",
       "      <td>8</td>\n",
       "      <td>350.0</td>\n",
       "      <td>165</td>\n",
       "      <td>3693</td>\n",
       "      <td>11.5</td>\n",
       "      <td>70</td>\n",
       "      <td>1</td>\n",
       "      <td>buick skylark 320</td>\n",
       "    </tr>\n",
       "    <tr>\n",
       "      <th>2</th>\n",
       "      <td>18.0</td>\n",
       "      <td>8</td>\n",
       "      <td>318.0</td>\n",
       "      <td>150</td>\n",
       "      <td>3436</td>\n",
       "      <td>11.0</td>\n",
       "      <td>70</td>\n",
       "      <td>1</td>\n",
       "      <td>plymouth satellite</td>\n",
       "    </tr>\n",
       "    <tr>\n",
       "      <th>3</th>\n",
       "      <td>16.0</td>\n",
       "      <td>8</td>\n",
       "      <td>304.0</td>\n",
       "      <td>150</td>\n",
       "      <td>3433</td>\n",
       "      <td>12.0</td>\n",
       "      <td>70</td>\n",
       "      <td>1</td>\n",
       "      <td>amc rebel sst</td>\n",
       "    </tr>\n",
       "    <tr>\n",
       "      <th>4</th>\n",
       "      <td>17.0</td>\n",
       "      <td>8</td>\n",
       "      <td>302.0</td>\n",
       "      <td>140</td>\n",
       "      <td>3449</td>\n",
       "      <td>10.5</td>\n",
       "      <td>70</td>\n",
       "      <td>1</td>\n",
       "      <td>ford torino</td>\n",
       "    </tr>\n",
       "  </tbody>\n",
       "</table>\n",
       "</div>"
      ],
      "text/plain": [
       "    mpg  cylinders  displacement  horsepower  weight  acceleration  year  \\\n",
       "0  18.0          8         307.0         130    3504          12.0    70   \n",
       "1  15.0          8         350.0         165    3693          11.5    70   \n",
       "2  18.0          8         318.0         150    3436          11.0    70   \n",
       "3  16.0          8         304.0         150    3433          12.0    70   \n",
       "4  17.0          8         302.0         140    3449          10.5    70   \n",
       "\n",
       "   origin                       name  \n",
       "0       1  chevrolet chevelle malibu  \n",
       "1       1          buick skylark 320  \n",
       "2       1         plymouth satellite  \n",
       "3       1              amc rebel sst  \n",
       "4       1                ford torino  "
      ]
     },
     "execution_count": 20,
     "metadata": {},
     "output_type": "execute_result"
    }
   ],
   "source": [
    "cars.head()"
   ]
  },
  {
   "cell_type": "code",
   "execution_count": 21,
   "metadata": {
    "ExecuteTime": {
     "end_time": "2018-06-05T01:16:09.602372Z",
     "start_time": "2018-06-05T01:16:09.594491Z"
    },
    "collapsed": true
   },
   "outputs": [
    {
     "data": {
      "text/plain": [
       "3436"
      ]
     },
     "execution_count": 21,
     "metadata": {},
     "output_type": "execute_result"
    }
   ],
   "source": [
    "cars.loc[2,'weight']"
   ]
  },
  {
   "cell_type": "code",
   "execution_count": 22,
   "metadata": {
    "ExecuteTime": {
     "end_time": "2018-06-05T01:16:32.254152Z",
     "start_time": "2018-06-05T01:16:32.244646Z"
    },
    "collapsed": true
   },
   "outputs": [
    {
     "data": {
      "text/plain": [
       "3436"
      ]
     },
     "execution_count": 22,
     "metadata": {},
     "output_type": "execute_result"
    }
   ],
   "source": [
    "cars.iloc[2,4]"
   ]
  },
  {
   "cell_type": "code",
   "execution_count": 23,
   "metadata": {
    "ExecuteTime": {
     "end_time": "2018-06-05T01:17:21.013249Z",
     "start_time": "2018-06-05T01:17:20.983568Z"
    },
    "collapsed": true
   },
   "outputs": [
    {
     "data": {
      "text/html": [
       "<div>\n",
       "<style>\n",
       "    .dataframe thead tr:only-child th {\n",
       "        text-align: right;\n",
       "    }\n",
       "\n",
       "    .dataframe thead th {\n",
       "        text-align: left;\n",
       "    }\n",
       "\n",
       "    .dataframe tbody tr th {\n",
       "        vertical-align: top;\n",
       "    }\n",
       "</style>\n",
       "<table border=\"1\" class=\"dataframe\">\n",
       "  <thead>\n",
       "    <tr style=\"text-align: right;\">\n",
       "      <th></th>\n",
       "      <th>name</th>\n",
       "      <th>mpg</th>\n",
       "      <th>year</th>\n",
       "    </tr>\n",
       "  </thead>\n",
       "  <tbody>\n",
       "    <tr>\n",
       "      <th>1</th>\n",
       "      <td>buick skylark 320</td>\n",
       "      <td>15.0</td>\n",
       "      <td>70</td>\n",
       "    </tr>\n",
       "    <tr>\n",
       "      <th>2</th>\n",
       "      <td>plymouth satellite</td>\n",
       "      <td>18.0</td>\n",
       "      <td>70</td>\n",
       "    </tr>\n",
       "    <tr>\n",
       "      <th>3</th>\n",
       "      <td>amc rebel sst</td>\n",
       "      <td>16.0</td>\n",
       "      <td>70</td>\n",
       "    </tr>\n",
       "  </tbody>\n",
       "</table>\n",
       "</div>"
      ],
      "text/plain": [
       "                 name   mpg  year\n",
       "1   buick skylark 320  15.0    70\n",
       "2  plymouth satellite  18.0    70\n",
       "3       amc rebel sst  16.0    70"
      ]
     },
     "execution_count": 23,
     "metadata": {},
     "output_type": "execute_result"
    }
   ],
   "source": [
    "cars.loc[1:3,['name','mpg','year']]"
   ]
  },
  {
   "cell_type": "code",
   "execution_count": 24,
   "metadata": {
    "ExecuteTime": {
     "end_time": "2018-06-05T01:17:47.342715Z",
     "start_time": "2018-06-05T01:17:47.332084Z"
    },
    "collapsed": true
   },
   "outputs": [
    {
     "data": {
      "text/plain": [
       "mpg             float64\n",
       "cylinders         int64\n",
       "displacement    float64\n",
       "horsepower        int64\n",
       "weight            int64\n",
       "acceleration    float64\n",
       "year              int64\n",
       "origin            int64\n",
       "name             object\n",
       "dtype: object"
      ]
     },
     "execution_count": 24,
     "metadata": {},
     "output_type": "execute_result"
    }
   ],
   "source": [
    "cars.dtypes"
   ]
  },
  {
   "cell_type": "code",
   "execution_count": 25,
   "metadata": {
    "ExecuteTime": {
     "end_time": "2018-06-05T01:18:44.366884Z",
     "start_time": "2018-06-05T01:18:44.358607Z"
    },
    "collapsed": true
   },
   "outputs": [
    {
     "data": {
      "text/plain": [
       "sepal_length    float64\n",
       "sepal_width     float64\n",
       "petal_length    float64\n",
       "petal_width     float64\n",
       "species          object\n",
       "dtype: object"
      ]
     },
     "execution_count": 25,
     "metadata": {},
     "output_type": "execute_result"
    }
   ],
   "source": [
    "iris.dtypes"
   ]
  },
  {
   "cell_type": "code",
   "execution_count": 26,
   "metadata": {
    "ExecuteTime": {
     "end_time": "2018-06-05T01:19:01.041593Z",
     "start_time": "2018-06-05T01:19:01.023297Z"
    },
    "collapsed": true
   },
   "outputs": [
    {
     "data": {
      "text/html": [
       "<div>\n",
       "<style>\n",
       "    .dataframe thead tr:only-child th {\n",
       "        text-align: right;\n",
       "    }\n",
       "\n",
       "    .dataframe thead th {\n",
       "        text-align: left;\n",
       "    }\n",
       "\n",
       "    .dataframe tbody tr th {\n",
       "        vertical-align: top;\n",
       "    }\n",
       "</style>\n",
       "<table border=\"1\" class=\"dataframe\">\n",
       "  <thead>\n",
       "    <tr style=\"text-align: right;\">\n",
       "      <th></th>\n",
       "      <th>sepal_length</th>\n",
       "      <th>sepal_width</th>\n",
       "      <th>petal_length</th>\n",
       "      <th>petal_width</th>\n",
       "      <th>species</th>\n",
       "    </tr>\n",
       "  </thead>\n",
       "  <tbody>\n",
       "    <tr>\n",
       "      <th>0</th>\n",
       "      <td>5.1</td>\n",
       "      <td>3.5</td>\n",
       "      <td>1.4</td>\n",
       "      <td>0.2</td>\n",
       "      <td>setosa</td>\n",
       "    </tr>\n",
       "    <tr>\n",
       "      <th>1</th>\n",
       "      <td>4.9</td>\n",
       "      <td>3.0</td>\n",
       "      <td>1.4</td>\n",
       "      <td>0.2</td>\n",
       "      <td>setosa</td>\n",
       "    </tr>\n",
       "    <tr>\n",
       "      <th>2</th>\n",
       "      <td>4.7</td>\n",
       "      <td>3.2</td>\n",
       "      <td>1.3</td>\n",
       "      <td>0.2</td>\n",
       "      <td>setosa</td>\n",
       "    </tr>\n",
       "    <tr>\n",
       "      <th>3</th>\n",
       "      <td>4.6</td>\n",
       "      <td>3.1</td>\n",
       "      <td>1.5</td>\n",
       "      <td>0.2</td>\n",
       "      <td>setosa</td>\n",
       "    </tr>\n",
       "    <tr>\n",
       "      <th>4</th>\n",
       "      <td>5.0</td>\n",
       "      <td>3.6</td>\n",
       "      <td>1.4</td>\n",
       "      <td>0.2</td>\n",
       "      <td>setosa</td>\n",
       "    </tr>\n",
       "  </tbody>\n",
       "</table>\n",
       "</div>"
      ],
      "text/plain": [
       "   sepal_length  sepal_width  petal_length  petal_width species\n",
       "0           5.1          3.5           1.4          0.2  setosa\n",
       "1           4.9          3.0           1.4          0.2  setosa\n",
       "2           4.7          3.2           1.3          0.2  setosa\n",
       "3           4.6          3.1           1.5          0.2  setosa\n",
       "4           5.0          3.6           1.4          0.2  setosa"
      ]
     },
     "execution_count": 26,
     "metadata": {},
     "output_type": "execute_result"
    }
   ],
   "source": [
    "iris.head()"
   ]
  },
  {
   "cell_type": "code",
   "execution_count": 27,
   "metadata": {
    "ExecuteTime": {
     "end_time": "2018-06-05T01:19:16.882769Z",
     "start_time": "2018-06-05T01:19:16.862315Z"
    },
    "collapsed": true
   },
   "outputs": [
    {
     "data": {
      "text/plain": [
       "array(['setosa', 'versicolor', 'virginica'], dtype=object)"
      ]
     },
     "execution_count": 27,
     "metadata": {},
     "output_type": "execute_result"
    }
   ],
   "source": [
    "iris['species'].unique()"
   ]
  },
  {
   "cell_type": "code",
   "execution_count": 28,
   "metadata": {
    "ExecuteTime": {
     "end_time": "2018-06-05T01:19:27.801827Z",
     "start_time": "2018-06-05T01:19:27.781636Z"
    },
    "collapsed": true
   },
   "outputs": [
    {
     "data": {
      "text/plain": [
       "setosa        50\n",
       "virginica     50\n",
       "versicolor    50\n",
       "Name: species, dtype: int64"
      ]
     },
     "execution_count": 28,
     "metadata": {},
     "output_type": "execute_result"
    }
   ],
   "source": [
    "iris['species'].value_counts()"
   ]
  },
  {
   "cell_type": "code",
   "execution_count": 29,
   "metadata": {
    "ExecuteTime": {
     "end_time": "2018-06-05T01:20:04.271573Z",
     "start_time": "2018-06-05T01:20:04.252111Z"
    }
   },
   "outputs": [],
   "source": [
    "iris['species'] = iris['species'].astype('category')"
   ]
  },
  {
   "cell_type": "code",
   "execution_count": 30,
   "metadata": {
    "ExecuteTime": {
     "end_time": "2018-06-05T01:20:15.630033Z",
     "start_time": "2018-06-05T01:20:15.621707Z"
    },
    "collapsed": true
   },
   "outputs": [
    {
     "data": {
      "text/plain": [
       "sepal_length     float64\n",
       "sepal_width      float64\n",
       "petal_length     float64\n",
       "petal_width      float64\n",
       "species         category\n",
       "dtype: object"
      ]
     },
     "execution_count": 30,
     "metadata": {},
     "output_type": "execute_result"
    }
   ],
   "source": [
    "iris.dtypes"
   ]
  },
  {
   "cell_type": "code",
   "execution_count": 31,
   "metadata": {
    "ExecuteTime": {
     "end_time": "2018-06-05T01:21:34.799539Z",
     "start_time": "2018-06-05T01:21:34.522510Z"
    },
    "collapsed": true
   },
   "outputs": [
    {
     "data": {
      "text/plain": [
       "<matplotlib.axes._subplots.AxesSubplot at 0x1a1bbbf9e8>"
      ]
     },
     "execution_count": 31,
     "metadata": {},
     "output_type": "execute_result"
    },
    {
     "data": {
      "image/png": "[encoded data removed]",
      "text/plain": [
       "<matplotlib.figure.Figure at 0x1a1ba7c278>"
      ]
     },
     "metadata": {},
     "output_type": "display_data"
    }
   ],
   "source": [
    "sns.boxplot(data=iris, x='species', y='petal_length')"
   ]
  },
  {
   "cell_type": "code",
   "execution_count": 38,
   "metadata": {
    "ExecuteTime": {
     "end_time": "2018-06-05T01:50:05.343113Z",
     "start_time": "2018-06-05T01:50:05.311640Z"
    }
   },
   "outputs": [],
   "source": [
    "?pd.read_csv"
   ]
  },
  {
   "cell_type": "code",
   "execution_count": 13,
   "metadata": {
    "ExecuteTime": {
     "end_time": "2018-06-27T13:53:57.960413Z",
     "start_time": "2018-06-27T13:53:57.885505Z"
    }
   },
   "outputs": [],
   "source": [
    "sales = pd.read_csv(\"housing-data-10000.csv\", parse_dates=['date'])"
   ]
  },
  {
   "cell_type": "code",
   "execution_count": 14,
   "metadata": {
    "ExecuteTime": {
     "end_time": "2018-06-27T13:53:58.589511Z",
     "start_time": "2018-06-27T13:53:58.578828Z"
    }
   },
   "outputs": [],
   "source": [
    "sales['zipcode'] = sales['zipcode'].astype('category')\n",
    "sales['waterfront'] = sales['waterfront'].astype(bool)"
   ]
  },
  {
   "cell_type": "code",
   "execution_count": 41,
   "metadata": {
    "ExecuteTime": {
     "end_time": "2018-06-05T01:51:34.714243Z",
     "start_time": "2018-06-05T01:51:34.686523Z"
    }
   },
   "outputs": [
    {
     "data": {
      "text/html": [
       "<div>\n",
       "<style>\n",
       "    .dataframe thead tr:only-child th {\n",
       "        text-align: right;\n",
       "    }\n",
       "\n",
       "    .dataframe thead th {\n",
       "        text-align: left;\n",
       "    }\n",
       "\n",
       "    .dataframe tbody tr th {\n",
       "        vertical-align: top;\n",
       "    }\n",
       "</style>\n",
       "<table border=\"1\" class=\"dataframe\">\n",
       "  <thead>\n",
       "    <tr style=\"text-align: right;\">\n",
       "      <th></th>\n",
       "      <th>id</th>\n",
       "      <th>date</th>\n",
       "      <th>price</th>\n",
       "      <th>bedrooms</th>\n",
       "      <th>bathrooms</th>\n",
       "      <th>sqft_living</th>\n",
       "      <th>sqft_lot</th>\n",
       "      <th>floors</th>\n",
       "      <th>waterfront</th>\n",
       "      <th>view</th>\n",
       "      <th>condition</th>\n",
       "      <th>grade</th>\n",
       "      <th>sqft_above</th>\n",
       "      <th>sqft_basement</th>\n",
       "      <th>yr_built</th>\n",
       "      <th>yr_renovated</th>\n",
       "      <th>zipcode</th>\n",
       "      <th>lat</th>\n",
       "      <th>long</th>\n",
       "    </tr>\n",
       "  </thead>\n",
       "  <tbody>\n",
       "    <tr>\n",
       "      <th>0</th>\n",
       "      <td>1446800660</td>\n",
       "      <td>2015-03-16</td>\n",
       "      <td>276500.0</td>\n",
       "      <td>4</td>\n",
       "      <td>1.75</td>\n",
       "      <td>1400</td>\n",
       "      <td>6650</td>\n",
       "      <td>1.5</td>\n",
       "      <td>False</td>\n",
       "      <td>0</td>\n",
       "      <td>4</td>\n",
       "      <td>6</td>\n",
       "      <td>1400</td>\n",
       "      <td>0</td>\n",
       "      <td>1942</td>\n",
       "      <td>0</td>\n",
       "      <td>98168</td>\n",
       "      <td>47.4888</td>\n",
       "      <td>-122.332</td>\n",
       "    </tr>\n",
       "    <tr>\n",
       "      <th>1</th>\n",
       "      <td>1453601502</td>\n",
       "      <td>2015-02-26</td>\n",
       "      <td>303697.0</td>\n",
       "      <td>4</td>\n",
       "      <td>2.00</td>\n",
       "      <td>2520</td>\n",
       "      <td>7334</td>\n",
       "      <td>1.0</td>\n",
       "      <td>False</td>\n",
       "      <td>0</td>\n",
       "      <td>3</td>\n",
       "      <td>7</td>\n",
       "      <td>1600</td>\n",
       "      <td>920</td>\n",
       "      <td>1955</td>\n",
       "      <td>0</td>\n",
       "      <td>98125</td>\n",
       "      <td>47.7263</td>\n",
       "      <td>-122.291</td>\n",
       "    </tr>\n",
       "    <tr>\n",
       "      <th>2</th>\n",
       "      <td>9523103990</td>\n",
       "      <td>2014-12-08</td>\n",
       "      <td>611000.0</td>\n",
       "      <td>3</td>\n",
       "      <td>1.00</td>\n",
       "      <td>1850</td>\n",
       "      <td>5000</td>\n",
       "      <td>1.5</td>\n",
       "      <td>False</td>\n",
       "      <td>0</td>\n",
       "      <td>3</td>\n",
       "      <td>7</td>\n",
       "      <td>1850</td>\n",
       "      <td>0</td>\n",
       "      <td>1922</td>\n",
       "      <td>0</td>\n",
       "      <td>98103</td>\n",
       "      <td>47.6727</td>\n",
       "      <td>-122.351</td>\n",
       "    </tr>\n",
       "    <tr>\n",
       "      <th>3</th>\n",
       "      <td>7308600040</td>\n",
       "      <td>2014-07-23</td>\n",
       "      <td>769995.0</td>\n",
       "      <td>5</td>\n",
       "      <td>2.75</td>\n",
       "      <td>3360</td>\n",
       "      <td>12080</td>\n",
       "      <td>2.0</td>\n",
       "      <td>False</td>\n",
       "      <td>0</td>\n",
       "      <td>3</td>\n",
       "      <td>9</td>\n",
       "      <td>3360</td>\n",
       "      <td>0</td>\n",
       "      <td>2014</td>\n",
       "      <td>0</td>\n",
       "      <td>98011</td>\n",
       "      <td>47.7757</td>\n",
       "      <td>-122.173</td>\n",
       "    </tr>\n",
       "    <tr>\n",
       "      <th>4</th>\n",
       "      <td>1562200240</td>\n",
       "      <td>2014-09-18</td>\n",
       "      <td>550000.0</td>\n",
       "      <td>3</td>\n",
       "      <td>2.25</td>\n",
       "      <td>2160</td>\n",
       "      <td>15360</td>\n",
       "      <td>1.0</td>\n",
       "      <td>False</td>\n",
       "      <td>0</td>\n",
       "      <td>3</td>\n",
       "      <td>8</td>\n",
       "      <td>1410</td>\n",
       "      <td>750</td>\n",
       "      <td>1965</td>\n",
       "      <td>2000</td>\n",
       "      <td>98007</td>\n",
       "      <td>47.6232</td>\n",
       "      <td>-122.138</td>\n",
       "    </tr>\n",
       "  </tbody>\n",
       "</table>\n",
       "</div>"
      ],
      "text/plain": [
       "           id       date     price  bedrooms  bathrooms  sqft_living  \\\n",
       "0  1446800660 2015-03-16  276500.0         4       1.75         1400   \n",
       "1  1453601502 2015-02-26  303697.0         4       2.00         2520   \n",
       "2  9523103990 2014-12-08  611000.0         3       1.00         1850   \n",
       "3  7308600040 2014-07-23  769995.0         5       2.75         3360   \n",
       "4  1562200240 2014-09-18  550000.0         3       2.25         2160   \n",
       "\n",
       "   sqft_lot  floors  waterfront  view  condition  grade  sqft_above  \\\n",
       "0      6650     1.5       False     0          4      6        1400   \n",
       "1      7334     1.0       False     0          3      7        1600   \n",
       "2      5000     1.5       False     0          3      7        1850   \n",
       "3     12080     2.0       False     0          3      9        3360   \n",
       "4     15360     1.0       False     0          3      8        1410   \n",
       "\n",
       "   sqft_basement  yr_built  yr_renovated zipcode      lat     long  \n",
       "0              0      1942             0   98168  47.4888 -122.332  \n",
       "1            920      1955             0   98125  47.7263 -122.291  \n",
       "2              0      1922             0   98103  47.6727 -122.351  \n",
       "3              0      2014             0   98011  47.7757 -122.173  \n",
       "4            750      1965          2000   98007  47.6232 -122.138  "
      ]
     },
     "execution_count": 41,
     "metadata": {},
     "output_type": "execute_result"
    }
   ],
   "source": [
    "sales.head()"
   ]
  },
  {
   "cell_type": "code",
   "execution_count": 37,
   "metadata": {
    "ExecuteTime": {
     "end_time": "2018-06-05T01:48:56.691855Z",
     "start_time": "2018-06-05T01:48:56.682768Z"
    }
   },
   "outputs": [
    {
     "data": {
      "text/plain": [
       "id                        int64\n",
       "date             datetime64[ns]\n",
       "price                   float64\n",
       "bedrooms                  int64\n",
       "bathrooms               float64\n",
       "sqft_living               int64\n",
       "sqft_lot                  int64\n",
       "floors                  float64\n",
       "waterfront                int64\n",
       "view                      int64\n",
       "condition                 int64\n",
       "grade                     int64\n",
       "sqft_above                int64\n",
       "sqft_basement             int64\n",
       "yr_built                  int64\n",
       "yr_renovated              int64\n",
       "zipcode                   int64\n",
       "lat                     float64\n",
       "long                    float64\n",
       "dtype: object"
      ]
     },
     "execution_count": 37,
     "metadata": {},
     "output_type": "execute_result"
    }
   ],
   "source": [
    "sales.dtypes"
   ]
  },
  {
   "cell_type": "markdown",
   "metadata": {},
   "source": [
    "## Tidy and merge "
   ]
  },
  {
   "cell_type": "code",
   "execution_count": 43,
   "metadata": {
    "ExecuteTime": {
     "end_time": "2018-06-05T01:53:37.953701Z",
     "start_time": "2018-06-05T01:53:37.856855Z"
    },
    "scrolled": true
   },
   "outputs": [
    {
     "name": "stdout",
     "output_type": "stream",
     "text": [
      "(211, 53)\n"
     ]
    },
    {
     "data": {
      "text/html": [
       "<div>\n",
       "<style>\n",
       "    .dataframe thead tr:only-child th {\n",
       "        text-align: right;\n",
       "    }\n",
       "\n",
       "    .dataframe thead th {\n",
       "        text-align: left;\n",
       "    }\n",
       "\n",
       "    .dataframe tbody tr th {\n",
       "        vertical-align: top;\n",
       "    }\n",
       "</style>\n",
       "<table border=\"1\" class=\"dataframe\">\n",
       "  <thead>\n",
       "    <tr style=\"text-align: right;\">\n",
       "      <th></th>\n",
       "      <th>Country Name</th>\n",
       "      <th>Country Code</th>\n",
       "      <th>1960</th>\n",
       "      <th>1961</th>\n",
       "      <th>1962</th>\n",
       "      <th>1963</th>\n",
       "      <th>1964</th>\n",
       "      <th>1965</th>\n",
       "      <th>1966</th>\n",
       "      <th>1967</th>\n",
       "      <th>...</th>\n",
       "      <th>2001</th>\n",
       "      <th>2002</th>\n",
       "      <th>2003</th>\n",
       "      <th>2004</th>\n",
       "      <th>2005</th>\n",
       "      <th>2006</th>\n",
       "      <th>2007</th>\n",
       "      <th>2008</th>\n",
       "      <th>2009</th>\n",
       "      <th>2010</th>\n",
       "    </tr>\n",
       "  </thead>\n",
       "  <tbody>\n",
       "    <tr>\n",
       "      <th>0</th>\n",
       "      <td>Afghanistan</td>\n",
       "      <td>AFG</td>\n",
       "      <td>9671046</td>\n",
       "      <td>9859928.0</td>\n",
       "      <td>10056480.0</td>\n",
       "      <td>10261254.0</td>\n",
       "      <td>10474903.0</td>\n",
       "      <td>10697983</td>\n",
       "      <td>10927724.0</td>\n",
       "      <td>11163656.0</td>\n",
       "      <td>...</td>\n",
       "      <td>26697430.19</td>\n",
       "      <td>27465525.27</td>\n",
       "      <td>28255718.73</td>\n",
       "      <td>29068646.36</td>\n",
       "      <td>29904962.21</td>\n",
       "      <td>30751661.41</td>\n",
       "      <td>31622333.2</td>\n",
       "      <td>32517656.32</td>\n",
       "      <td>33438328.72</td>\n",
       "      <td>34385068.12</td>\n",
       "    </tr>\n",
       "    <tr>\n",
       "      <th>1</th>\n",
       "      <td>Albania</td>\n",
       "      <td>ALB</td>\n",
       "      <td>1610565</td>\n",
       "      <td>1661158.0</td>\n",
       "      <td>1712563.0</td>\n",
       "      <td>1764593.0</td>\n",
       "      <td>1817098.0</td>\n",
       "      <td>1869942</td>\n",
       "      <td>1922993.0</td>\n",
       "      <td>1976140.0</td>\n",
       "      <td>...</td>\n",
       "      <td>3077378.00</td>\n",
       "      <td>3089778.00</td>\n",
       "      <td>3106701.00</td>\n",
       "      <td>3124861.00</td>\n",
       "      <td>3141800.00</td>\n",
       "      <td>3156607.00</td>\n",
       "      <td>3169665.0</td>\n",
       "      <td>3181397.00</td>\n",
       "      <td>3192723.00</td>\n",
       "      <td>3204284.00</td>\n",
       "    </tr>\n",
       "    <tr>\n",
       "      <th>2</th>\n",
       "      <td>Algeria</td>\n",
       "      <td>DZA</td>\n",
       "      <td>10799997</td>\n",
       "      <td>11006643.0</td>\n",
       "      <td>11209845.0</td>\n",
       "      <td>11420845.0</td>\n",
       "      <td>11654905.0</td>\n",
       "      <td>11923002</td>\n",
       "      <td>12229853.0</td>\n",
       "      <td>12572629.0</td>\n",
       "      <td>...</td>\n",
       "      <td>30982214.00</td>\n",
       "      <td>31441848.00</td>\n",
       "      <td>31913462.00</td>\n",
       "      <td>32396048.00</td>\n",
       "      <td>32888449.00</td>\n",
       "      <td>33391954.00</td>\n",
       "      <td>33906605.0</td>\n",
       "      <td>34428028.00</td>\n",
       "      <td>34950168.00</td>\n",
       "      <td>35468208.00</td>\n",
       "    </tr>\n",
       "    <tr>\n",
       "      <th>3</th>\n",
       "      <td>American Samoa</td>\n",
       "      <td>ASM</td>\n",
       "      <td>20041</td>\n",
       "      <td>20500.0</td>\n",
       "      <td>21124.0</td>\n",
       "      <td>21870.0</td>\n",
       "      <td>22672.0</td>\n",
       "      <td>23480</td>\n",
       "      <td>24283.0</td>\n",
       "      <td>25087.0</td>\n",
       "      <td>...</td>\n",
       "      <td>58633.00</td>\n",
       "      <td>59687.00</td>\n",
       "      <td>60774.00</td>\n",
       "      <td>61871.00</td>\n",
       "      <td>62962.00</td>\n",
       "      <td>64045.00</td>\n",
       "      <td>65130.0</td>\n",
       "      <td>66217.00</td>\n",
       "      <td>67312.00</td>\n",
       "      <td>68420.00</td>\n",
       "    </tr>\n",
       "    <tr>\n",
       "      <th>4</th>\n",
       "      <td>Andorra</td>\n",
       "      <td>AND</td>\n",
       "      <td>13377</td>\n",
       "      <td>14337.0</td>\n",
       "      <td>15337.0</td>\n",
       "      <td>16373.0</td>\n",
       "      <td>17438.0</td>\n",
       "      <td>18529</td>\n",
       "      <td>19640.0</td>\n",
       "      <td>20772.0</td>\n",
       "      <td>...</td>\n",
       "      <td>66390.00</td>\n",
       "      <td>69043.00</td>\n",
       "      <td>72203.00</td>\n",
       "      <td>75292.00</td>\n",
       "      <td>77888.00</td>\n",
       "      <td>79874.00</td>\n",
       "      <td>81390.0</td>\n",
       "      <td>82577.00</td>\n",
       "      <td>83677.00</td>\n",
       "      <td>84864.00</td>\n",
       "    </tr>\n",
       "  </tbody>\n",
       "</table>\n",
       "<p>5 rows × 53 columns</p>\n",
       "</div>"
      ],
      "text/plain": [
       "     Country Name Country Code      1960        1961        1962        1963  \\\n",
       "0     Afghanistan          AFG   9671046   9859928.0  10056480.0  10261254.0   \n",
       "1         Albania          ALB   1610565   1661158.0   1712563.0   1764593.0   \n",
       "2         Algeria          DZA  10799997  11006643.0  11209845.0  11420845.0   \n",
       "3  American Samoa          ASM     20041     20500.0     21124.0     21870.0   \n",
       "4         Andorra          AND     13377     14337.0     15337.0     16373.0   \n",
       "\n",
       "         1964      1965        1966        1967     ...              2001  \\\n",
       "0  10474903.0  10697983  10927724.0  11163656.0     ...       26697430.19   \n",
       "1   1817098.0   1869942   1922993.0   1976140.0     ...        3077378.00   \n",
       "2  11654905.0  11923002  12229853.0  12572629.0     ...       30982214.00   \n",
       "3     22672.0     23480     24283.0     25087.0     ...          58633.00   \n",
       "4     17438.0     18529     19640.0     20772.0     ...          66390.00   \n",
       "\n",
       "          2002         2003         2004         2005         2006  \\\n",
       "0  27465525.27  28255718.73  29068646.36  29904962.21  30751661.41   \n",
       "1   3089778.00   3106701.00   3124861.00   3141800.00   3156607.00   \n",
       "2  31441848.00  31913462.00  32396048.00  32888449.00  33391954.00   \n",
       "3     59687.00     60774.00     61871.00     62962.00     64045.00   \n",
       "4     69043.00     72203.00     75292.00     77888.00     79874.00   \n",
       "\n",
       "         2007         2008         2009         2010  \n",
       "0  31622333.2  32517656.32  33438328.72  34385068.12  \n",
       "1   3169665.0   3181397.00   3192723.00   3204284.00  \n",
       "2  33906605.0  34428028.00  34950168.00  35468208.00  \n",
       "3     65130.0     66217.00     67312.00     68420.00  \n",
       "4     81390.0     82577.00     83677.00     84864.00  \n",
       "\n",
       "[5 rows x 53 columns]"
      ]
     },
     "execution_count": 43,
     "metadata": {},
     "output_type": "execute_result"
    }
   ],
   "source": [
    "populations = pd.read_csv(\"country_populations_by_year.csv\")\n",
    "print(populations.shape)\n",
    "populations.head()"
   ]
  },
  {
   "cell_type": "code",
   "execution_count": 48,
   "metadata": {
    "ExecuteTime": {
     "end_time": "2018-06-05T01:56:49.079224Z",
     "start_time": "2018-06-05T01:56:49.058960Z"
    }
   },
   "outputs": [
    {
     "data": {
      "text/html": [
       "<div>\n",
       "<style>\n",
       "    .dataframe thead tr:only-child th {\n",
       "        text-align: right;\n",
       "    }\n",
       "\n",
       "    .dataframe thead th {\n",
       "        text-align: left;\n",
       "    }\n",
       "\n",
       "    .dataframe tbody tr th {\n",
       "        vertical-align: top;\n",
       "    }\n",
       "</style>\n",
       "<table border=\"1\" class=\"dataframe\">\n",
       "  <thead>\n",
       "    <tr style=\"text-align: right;\">\n",
       "      <th></th>\n",
       "      <th>Country Name</th>\n",
       "      <th>Country Code</th>\n",
       "      <th>year</th>\n",
       "      <th>population</th>\n",
       "    </tr>\n",
       "  </thead>\n",
       "  <tbody>\n",
       "    <tr>\n",
       "      <th>0</th>\n",
       "      <td>Afghanistan</td>\n",
       "      <td>AFG</td>\n",
       "      <td>1960</td>\n",
       "      <td>9671046.0</td>\n",
       "    </tr>\n",
       "    <tr>\n",
       "      <th>1</th>\n",
       "      <td>Albania</td>\n",
       "      <td>ALB</td>\n",
       "      <td>1960</td>\n",
       "      <td>1610565.0</td>\n",
       "    </tr>\n",
       "    <tr>\n",
       "      <th>2</th>\n",
       "      <td>Algeria</td>\n",
       "      <td>DZA</td>\n",
       "      <td>1960</td>\n",
       "      <td>10799997.0</td>\n",
       "    </tr>\n",
       "    <tr>\n",
       "      <th>3</th>\n",
       "      <td>American Samoa</td>\n",
       "      <td>ASM</td>\n",
       "      <td>1960</td>\n",
       "      <td>20041.0</td>\n",
       "    </tr>\n",
       "    <tr>\n",
       "      <th>4</th>\n",
       "      <td>Andorra</td>\n",
       "      <td>AND</td>\n",
       "      <td>1960</td>\n",
       "      <td>13377.0</td>\n",
       "    </tr>\n",
       "  </tbody>\n",
       "</table>\n",
       "</div>"
      ],
      "text/plain": [
       "     Country Name Country Code  year  population\n",
       "0     Afghanistan          AFG  1960   9671046.0\n",
       "1         Albania          ALB  1960   1610565.0\n",
       "2         Algeria          DZA  1960  10799997.0\n",
       "3  American Samoa          ASM  1960     20041.0\n",
       "4         Andorra          AND  1960     13377.0"
      ]
     },
     "execution_count": 48,
     "metadata": {},
     "output_type": "execute_result"
    }
   ],
   "source": [
    "melted = populations.melt(id_vars=['Country Name','Country Code'], var_name='year', value_name='population')\n",
    "melted.head()"
   ]
  },
  {
   "cell_type": "code",
   "execution_count": 50,
   "metadata": {
    "ExecuteTime": {
     "end_time": "2018-06-05T01:58:22.727612Z",
     "start_time": "2018-06-05T01:58:22.718295Z"
    },
    "collapsed": true
   },
   "outputs": [],
   "source": [
    "melted['year'] = melted['year'].astype(int)"
   ]
  },
  {
   "cell_type": "code",
   "execution_count": 52,
   "metadata": {
    "ExecuteTime": {
     "end_time": "2018-06-05T01:58:53.145284Z",
     "start_time": "2018-06-05T01:58:53.118896Z"
    }
   },
   "outputs": [
    {
     "data": {
      "text/plain": [
       "2010"
      ]
     },
     "execution_count": 52,
     "metadata": {},
     "output_type": "execute_result"
    }
   ],
   "source": [
    "melted['year'].max()"
   ]
  },
  {
   "cell_type": "code",
   "execution_count": 51,
   "metadata": {
    "ExecuteTime": {
     "end_time": "2018-06-05T01:58:23.294959Z",
     "start_time": "2018-06-05T01:58:23.285130Z"
    }
   },
   "outputs": [
    {
     "data": {
      "text/plain": [
       "Country Name     object\n",
       "Country Code     object\n",
       "year              int64\n",
       "population      float64\n",
       "dtype: object"
      ]
     },
     "execution_count": 51,
     "metadata": {},
     "output_type": "execute_result"
    }
   ],
   "source": [
    "melted.dtypes"
   ]
  },
  {
   "cell_type": "code",
   "execution_count": 55,
   "metadata": {
    "ExecuteTime": {
     "end_time": "2018-06-05T02:00:24.780835Z",
     "start_time": "2018-06-05T02:00:24.763347Z"
    },
    "scrolled": true
   },
   "outputs": [
    {
     "data": {
      "text/html": [
       "<div>\n",
       "<style>\n",
       "    .dataframe thead tr:only-child th {\n",
       "        text-align: right;\n",
       "    }\n",
       "\n",
       "    .dataframe thead th {\n",
       "        text-align: left;\n",
       "    }\n",
       "\n",
       "    .dataframe tbody tr th {\n",
       "        vertical-align: top;\n",
       "    }\n",
       "</style>\n",
       "<table border=\"1\" class=\"dataframe\">\n",
       "  <thead>\n",
       "    <tr style=\"text-align: right;\">\n",
       "      <th></th>\n",
       "      <th>Country Name</th>\n",
       "      <th>Country Code</th>\n",
       "      <th>year</th>\n",
       "      <th>population</th>\n",
       "    </tr>\n",
       "  </thead>\n",
       "  <tbody>\n",
       "    <tr>\n",
       "      <th>9706</th>\n",
       "      <td>Afghanistan</td>\n",
       "      <td>AFG</td>\n",
       "      <td>2006</td>\n",
       "      <td>30751661.41</td>\n",
       "    </tr>\n",
       "    <tr>\n",
       "      <th>9707</th>\n",
       "      <td>Albania</td>\n",
       "      <td>ALB</td>\n",
       "      <td>2006</td>\n",
       "      <td>3156607.00</td>\n",
       "    </tr>\n",
       "    <tr>\n",
       "      <th>9708</th>\n",
       "      <td>Algeria</td>\n",
       "      <td>DZA</td>\n",
       "      <td>2006</td>\n",
       "      <td>33391954.00</td>\n",
       "    </tr>\n",
       "    <tr>\n",
       "      <th>9709</th>\n",
       "      <td>American Samoa</td>\n",
       "      <td>ASM</td>\n",
       "      <td>2006</td>\n",
       "      <td>64045.00</td>\n",
       "    </tr>\n",
       "    <tr>\n",
       "      <th>9710</th>\n",
       "      <td>Andorra</td>\n",
       "      <td>AND</td>\n",
       "      <td>2006</td>\n",
       "      <td>79874.00</td>\n",
       "    </tr>\n",
       "  </tbody>\n",
       "</table>\n",
       "</div>"
      ],
      "text/plain": [
       "        Country Name Country Code  year   population\n",
       "9706     Afghanistan          AFG  2006  30751661.41\n",
       "9707         Albania          ALB  2006   3156607.00\n",
       "9708         Algeria          DZA  2006  33391954.00\n",
       "9709  American Samoa          ASM  2006     64045.00\n",
       "9710         Andorra          AND  2006     79874.00"
      ]
     },
     "execution_count": 55,
     "metadata": {},
     "output_type": "execute_result"
    }
   ],
   "source": [
    "filtered = melted[melted['year'] > 2005]\n",
    "filtered.head()"
   ]
  },
  {
   "cell_type": "code",
   "execution_count": 58,
   "metadata": {
    "ExecuteTime": {
     "end_time": "2018-06-05T04:08:58.168986Z",
     "start_time": "2018-06-05T04:08:58.147576Z"
    }
   },
   "outputs": [
    {
     "data": {
      "text/html": [
       "<div>\n",
       "<style>\n",
       "    .dataframe thead tr:only-child th {\n",
       "        text-align: right;\n",
       "    }\n",
       "\n",
       "    .dataframe thead th {\n",
       "        text-align: left;\n",
       "    }\n",
       "\n",
       "    .dataframe tbody tr th {\n",
       "        vertical-align: top;\n",
       "    }\n",
       "</style>\n",
       "<table border=\"1\" class=\"dataframe\">\n",
       "  <thead>\n",
       "    <tr style=\"text-align: right;\">\n",
       "      <th></th>\n",
       "      <th>Country Name</th>\n",
       "      <th>Country Code</th>\n",
       "      <th>year</th>\n",
       "      <th>population</th>\n",
       "    </tr>\n",
       "  </thead>\n",
       "  <tbody>\n",
       "    <tr>\n",
       "      <th>9716</th>\n",
       "      <td>Australia</td>\n",
       "      <td>AUS</td>\n",
       "      <td>2006</td>\n",
       "      <td>20697900.0</td>\n",
       "    </tr>\n",
       "    <tr>\n",
       "      <th>9927</th>\n",
       "      <td>Australia</td>\n",
       "      <td>AUS</td>\n",
       "      <td>2007</td>\n",
       "      <td>21072500.0</td>\n",
       "    </tr>\n",
       "    <tr>\n",
       "      <th>10138</th>\n",
       "      <td>Australia</td>\n",
       "      <td>AUS</td>\n",
       "      <td>2008</td>\n",
       "      <td>21498500.0</td>\n",
       "    </tr>\n",
       "    <tr>\n",
       "      <th>10349</th>\n",
       "      <td>Australia</td>\n",
       "      <td>AUS</td>\n",
       "      <td>2009</td>\n",
       "      <td>21951700.0</td>\n",
       "    </tr>\n",
       "    <tr>\n",
       "      <th>10560</th>\n",
       "      <td>Australia</td>\n",
       "      <td>AUS</td>\n",
       "      <td>2010</td>\n",
       "      <td>22328800.0</td>\n",
       "    </tr>\n",
       "  </tbody>\n",
       "</table>\n",
       "</div>"
      ],
      "text/plain": [
       "      Country Name Country Code  year  population\n",
       "9716     Australia          AUS  2006  20697900.0\n",
       "9927     Australia          AUS  2007  21072500.0\n",
       "10138    Australia          AUS  2008  21498500.0\n",
       "10349    Australia          AUS  2009  21951700.0\n",
       "10560    Australia          AUS  2010  22328800.0"
      ]
     },
     "execution_count": 58,
     "metadata": {},
     "output_type": "execute_result"
    }
   ],
   "source": [
    "filtered[filtered['Country Code']=='AUS']"
   ]
  },
  {
   "cell_type": "code",
   "execution_count": 59,
   "metadata": {
    "ExecuteTime": {
     "end_time": "2018-06-05T04:09:57.055410Z",
     "start_time": "2018-06-05T04:09:57.027139Z"
    }
   },
   "outputs": [
    {
     "data": {
      "text/html": [
       "<div>\n",
       "<style>\n",
       "    .dataframe thead tr:only-child th {\n",
       "        text-align: right;\n",
       "    }\n",
       "\n",
       "    .dataframe thead th {\n",
       "        text-align: left;\n",
       "    }\n",
       "\n",
       "    .dataframe tbody tr th {\n",
       "        vertical-align: top;\n",
       "    }\n",
       "</style>\n",
       "<table border=\"1\" class=\"dataframe\">\n",
       "  <thead>\n",
       "    <tr style=\"text-align: right;\">\n",
       "      <th></th>\n",
       "      <th>Country Name</th>\n",
       "      <th>Country Code</th>\n",
       "      <th>year</th>\n",
       "      <th>population</th>\n",
       "    </tr>\n",
       "  </thead>\n",
       "  <tbody>\n",
       "    <tr>\n",
       "      <th>9716</th>\n",
       "      <td>Australia</td>\n",
       "      <td>AUS</td>\n",
       "      <td>2006</td>\n",
       "      <td>20697900.0</td>\n",
       "    </tr>\n",
       "    <tr>\n",
       "      <th>9927</th>\n",
       "      <td>Australia</td>\n",
       "      <td>AUS</td>\n",
       "      <td>2007</td>\n",
       "      <td>21072500.0</td>\n",
       "    </tr>\n",
       "    <tr>\n",
       "      <th>10138</th>\n",
       "      <td>Australia</td>\n",
       "      <td>AUS</td>\n",
       "      <td>2008</td>\n",
       "      <td>21498500.0</td>\n",
       "    </tr>\n",
       "    <tr>\n",
       "      <th>10349</th>\n",
       "      <td>Australia</td>\n",
       "      <td>AUS</td>\n",
       "      <td>2009</td>\n",
       "      <td>21951700.0</td>\n",
       "    </tr>\n",
       "    <tr>\n",
       "      <th>10560</th>\n",
       "      <td>Australia</td>\n",
       "      <td>AUS</td>\n",
       "      <td>2010</td>\n",
       "      <td>22328800.0</td>\n",
       "    </tr>\n",
       "  </tbody>\n",
       "</table>\n",
       "</div>"
      ],
      "text/plain": [
       "      Country Name Country Code  year  population\n",
       "9716     Australia          AUS  2006  20697900.0\n",
       "9927     Australia          AUS  2007  21072500.0\n",
       "10138    Australia          AUS  2008  21498500.0\n",
       "10349    Australia          AUS  2009  21951700.0\n",
       "10560    Australia          AUS  2010  22328800.0"
      ]
     },
     "execution_count": 59,
     "metadata": {},
     "output_type": "execute_result"
    }
   ],
   "source": [
    "filtered.loc[filtered['Country Code']=='AUS', :]"
   ]
  },
  {
   "cell_type": "code",
   "execution_count": 56,
   "metadata": {
    "ExecuteTime": {
     "end_time": "2018-06-05T02:01:02.563955Z",
     "start_time": "2018-06-05T02:01:02.470812Z"
    },
    "collapsed": true
   },
   "outputs": [
    {
     "data": {
      "text/html": [
       "<div>\n",
       "<style>\n",
       "    .dataframe thead tr:only-child th {\n",
       "        text-align: right;\n",
       "    }\n",
       "\n",
       "    .dataframe thead th {\n",
       "        text-align: left;\n",
       "    }\n",
       "\n",
       "    .dataframe tbody tr th {\n",
       "        vertical-align: top;\n",
       "    }\n",
       "</style>\n",
       "<table border=\"1\" class=\"dataframe\">\n",
       "  <thead>\n",
       "    <tr style=\"text-align: right;\">\n",
       "      <th>year</th>\n",
       "      <th>2006</th>\n",
       "      <th>2007</th>\n",
       "      <th>2008</th>\n",
       "      <th>2009</th>\n",
       "      <th>2010</th>\n",
       "    </tr>\n",
       "    <tr>\n",
       "      <th>Country Name</th>\n",
       "      <th></th>\n",
       "      <th></th>\n",
       "      <th></th>\n",
       "      <th></th>\n",
       "      <th></th>\n",
       "    </tr>\n",
       "  </thead>\n",
       "  <tbody>\n",
       "    <tr>\n",
       "      <th>Afghanistan</th>\n",
       "      <td>3.075166e+07</td>\n",
       "      <td>3.162233e+07</td>\n",
       "      <td>3.251766e+07</td>\n",
       "      <td>3.343833e+07</td>\n",
       "      <td>3.438507e+07</td>\n",
       "    </tr>\n",
       "    <tr>\n",
       "      <th>Albania</th>\n",
       "      <td>3.156607e+06</td>\n",
       "      <td>3.169665e+06</td>\n",
       "      <td>3.181397e+06</td>\n",
       "      <td>3.192723e+06</td>\n",
       "      <td>3.204284e+06</td>\n",
       "    </tr>\n",
       "    <tr>\n",
       "      <th>Algeria</th>\n",
       "      <td>3.339195e+07</td>\n",
       "      <td>3.390660e+07</td>\n",
       "      <td>3.442803e+07</td>\n",
       "      <td>3.495017e+07</td>\n",
       "      <td>3.546821e+07</td>\n",
       "    </tr>\n",
       "    <tr>\n",
       "      <th>American Samoa</th>\n",
       "      <td>6.404500e+04</td>\n",
       "      <td>6.513000e+04</td>\n",
       "      <td>6.621700e+04</td>\n",
       "      <td>6.731200e+04</td>\n",
       "      <td>6.842000e+04</td>\n",
       "    </tr>\n",
       "    <tr>\n",
       "      <th>Andorra</th>\n",
       "      <td>7.987400e+04</td>\n",
       "      <td>8.139000e+04</td>\n",
       "      <td>8.257700e+04</td>\n",
       "      <td>8.367700e+04</td>\n",
       "      <td>8.486400e+04</td>\n",
       "    </tr>\n",
       "    <tr>\n",
       "      <th>Angola</th>\n",
       "      <td>1.701037e+07</td>\n",
       "      <td>1.752537e+07</td>\n",
       "      <td>1.803796e+07</td>\n",
       "      <td>1.855512e+07</td>\n",
       "      <td>1.908191e+07</td>\n",
       "    </tr>\n",
       "    <tr>\n",
       "      <th>Antigua and Barbuda</th>\n",
       "      <td>8.495200e+04</td>\n",
       "      <td>8.593500e+04</td>\n",
       "      <td>8.688100e+04</td>\n",
       "      <td>8.780200e+04</td>\n",
       "      <td>8.871000e+04</td>\n",
       "    </tr>\n",
       "    <tr>\n",
       "      <th>Argentina</th>\n",
       "      <td>3.902385e+07</td>\n",
       "      <td>3.936807e+07</td>\n",
       "      <td>3.971430e+07</td>\n",
       "      <td>4.006247e+07</td>\n",
       "      <td>4.041238e+07</td>\n",
       "    </tr>\n",
       "    <tr>\n",
       "      <th>Armenia</th>\n",
       "      <td>3.069844e+06</td>\n",
       "      <td>3.074181e+06</td>\n",
       "      <td>3.079087e+06</td>\n",
       "      <td>3.084979e+06</td>\n",
       "      <td>3.092072e+06</td>\n",
       "    </tr>\n",
       "    <tr>\n",
       "      <th>Aruba</th>\n",
       "      <td>1.027110e+05</td>\n",
       "      <td>1.042250e+05</td>\n",
       "      <td>1.055260e+05</td>\n",
       "      <td>1.066120e+05</td>\n",
       "      <td>1.074880e+05</td>\n",
       "    </tr>\n",
       "    <tr>\n",
       "      <th>Australia</th>\n",
       "      <td>2.069790e+07</td>\n",
       "      <td>2.107250e+07</td>\n",
       "      <td>2.149850e+07</td>\n",
       "      <td>2.195170e+07</td>\n",
       "      <td>2.232880e+07</td>\n",
       "    </tr>\n",
       "    <tr>\n",
       "      <th>Austria</th>\n",
       "      <td>8.282424e+06</td>\n",
       "      <td>8.300788e+06</td>\n",
       "      <td>8.336926e+06</td>\n",
       "      <td>8.365275e+06</td>\n",
       "      <td>8.384745e+06</td>\n",
       "    </tr>\n",
       "    <tr>\n",
       "      <th>Azerbaijan</th>\n",
       "      <td>8.484550e+06</td>\n",
       "      <td>8.581300e+06</td>\n",
       "      <td>8.763400e+06</td>\n",
       "      <td>8.947150e+06</td>\n",
       "      <td>9.047932e+06</td>\n",
       "    </tr>\n",
       "    <tr>\n",
       "      <th>Bahamas, The</th>\n",
       "      <td>3.240660e+05</td>\n",
       "      <td>3.288610e+05</td>\n",
       "      <td>3.336610e+05</td>\n",
       "      <td>3.383580e+05</td>\n",
       "      <td>3.428770e+05</td>\n",
       "    </tr>\n",
       "    <tr>\n",
       "      <th>Bahrain</th>\n",
       "      <td>8.114100e+05</td>\n",
       "      <td>9.257330e+05</td>\n",
       "      <td>1.052359e+06</td>\n",
       "      <td>1.169578e+06</td>\n",
       "      <td>1.261835e+06</td>\n",
       "    </tr>\n",
       "    <tr>\n",
       "      <th>Bangladesh</th>\n",
       "      <td>1.423535e+08</td>\n",
       "      <td>1.439568e+08</td>\n",
       "      <td>1.454783e+08</td>\n",
       "      <td>1.470301e+08</td>\n",
       "      <td>1.486921e+08</td>\n",
       "    </tr>\n",
       "    <tr>\n",
       "      <th>Barbados</th>\n",
       "      <td>2.710620e+05</td>\n",
       "      <td>2.716180e+05</td>\n",
       "      <td>2.721800e+05</td>\n",
       "      <td>2.727500e+05</td>\n",
       "      <td>2.733310e+05</td>\n",
       "    </tr>\n",
       "    <tr>\n",
       "      <th>Belarus</th>\n",
       "      <td>9.732500e+06</td>\n",
       "      <td>9.702000e+06</td>\n",
       "      <td>9.602000e+06</td>\n",
       "      <td>9.507000e+06</td>\n",
       "      <td>9.490500e+06</td>\n",
       "    </tr>\n",
       "    <tr>\n",
       "      <th>Belgium</th>\n",
       "      <td>1.054796e+07</td>\n",
       "      <td>1.062570e+07</td>\n",
       "      <td>1.070997e+07</td>\n",
       "      <td>1.079649e+07</td>\n",
       "      <td>1.087916e+07</td>\n",
       "    </tr>\n",
       "    <tr>\n",
       "      <th>Belize</th>\n",
       "      <td>3.013860e+05</td>\n",
       "      <td>3.115000e+05</td>\n",
       "      <td>3.221000e+05</td>\n",
       "      <td>3.332000e+05</td>\n",
       "      <td>3.447000e+05</td>\n",
       "    </tr>\n",
       "    <tr>\n",
       "      <th>Benin</th>\n",
       "      <td>7.871707e+06</td>\n",
       "      <td>8.112573e+06</td>\n",
       "      <td>8.355980e+06</td>\n",
       "      <td>8.601771e+06</td>\n",
       "      <td>8.849892e+06</td>\n",
       "    </tr>\n",
       "    <tr>\n",
       "      <th>Bermuda</th>\n",
       "      <td>6.380000e+04</td>\n",
       "      <td>6.400000e+04</td>\n",
       "      <td>6.420000e+04</td>\n",
       "      <td>6.440000e+04</td>\n",
       "      <td>6.460000e+04</td>\n",
       "    </tr>\n",
       "    <tr>\n",
       "      <th>Bhutan</th>\n",
       "      <td>6.746810e+05</td>\n",
       "      <td>6.885810e+05</td>\n",
       "      <td>7.013630e+05</td>\n",
       "      <td>7.136650e+05</td>\n",
       "      <td>7.259400e+05</td>\n",
       "    </tr>\n",
       "    <tr>\n",
       "      <th>Bolivia</th>\n",
       "      <td>9.306660e+06</td>\n",
       "      <td>9.463497e+06</td>\n",
       "      <td>9.618466e+06</td>\n",
       "      <td>9.773441e+06</td>\n",
       "      <td>9.929849e+06</td>\n",
       "    </tr>\n",
       "    <tr>\n",
       "      <th>Bosnia and Herzegovina</th>\n",
       "      <td>3.781588e+06</td>\n",
       "      <td>3.779034e+06</td>\n",
       "      <td>3.774164e+06</td>\n",
       "      <td>3.767683e+06</td>\n",
       "      <td>3.760149e+06</td>\n",
       "    </tr>\n",
       "    <tr>\n",
       "      <th>Botswana</th>\n",
       "      <td>1.900905e+06</td>\n",
       "      <td>1.927540e+06</td>\n",
       "      <td>1.954822e+06</td>\n",
       "      <td>1.981576e+06</td>\n",
       "      <td>2.006945e+06</td>\n",
       "    </tr>\n",
       "    <tr>\n",
       "      <th>Brazil</th>\n",
       "      <td>1.879582e+08</td>\n",
       "      <td>1.897981e+08</td>\n",
       "      <td>1.915432e+08</td>\n",
       "      <td>1.932466e+08</td>\n",
       "      <td>1.949465e+08</td>\n",
       "    </tr>\n",
       "    <tr>\n",
       "      <th>Brunei Darussalam</th>\n",
       "      <td>3.703170e+05</td>\n",
       "      <td>3.775130e+05</td>\n",
       "      <td>3.846950e+05</td>\n",
       "      <td>3.918370e+05</td>\n",
       "      <td>3.989200e+05</td>\n",
       "    </tr>\n",
       "    <tr>\n",
       "      <th>Bulgaria</th>\n",
       "      <td>7.699020e+06</td>\n",
       "      <td>7.659764e+06</td>\n",
       "      <td>7.623395e+06</td>\n",
       "      <td>7.585131e+06</td>\n",
       "      <td>7.543325e+06</td>\n",
       "    </tr>\n",
       "    <tr>\n",
       "      <th>Burkina Faso</th>\n",
       "      <td>1.462220e+07</td>\n",
       "      <td>1.506113e+07</td>\n",
       "      <td>1.551526e+07</td>\n",
       "      <td>1.598448e+07</td>\n",
       "      <td>1.646871e+07</td>\n",
       "    </tr>\n",
       "    <tr>\n",
       "      <th>...</th>\n",
       "      <td>...</td>\n",
       "      <td>...</td>\n",
       "      <td>...</td>\n",
       "      <td>...</td>\n",
       "      <td>...</td>\n",
       "    </tr>\n",
       "    <tr>\n",
       "      <th>Swaziland</th>\n",
       "      <td>1.117604e+06</td>\n",
       "      <td>1.133007e+06</td>\n",
       "      <td>1.150344e+06</td>\n",
       "      <td>1.168345e+06</td>\n",
       "      <td>1.186056e+06</td>\n",
       "    </tr>\n",
       "    <tr>\n",
       "      <th>Sweden</th>\n",
       "      <td>9.080505e+06</td>\n",
       "      <td>9.148092e+06</td>\n",
       "      <td>9.219637e+06</td>\n",
       "      <td>9.298515e+06</td>\n",
       "      <td>9.379116e+06</td>\n",
       "    </tr>\n",
       "    <tr>\n",
       "      <th>Switzerland</th>\n",
       "      <td>7.483934e+06</td>\n",
       "      <td>7.551117e+06</td>\n",
       "      <td>7.647675e+06</td>\n",
       "      <td>7.743831e+06</td>\n",
       "      <td>7.825243e+06</td>\n",
       "    </tr>\n",
       "    <tr>\n",
       "      <th>Syrian Arab Republic</th>\n",
       "      <td>1.886094e+07</td>\n",
       "      <td>1.924544e+07</td>\n",
       "      <td>1.963778e+07</td>\n",
       "      <td>2.003811e+07</td>\n",
       "      <td>2.044661e+07</td>\n",
       "    </tr>\n",
       "    <tr>\n",
       "      <th>Tajikistan</th>\n",
       "      <td>6.524634e+06</td>\n",
       "      <td>6.604426e+06</td>\n",
       "      <td>6.691416e+06</td>\n",
       "      <td>6.783390e+06</td>\n",
       "      <td>6.878637e+06</td>\n",
       "    </tr>\n",
       "    <tr>\n",
       "      <th>Tanzania</th>\n",
       "      <td>3.992361e+07</td>\n",
       "      <td>4.106818e+07</td>\n",
       "      <td>4.226767e+07</td>\n",
       "      <td>4.352474e+07</td>\n",
       "      <td>4.484123e+07</td>\n",
       "    </tr>\n",
       "    <tr>\n",
       "      <th>Thailand</th>\n",
       "      <td>6.727638e+07</td>\n",
       "      <td>6.779645e+07</td>\n",
       "      <td>6.826798e+07</td>\n",
       "      <td>6.870612e+07</td>\n",
       "      <td>6.912223e+07</td>\n",
       "    </tr>\n",
       "    <tr>\n",
       "      <th>Timor-Leste</th>\n",
       "      <td>1.038572e+06</td>\n",
       "      <td>1.060770e+06</td>\n",
       "      <td>1.079749e+06</td>\n",
       "      <td>1.099887e+06</td>\n",
       "      <td>1.124355e+06</td>\n",
       "    </tr>\n",
       "    <tr>\n",
       "      <th>Togo</th>\n",
       "      <td>5.529908e+06</td>\n",
       "      <td>5.652811e+06</td>\n",
       "      <td>5.776837e+06</td>\n",
       "      <td>5.901859e+06</td>\n",
       "      <td>6.027798e+06</td>\n",
       "    </tr>\n",
       "    <tr>\n",
       "      <th>Tonga</th>\n",
       "      <td>1.015840e+05</td>\n",
       "      <td>1.022540e+05</td>\n",
       "      <td>1.029100e+05</td>\n",
       "      <td>1.035190e+05</td>\n",
       "      <td>1.040580e+05</td>\n",
       "    </tr>\n",
       "    <tr>\n",
       "      <th>Trinidad and Tobago</th>\n",
       "      <td>1.320418e+06</td>\n",
       "      <td>1.325672e+06</td>\n",
       "      <td>1.331040e+06</td>\n",
       "      <td>1.336349e+06</td>\n",
       "      <td>1.341465e+06</td>\n",
       "    </tr>\n",
       "    <tr>\n",
       "      <th>Tunisia</th>\n",
       "      <td>1.012790e+07</td>\n",
       "      <td>1.022510e+07</td>\n",
       "      <td>1.032890e+07</td>\n",
       "      <td>1.043960e+07</td>\n",
       "      <td>1.054910e+07</td>\n",
       "    </tr>\n",
       "    <tr>\n",
       "      <th>Turkey</th>\n",
       "      <td>6.906354e+07</td>\n",
       "      <td>6.999275e+07</td>\n",
       "      <td>7.092373e+07</td>\n",
       "      <td>7.184621e+07</td>\n",
       "      <td>7.275232e+07</td>\n",
       "    </tr>\n",
       "    <tr>\n",
       "      <th>Turkmenistan</th>\n",
       "      <td>4.801847e+06</td>\n",
       "      <td>4.858843e+06</td>\n",
       "      <td>4.918396e+06</td>\n",
       "      <td>4.979672e+06</td>\n",
       "      <td>5.041995e+06</td>\n",
       "    </tr>\n",
       "    <tr>\n",
       "      <th>Turks and Caicos Islands</th>\n",
       "      <td>3.259000e+04</td>\n",
       "      <td>3.440400e+04</td>\n",
       "      <td>3.596000e+04</td>\n",
       "      <td>3.727100e+04</td>\n",
       "      <td>3.835400e+04</td>\n",
       "    </tr>\n",
       "    <tr>\n",
       "      <th>Tuvalu</th>\n",
       "      <td>9.732000e+03</td>\n",
       "      <td>9.762000e+03</td>\n",
       "      <td>9.786000e+03</td>\n",
       "      <td>9.806000e+03</td>\n",
       "      <td>9.827000e+03</td>\n",
       "    </tr>\n",
       "    <tr>\n",
       "      <th>Uganda</th>\n",
       "      <td>2.937025e+07</td>\n",
       "      <td>3.033990e+07</td>\n",
       "      <td>3.133939e+07</td>\n",
       "      <td>3.236791e+07</td>\n",
       "      <td>3.342468e+07</td>\n",
       "    </tr>\n",
       "    <tr>\n",
       "      <th>Ukraine</th>\n",
       "      <td>4.678775e+07</td>\n",
       "      <td>4.650935e+07</td>\n",
       "      <td>4.625820e+07</td>\n",
       "      <td>4.605330e+07</td>\n",
       "      <td>4.587070e+07</td>\n",
       "    </tr>\n",
       "    <tr>\n",
       "      <th>United Arab Emirates</th>\n",
       "      <td>4.662728e+06</td>\n",
       "      <td>5.405541e+06</td>\n",
       "      <td>6.206623e+06</td>\n",
       "      <td>6.938815e+06</td>\n",
       "      <td>7.511690e+06</td>\n",
       "    </tr>\n",
       "    <tr>\n",
       "      <th>United Kingdom</th>\n",
       "      <td>6.059563e+07</td>\n",
       "      <td>6.098665e+07</td>\n",
       "      <td>6.139352e+07</td>\n",
       "      <td>6.180157e+07</td>\n",
       "      <td>6.221876e+07</td>\n",
       "    </tr>\n",
       "    <tr>\n",
       "      <th>United States</th>\n",
       "      <td>2.985930e+08</td>\n",
       "      <td>3.015800e+08</td>\n",
       "      <td>3.043750e+08</td>\n",
       "      <td>3.070070e+08</td>\n",
       "      <td>3.090508e+08</td>\n",
       "    </tr>\n",
       "    <tr>\n",
       "      <th>Uruguay</th>\n",
       "      <td>3.314466e+06</td>\n",
       "      <td>3.323906e+06</td>\n",
       "      <td>3.334052e+06</td>\n",
       "      <td>3.344938e+06</td>\n",
       "      <td>3.356584e+06</td>\n",
       "    </tr>\n",
       "    <tr>\n",
       "      <th>Uzbekistan</th>\n",
       "      <td>2.648580e+07</td>\n",
       "      <td>2.686780e+07</td>\n",
       "      <td>2.731370e+07</td>\n",
       "      <td>2.776710e+07</td>\n",
       "      <td>2.816036e+07</td>\n",
       "    </tr>\n",
       "    <tr>\n",
       "      <th>Vanuatu</th>\n",
       "      <td>2.167600e+05</td>\n",
       "      <td>2.223770e+05</td>\n",
       "      <td>2.280410e+05</td>\n",
       "      <td>2.337900e+05</td>\n",
       "      <td>2.396510e+05</td>\n",
       "    </tr>\n",
       "    <tr>\n",
       "      <th>Venezuela, RB</th>\n",
       "      <td>2.703100e+07</td>\n",
       "      <td>2.748300e+07</td>\n",
       "      <td>2.793500e+07</td>\n",
       "      <td>2.838400e+07</td>\n",
       "      <td>2.883400e+07</td>\n",
       "    </tr>\n",
       "    <tr>\n",
       "      <th>Vietnam</th>\n",
       "      <td>8.331300e+07</td>\n",
       "      <td>8.422110e+07</td>\n",
       "      <td>8.512230e+07</td>\n",
       "      <td>8.602460e+07</td>\n",
       "      <td>8.693646e+07</td>\n",
       "    </tr>\n",
       "    <tr>\n",
       "      <th>Virgin Islands (U.S.)</th>\n",
       "      <td>1.097640e+05</td>\n",
       "      <td>1.098210e+05</td>\n",
       "      <td>1.098400e+05</td>\n",
       "      <td>1.098250e+05</td>\n",
       "      <td>1.097750e+05</td>\n",
       "    </tr>\n",
       "    <tr>\n",
       "      <th>Yemen, Rep.</th>\n",
       "      <td>2.128807e+07</td>\n",
       "      <td>2.194699e+07</td>\n",
       "      <td>2.262660e+07</td>\n",
       "      <td>2.332821e+07</td>\n",
       "      <td>2.405251e+07</td>\n",
       "    </tr>\n",
       "    <tr>\n",
       "      <th>Zambia</th>\n",
       "      <td>1.175010e+07</td>\n",
       "      <td>1.205538e+07</td>\n",
       "      <td>1.237961e+07</td>\n",
       "      <td>1.272375e+07</td>\n",
       "      <td>1.292641e+07</td>\n",
       "    </tr>\n",
       "    <tr>\n",
       "      <th>Zimbabwe</th>\n",
       "      <td>1.252966e+07</td>\n",
       "      <td>1.248124e+07</td>\n",
       "      <td>1.245154e+07</td>\n",
       "      <td>1.247399e+07</td>\n",
       "      <td>1.257145e+07</td>\n",
       "    </tr>\n",
       "  </tbody>\n",
       "</table>\n",
       "<p>211 rows × 5 columns</p>\n",
       "</div>"
      ],
      "text/plain": [
       "year                              2006          2007          2008  \\\n",
       "Country Name                                                         \n",
       "Afghanistan               3.075166e+07  3.162233e+07  3.251766e+07   \n",
       "Albania                   3.156607e+06  3.169665e+06  3.181397e+06   \n",
       "Algeria                   3.339195e+07  3.390660e+07  3.442803e+07   \n",
       "American Samoa            6.404500e+04  6.513000e+04  6.621700e+04   \n",
       "Andorra                   7.987400e+04  8.139000e+04  8.257700e+04   \n",
       "Angola                    1.701037e+07  1.752537e+07  1.803796e+07   \n",
       "Antigua and Barbuda       8.495200e+04  8.593500e+04  8.688100e+04   \n",
       "Argentina                 3.902385e+07  3.936807e+07  3.971430e+07   \n",
       "Armenia                   3.069844e+06  3.074181e+06  3.079087e+06   \n",
       "Aruba                     1.027110e+05  1.042250e+05  1.055260e+05   \n",
       "Australia                 2.069790e+07  2.107250e+07  2.149850e+07   \n",
       "Austria                   8.282424e+06  8.300788e+06  8.336926e+06   \n",
       "Azerbaijan                8.484550e+06  8.581300e+06  8.763400e+06   \n",
       "Bahamas, The              3.240660e+05  3.288610e+05  3.336610e+05   \n",
       "Bahrain                   8.114100e+05  9.257330e+05  1.052359e+06   \n",
       "Bangladesh                1.423535e+08  1.439568e+08  1.454783e+08   \n",
       "Barbados                  2.710620e+05  2.716180e+05  2.721800e+05   \n",
       "Belarus                   9.732500e+06  9.702000e+06  9.602000e+06   \n",
       "Belgium                   1.054796e+07  1.062570e+07  1.070997e+07   \n",
       "Belize                    3.013860e+05  3.115000e+05  3.221000e+05   \n",
       "Benin                     7.871707e+06  8.112573e+06  8.355980e+06   \n",
       "Bermuda                   6.380000e+04  6.400000e+04  6.420000e+04   \n",
       "Bhutan                    6.746810e+05  6.885810e+05  7.013630e+05   \n",
       "Bolivia                   9.306660e+06  9.463497e+06  9.618466e+06   \n",
       "Bosnia and Herzegovina    3.781588e+06  3.779034e+06  3.774164e+06   \n",
       "Botswana                  1.900905e+06  1.927540e+06  1.954822e+06   \n",
       "Brazil                    1.879582e+08  1.897981e+08  1.915432e+08   \n",
       "Brunei Darussalam         3.703170e+05  3.775130e+05  3.846950e+05   \n",
       "Bulgaria                  7.699020e+06  7.659764e+06  7.623395e+06   \n",
       "Burkina Faso              1.462220e+07  1.506113e+07  1.551526e+07   \n",
       "...                                ...           ...           ...   \n",
       "Swaziland                 1.117604e+06  1.133007e+06  1.150344e+06   \n",
       "Sweden                    9.080505e+06  9.148092e+06  9.219637e+06   \n",
       "Switzerland               7.483934e+06  7.551117e+06  7.647675e+06   \n",
       "Syrian Arab Republic      1.886094e+07  1.924544e+07  1.963778e+07   \n",
       "Tajikistan                6.524634e+06  6.604426e+06  6.691416e+06   \n",
       "Tanzania                  3.992361e+07  4.106818e+07  4.226767e+07   \n",
       "Thailand                  6.727638e+07  6.779645e+07  6.826798e+07   \n",
       "Timor-Leste               1.038572e+06  1.060770e+06  1.079749e+06   \n",
       "Togo                      5.529908e+06  5.652811e+06  5.776837e+06   \n",
       "Tonga                     1.015840e+05  1.022540e+05  1.029100e+05   \n",
       "Trinidad and Tobago       1.320418e+06  1.325672e+06  1.331040e+06   \n",
       "Tunisia                   1.012790e+07  1.022510e+07  1.032890e+07   \n",
       "Turkey                    6.906354e+07  6.999275e+07  7.092373e+07   \n",
       "Turkmenistan              4.801847e+06  4.858843e+06  4.918396e+06   \n",
       "Turks and Caicos Islands  3.259000e+04  3.440400e+04  3.596000e+04   \n",
       "Tuvalu                    9.732000e+03  9.762000e+03  9.786000e+03   \n",
       "Uganda                    2.937025e+07  3.033990e+07  3.133939e+07   \n",
       "Ukraine                   4.678775e+07  4.650935e+07  4.625820e+07   \n",
       "United Arab Emirates      4.662728e+06  5.405541e+06  6.206623e+06   \n",
       "United Kingdom            6.059563e+07  6.098665e+07  6.139352e+07   \n",
       "United States             2.985930e+08  3.015800e+08  3.043750e+08   \n",
       "Uruguay                   3.314466e+06  3.323906e+06  3.334052e+06   \n",
       "Uzbekistan                2.648580e+07  2.686780e+07  2.731370e+07   \n",
       "Vanuatu                   2.167600e+05  2.223770e+05  2.280410e+05   \n",
       "Venezuela, RB             2.703100e+07  2.748300e+07  2.793500e+07   \n",
       "Vietnam                   8.331300e+07  8.422110e+07  8.512230e+07   \n",
       "Virgin Islands (U.S.)     1.097640e+05  1.098210e+05  1.098400e+05   \n",
       "Yemen, Rep.               2.128807e+07  2.194699e+07  2.262660e+07   \n",
       "Zambia                    1.175010e+07  1.205538e+07  1.237961e+07   \n",
       "Zimbabwe                  1.252966e+07  1.248124e+07  1.245154e+07   \n",
       "\n",
       "year                              2009          2010  \n",
       "Country Name                                          \n",
       "Afghanistan               3.343833e+07  3.438507e+07  \n",
       "Albania                   3.192723e+06  3.204284e+06  \n",
       "Algeria                   3.495017e+07  3.546821e+07  \n",
       "American Samoa            6.731200e+04  6.842000e+04  \n",
       "Andorra                   8.367700e+04  8.486400e+04  \n",
       "Angola                    1.855512e+07  1.908191e+07  \n",
       "Antigua and Barbuda       8.780200e+04  8.871000e+04  \n",
       "Argentina                 4.006247e+07  4.041238e+07  \n",
       "Armenia                   3.084979e+06  3.092072e+06  \n",
       "Aruba                     1.066120e+05  1.074880e+05  \n",
       "Australia                 2.195170e+07  2.232880e+07  \n",
       "Austria                   8.365275e+06  8.384745e+06  \n",
       "Azerbaijan                8.947150e+06  9.047932e+06  \n",
       "Bahamas, The              3.383580e+05  3.428770e+05  \n",
       "Bahrain                   1.169578e+06  1.261835e+06  \n",
       "Bangladesh                1.470301e+08  1.486921e+08  \n",
       "Barbados                  2.727500e+05  2.733310e+05  \n",
       "Belarus                   9.507000e+06  9.490500e+06  \n",
       "Belgium                   1.079649e+07  1.087916e+07  \n",
       "Belize                    3.332000e+05  3.447000e+05  \n",
       "Benin                     8.601771e+06  8.849892e+06  \n",
       "Bermuda                   6.440000e+04  6.460000e+04  \n",
       "Bhutan                    7.136650e+05  7.259400e+05  \n",
       "Bolivia                   9.773441e+06  9.929849e+06  \n",
       "Bosnia and Herzegovina    3.767683e+06  3.760149e+06  \n",
       "Botswana                  1.981576e+06  2.006945e+06  \n",
       "Brazil                    1.932466e+08  1.949465e+08  \n",
       "Brunei Darussalam         3.918370e+05  3.989200e+05  \n",
       "Bulgaria                  7.585131e+06  7.543325e+06  \n",
       "Burkina Faso              1.598448e+07  1.646871e+07  \n",
       "...                                ...           ...  \n",
       "Swaziland                 1.168345e+06  1.186056e+06  \n",
       "Sweden                    9.298515e+06  9.379116e+06  \n",
       "Switzerland               7.743831e+06  7.825243e+06  \n",
       "Syrian Arab Republic      2.003811e+07  2.044661e+07  \n",
       "Tajikistan                6.783390e+06  6.878637e+06  \n",
       "Tanzania                  4.352474e+07  4.484123e+07  \n",
       "Thailand                  6.870612e+07  6.912223e+07  \n",
       "Timor-Leste               1.099887e+06  1.124355e+06  \n",
       "Togo                      5.901859e+06  6.027798e+06  \n",
       "Tonga                     1.035190e+05  1.040580e+05  \n",
       "Trinidad and Tobago       1.336349e+06  1.341465e+06  \n",
       "Tunisia                   1.043960e+07  1.054910e+07  \n",
       "Turkey                    7.184621e+07  7.275232e+07  \n",
       "Turkmenistan              4.979672e+06  5.041995e+06  \n",
       "Turks and Caicos Islands  3.727100e+04  3.835400e+04  \n",
       "Tuvalu                    9.806000e+03  9.827000e+03  \n",
       "Uganda                    3.236791e+07  3.342468e+07  \n",
       "Ukraine                   4.605330e+07  4.587070e+07  \n",
       "United Arab Emirates      6.938815e+06  7.511690e+06  \n",
       "United Kingdom            6.180157e+07  6.221876e+07  \n",
       "United States             3.070070e+08  3.090508e+08  \n",
       "Uruguay                   3.344938e+06  3.356584e+06  \n",
       "Uzbekistan                2.776710e+07  2.816036e+07  \n",
       "Vanuatu                   2.337900e+05  2.396510e+05  \n",
       "Venezuela, RB             2.838400e+07  2.883400e+07  \n",
       "Vietnam                   8.602460e+07  8.693646e+07  \n",
       "Virgin Islands (U.S.)     1.098250e+05  1.097750e+05  \n",
       "Yemen, Rep.               2.332821e+07  2.405251e+07  \n",
       "Zambia                    1.272375e+07  1.292641e+07  \n",
       "Zimbabwe                  1.247399e+07  1.257145e+07  \n",
       "\n",
       "[211 rows x 5 columns]"
      ]
     },
     "execution_count": 56,
     "metadata": {},
     "output_type": "execute_result"
    }
   ],
   "source": [
    "filtered.pivot_table(index='Country Name',columns='year',values='population')"
   ]
  },
  {
   "cell_type": "code",
   "execution_count": 60,
   "metadata": {
    "ExecuteTime": {
     "end_time": "2018-06-05T04:10:35.496595Z",
     "start_time": "2018-06-05T04:10:35.432931Z"
    }
   },
   "outputs": [
    {
     "data": {
      "text/html": [
       "<div>\n",
       "<style>\n",
       "    .dataframe thead tr:only-child th {\n",
       "        text-align: right;\n",
       "    }\n",
       "\n",
       "    .dataframe thead th {\n",
       "        text-align: left;\n",
       "    }\n",
       "\n",
       "    .dataframe tbody tr th {\n",
       "        vertical-align: top;\n",
       "    }\n",
       "</style>\n",
       "<table border=\"1\" class=\"dataframe\">\n",
       "  <thead>\n",
       "    <tr style=\"text-align: right;\">\n",
       "      <th></th>\n",
       "      <th>Country Name</th>\n",
       "      <th>Country Code</th>\n",
       "      <th>year</th>\n",
       "      <th>population</th>\n",
       "    </tr>\n",
       "  </thead>\n",
       "  <tbody>\n",
       "    <tr>\n",
       "      <th>0</th>\n",
       "      <td>Afghanistan</td>\n",
       "      <td>AFG</td>\n",
       "      <td>1960</td>\n",
       "      <td>9671046.0</td>\n",
       "    </tr>\n",
       "    <tr>\n",
       "      <th>1</th>\n",
       "      <td>Albania</td>\n",
       "      <td>ALB</td>\n",
       "      <td>1960</td>\n",
       "      <td>1610565.0</td>\n",
       "    </tr>\n",
       "    <tr>\n",
       "      <th>2</th>\n",
       "      <td>Algeria</td>\n",
       "      <td>DZA</td>\n",
       "      <td>1960</td>\n",
       "      <td>10799997.0</td>\n",
       "    </tr>\n",
       "    <tr>\n",
       "      <th>3</th>\n",
       "      <td>American Samoa</td>\n",
       "      <td>ASM</td>\n",
       "      <td>1960</td>\n",
       "      <td>20041.0</td>\n",
       "    </tr>\n",
       "    <tr>\n",
       "      <th>4</th>\n",
       "      <td>Andorra</td>\n",
       "      <td>AND</td>\n",
       "      <td>1960</td>\n",
       "      <td>13377.0</td>\n",
       "    </tr>\n",
       "  </tbody>\n",
       "</table>\n",
       "</div>"
      ],
      "text/plain": [
       "     Country Name Country Code  year  population\n",
       "0     Afghanistan          AFG  1960   9671046.0\n",
       "1         Albania          ALB  1960   1610565.0\n",
       "2         Algeria          DZA  1960  10799997.0\n",
       "3  American Samoa          ASM  1960     20041.0\n",
       "4         Andorra          AND  1960     13377.0"
      ]
     },
     "execution_count": 60,
     "metadata": {},
     "output_type": "execute_result"
    }
   ],
   "source": [
    "melted.head()"
   ]
  },
  {
   "cell_type": "code",
   "execution_count": 61,
   "metadata": {
    "ExecuteTime": {
     "end_time": "2018-06-05T04:10:55.660390Z",
     "start_time": "2018-06-05T04:10:55.615738Z"
    },
    "collapsed": true
   },
   "outputs": [],
   "source": [
    "continents = pd.read_csv(\"countries-continents.csv\")"
   ]
  },
  {
   "cell_type": "code",
   "execution_count": 62,
   "metadata": {
    "ExecuteTime": {
     "end_time": "2018-06-05T04:11:01.998687Z",
     "start_time": "2018-06-05T04:11:01.984399Z"
    }
   },
   "outputs": [
    {
     "data": {
      "text/html": [
       "<div>\n",
       "<style>\n",
       "    .dataframe thead tr:only-child th {\n",
       "        text-align: right;\n",
       "    }\n",
       "\n",
       "    .dataframe thead th {\n",
       "        text-align: left;\n",
       "    }\n",
       "\n",
       "    .dataframe tbody tr th {\n",
       "        vertical-align: top;\n",
       "    }\n",
       "</style>\n",
       "<table border=\"1\" class=\"dataframe\">\n",
       "  <thead>\n",
       "    <tr style=\"text-align: right;\">\n",
       "      <th></th>\n",
       "      <th>Continent</th>\n",
       "      <th>Country</th>\n",
       "    </tr>\n",
       "  </thead>\n",
       "  <tbody>\n",
       "    <tr>\n",
       "      <th>0</th>\n",
       "      <td>Africa</td>\n",
       "      <td>Algeria</td>\n",
       "    </tr>\n",
       "    <tr>\n",
       "      <th>1</th>\n",
       "      <td>Africa</td>\n",
       "      <td>Angola</td>\n",
       "    </tr>\n",
       "    <tr>\n",
       "      <th>2</th>\n",
       "      <td>Africa</td>\n",
       "      <td>Benin</td>\n",
       "    </tr>\n",
       "    <tr>\n",
       "      <th>3</th>\n",
       "      <td>Africa</td>\n",
       "      <td>Botswana</td>\n",
       "    </tr>\n",
       "    <tr>\n",
       "      <th>4</th>\n",
       "      <td>Africa</td>\n",
       "      <td>Burkina</td>\n",
       "    </tr>\n",
       "  </tbody>\n",
       "</table>\n",
       "</div>"
      ],
      "text/plain": [
       "  Continent   Country\n",
       "0    Africa   Algeria\n",
       "1    Africa    Angola\n",
       "2    Africa     Benin\n",
       "3    Africa  Botswana\n",
       "4    Africa   Burkina"
      ]
     },
     "execution_count": 62,
     "metadata": {},
     "output_type": "execute_result"
    }
   ],
   "source": [
    "continents.head()"
   ]
  },
  {
   "cell_type": "code",
   "execution_count": 63,
   "metadata": {
    "ExecuteTime": {
     "end_time": "2018-06-05T04:12:07.882273Z",
     "start_time": "2018-06-05T04:12:07.852512Z"
    }
   },
   "outputs": [
    {
     "data": {
      "text/plain": [
       "(10761, 4)"
      ]
     },
     "execution_count": 63,
     "metadata": {},
     "output_type": "execute_result"
    }
   ],
   "source": [
    "melted.shape"
   ]
  },
  {
   "cell_type": "code",
   "execution_count": 64,
   "metadata": {
    "ExecuteTime": {
     "end_time": "2018-06-05T04:12:18.112255Z",
     "start_time": "2018-06-05T04:12:18.102311Z"
    }
   },
   "outputs": [
    {
     "data": {
      "text/plain": [
       "(194, 2)"
      ]
     },
     "execution_count": 64,
     "metadata": {},
     "output_type": "execute_result"
    }
   ],
   "source": [
    "continents.shape"
   ]
  },
  {
   "cell_type": "code",
   "execution_count": 67,
   "metadata": {
    "ExecuteTime": {
     "end_time": "2018-06-05T04:14:13.327056Z",
     "start_time": "2018-06-05T04:14:13.288828Z"
    }
   },
   "outputs": [
    {
     "data": {
      "text/html": [
       "<div>\n",
       "<style>\n",
       "    .dataframe thead tr:only-child th {\n",
       "        text-align: right;\n",
       "    }\n",
       "\n",
       "    .dataframe thead th {\n",
       "        text-align: left;\n",
       "    }\n",
       "\n",
       "    .dataframe tbody tr th {\n",
       "        vertical-align: top;\n",
       "    }\n",
       "</style>\n",
       "<table border=\"1\" class=\"dataframe\">\n",
       "  <thead>\n",
       "    <tr style=\"text-align: right;\">\n",
       "      <th></th>\n",
       "      <th>Country Name</th>\n",
       "      <th>Country Code</th>\n",
       "      <th>year</th>\n",
       "      <th>population</th>\n",
       "      <th>Continent</th>\n",
       "      <th>Country</th>\n",
       "    </tr>\n",
       "  </thead>\n",
       "  <tbody>\n",
       "    <tr>\n",
       "      <th>0</th>\n",
       "      <td>Afghanistan</td>\n",
       "      <td>AFG</td>\n",
       "      <td>1960</td>\n",
       "      <td>9671046.0</td>\n",
       "      <td>Asia</td>\n",
       "      <td>Afghanistan</td>\n",
       "    </tr>\n",
       "    <tr>\n",
       "      <th>1</th>\n",
       "      <td>Afghanistan</td>\n",
       "      <td>AFG</td>\n",
       "      <td>1961</td>\n",
       "      <td>9859928.0</td>\n",
       "      <td>Asia</td>\n",
       "      <td>Afghanistan</td>\n",
       "    </tr>\n",
       "    <tr>\n",
       "      <th>2</th>\n",
       "      <td>Afghanistan</td>\n",
       "      <td>AFG</td>\n",
       "      <td>1962</td>\n",
       "      <td>10056480.0</td>\n",
       "      <td>Asia</td>\n",
       "      <td>Afghanistan</td>\n",
       "    </tr>\n",
       "    <tr>\n",
       "      <th>3</th>\n",
       "      <td>Afghanistan</td>\n",
       "      <td>AFG</td>\n",
       "      <td>1963</td>\n",
       "      <td>10261254.0</td>\n",
       "      <td>Asia</td>\n",
       "      <td>Afghanistan</td>\n",
       "    </tr>\n",
       "    <tr>\n",
       "      <th>4</th>\n",
       "      <td>Afghanistan</td>\n",
       "      <td>AFG</td>\n",
       "      <td>1964</td>\n",
       "      <td>10474903.0</td>\n",
       "      <td>Asia</td>\n",
       "      <td>Afghanistan</td>\n",
       "    </tr>\n",
       "  </tbody>\n",
       "</table>\n",
       "</div>"
      ],
      "text/plain": [
       "  Country Name Country Code  year  population Continent      Country\n",
       "0  Afghanistan          AFG  1960   9671046.0      Asia  Afghanistan\n",
       "1  Afghanistan          AFG  1961   9859928.0      Asia  Afghanistan\n",
       "2  Afghanistan          AFG  1962  10056480.0      Asia  Afghanistan\n",
       "3  Afghanistan          AFG  1963  10261254.0      Asia  Afghanistan\n",
       "4  Afghanistan          AFG  1964  10474903.0      Asia  Afghanistan"
      ]
     },
     "execution_count": 67,
     "metadata": {},
     "output_type": "execute_result"
    }
   ],
   "source": [
    "continent_populations = pd.merge(melted, continents, left_on=\"Country Name\", right_on=\"Country\")\n",
    "continent_populations.head()"
   ]
  },
  {
   "cell_type": "code",
   "execution_count": 68,
   "metadata": {
    "ExecuteTime": {
     "end_time": "2018-06-05T04:15:04.554757Z",
     "start_time": "2018-06-05T04:15:04.535625Z"
    },
    "collapsed": true
   },
   "outputs": [],
   "source": [
    "continent_populations.drop(\"Country Name\", axis=1, inplace=True)"
   ]
  },
  {
   "cell_type": "code",
   "execution_count": 69,
   "metadata": {
    "ExecuteTime": {
     "end_time": "2018-06-05T04:15:10.401757Z",
     "start_time": "2018-06-05T04:15:10.386600Z"
    }
   },
   "outputs": [
    {
     "data": {
      "text/html": [
       "<div>\n",
       "<style>\n",
       "    .dataframe thead tr:only-child th {\n",
       "        text-align: right;\n",
       "    }\n",
       "\n",
       "    .dataframe thead th {\n",
       "        text-align: left;\n",
       "    }\n",
       "\n",
       "    .dataframe tbody tr th {\n",
       "        vertical-align: top;\n",
       "    }\n",
       "</style>\n",
       "<table border=\"1\" class=\"dataframe\">\n",
       "  <thead>\n",
       "    <tr style=\"text-align: right;\">\n",
       "      <th></th>\n",
       "      <th>Country Code</th>\n",
       "      <th>year</th>\n",
       "      <th>population</th>\n",
       "      <th>Continent</th>\n",
       "      <th>Country</th>\n",
       "    </tr>\n",
       "  </thead>\n",
       "  <tbody>\n",
       "    <tr>\n",
       "      <th>0</th>\n",
       "      <td>AFG</td>\n",
       "      <td>1960</td>\n",
       "      <td>9671046.0</td>\n",
       "      <td>Asia</td>\n",
       "      <td>Afghanistan</td>\n",
       "    </tr>\n",
       "    <tr>\n",
       "      <th>1</th>\n",
       "      <td>AFG</td>\n",
       "      <td>1961</td>\n",
       "      <td>9859928.0</td>\n",
       "      <td>Asia</td>\n",
       "      <td>Afghanistan</td>\n",
       "    </tr>\n",
       "    <tr>\n",
       "      <th>2</th>\n",
       "      <td>AFG</td>\n",
       "      <td>1962</td>\n",
       "      <td>10056480.0</td>\n",
       "      <td>Asia</td>\n",
       "      <td>Afghanistan</td>\n",
       "    </tr>\n",
       "    <tr>\n",
       "      <th>3</th>\n",
       "      <td>AFG</td>\n",
       "      <td>1963</td>\n",
       "      <td>10261254.0</td>\n",
       "      <td>Asia</td>\n",
       "      <td>Afghanistan</td>\n",
       "    </tr>\n",
       "    <tr>\n",
       "      <th>4</th>\n",
       "      <td>AFG</td>\n",
       "      <td>1964</td>\n",
       "      <td>10474903.0</td>\n",
       "      <td>Asia</td>\n",
       "      <td>Afghanistan</td>\n",
       "    </tr>\n",
       "  </tbody>\n",
       "</table>\n",
       "</div>"
      ],
      "text/plain": [
       "  Country Code  year  population Continent      Country\n",
       "0          AFG  1960   9671046.0      Asia  Afghanistan\n",
       "1          AFG  1961   9859928.0      Asia  Afghanistan\n",
       "2          AFG  1962  10056480.0      Asia  Afghanistan\n",
       "3          AFG  1963  10261254.0      Asia  Afghanistan\n",
       "4          AFG  1964  10474903.0      Asia  Afghanistan"
      ]
     },
     "execution_count": 69,
     "metadata": {},
     "output_type": "execute_result"
    }
   ],
   "source": [
    "continent_populations.head()"
   ]
  },
  {
   "cell_type": "code",
   "execution_count": 75,
   "metadata": {
    "ExecuteTime": {
     "end_time": "2018-06-05T04:21:05.681365Z",
     "start_time": "2018-06-05T04:21:05.661886Z"
    }
   },
   "outputs": [
    {
     "data": {
      "text/html": [
       "<div>\n",
       "<style>\n",
       "    .dataframe thead tr:only-child th {\n",
       "        text-align: right;\n",
       "    }\n",
       "\n",
       "    .dataframe thead th {\n",
       "        text-align: left;\n",
       "    }\n",
       "\n",
       "    .dataframe tbody tr th {\n",
       "        vertical-align: top;\n",
       "    }\n",
       "</style>\n",
       "<table border=\"1\" class=\"dataframe\">\n",
       "  <thead>\n",
       "    <tr style=\"text-align: right;\">\n",
       "      <th></th>\n",
       "      <th>Continent</th>\n",
       "      <th>year</th>\n",
       "      <th>population</th>\n",
       "    </tr>\n",
       "  </thead>\n",
       "  <tbody>\n",
       "    <tr>\n",
       "      <th>0</th>\n",
       "      <td>Africa</td>\n",
       "      <td>1960</td>\n",
       "      <td>2.331543e+08</td>\n",
       "    </tr>\n",
       "    <tr>\n",
       "      <th>1</th>\n",
       "      <td>Africa</td>\n",
       "      <td>1961</td>\n",
       "      <td>2.387601e+08</td>\n",
       "    </tr>\n",
       "    <tr>\n",
       "      <th>2</th>\n",
       "      <td>Africa</td>\n",
       "      <td>1962</td>\n",
       "      <td>2.445166e+08</td>\n",
       "    </tr>\n",
       "    <tr>\n",
       "      <th>3</th>\n",
       "      <td>Africa</td>\n",
       "      <td>1963</td>\n",
       "      <td>2.504416e+08</td>\n",
       "    </tr>\n",
       "    <tr>\n",
       "      <th>4</th>\n",
       "      <td>Africa</td>\n",
       "      <td>1964</td>\n",
       "      <td>2.565534e+08</td>\n",
       "    </tr>\n",
       "  </tbody>\n",
       "</table>\n",
       "</div>"
      ],
      "text/plain": [
       "  Continent  year    population\n",
       "0    Africa  1960  2.331543e+08\n",
       "1    Africa  1961  2.387601e+08\n",
       "2    Africa  1962  2.445166e+08\n",
       "3    Africa  1963  2.504416e+08\n",
       "4    Africa  1964  2.565534e+08"
      ]
     },
     "execution_count": 75,
     "metadata": {},
     "output_type": "execute_result"
    }
   ],
   "source": [
    "totals = continent_populations.groupby(['Continent','year']).sum()\n",
    "totals.reset_index(inplace=True)\n",
    "totals.head()"
   ]
  },
  {
   "cell_type": "code",
   "execution_count": 76,
   "metadata": {
    "ExecuteTime": {
     "end_time": "2018-06-05T04:23:00.986002Z",
     "start_time": "2018-06-05T04:22:59.592205Z"
    }
   },
   "outputs": [
    {
     "data": {
      "text/plain": [
       "<seaborn.axisgrid.FacetGrid at 0x1a1bf7e5c0>"
      ]
     },
     "execution_count": 76,
     "metadata": {},
     "output_type": "execute_result"
    },
    {
     "data": {
      "image/png": "[encoded data removed]",
      "text/plain": [
       "<matplotlib.figure.Figure at 0x1a1d9e67f0>"
      ]
     },
     "metadata": {},
     "output_type": "display_data"
    }
   ],
   "source": [
    "sns.lmplot(data=totals, x='year', y='population', hue='Continent')"
   ]
  },
  {
   "cell_type": "markdown",
   "metadata": {},
   "source": [
    "### Housing exercise solutions"
   ]
  },
  {
   "cell_type": "markdown",
   "metadata": {},
   "source": [
    "Tidy wide-form data exercise:"
   ]
  },
  {
   "cell_type": "code",
   "execution_count": 10,
   "metadata": {
    "ExecuteTime": {
     "end_time": "2018-06-27T13:53:25.772433Z",
     "start_time": "2018-06-27T13:53:25.757704Z"
    }
   },
   "outputs": [
    {
     "data": {
      "text/html": [
       "<div>\n",
       "<style scoped>\n",
       "    .dataframe tbody tr th:only-of-type {\n",
       "        vertical-align: middle;\n",
       "    }\n",
       "\n",
       "    .dataframe tbody tr th {\n",
       "        vertical-align: top;\n",
       "    }\n",
       "\n",
       "    .dataframe thead th {\n",
       "        text-align: right;\n",
       "    }\n",
       "</style>\n",
       "<table border=\"1\" class=\"dataframe\">\n",
       "  <thead>\n",
       "    <tr style=\"text-align: right;\">\n",
       "      <th></th>\n",
       "      <th>property_id</th>\n",
       "      <th>bedrooms</th>\n",
       "      <th>date1</th>\n",
       "      <th>date2</th>\n",
       "    </tr>\n",
       "  </thead>\n",
       "  <tbody>\n",
       "    <tr>\n",
       "      <th>0</th>\n",
       "      <td>5631500400</td>\n",
       "      <td>2</td>\n",
       "      <td>2015-02-25</td>\n",
       "      <td>NaT</td>\n",
       "    </tr>\n",
       "    <tr>\n",
       "      <th>1</th>\n",
       "      <td>6021501535</td>\n",
       "      <td>3</td>\n",
       "      <td>2014-07-25</td>\n",
       "      <td>2014-12-23</td>\n",
       "    </tr>\n",
       "    <tr>\n",
       "      <th>2</th>\n",
       "      <td>7129300520</td>\n",
       "      <td>3</td>\n",
       "      <td>2014-10-13</td>\n",
       "      <td>NaT</td>\n",
       "    </tr>\n",
       "  </tbody>\n",
       "</table>\n",
       "</div>"
      ],
      "text/plain": [
       "   property_id  bedrooms      date1      date2\n",
       "0   5631500400         2 2015-02-25        NaT\n",
       "1   6021501535         3 2014-07-25 2014-12-23\n",
       "2   7129300520         3 2014-10-13        NaT"
      ]
     },
     "execution_count": 10,
     "metadata": {},
     "output_type": "execute_result"
    }
   ],
   "source": [
    "sales_wide = pd.read_csv('housing-data-wide1.csv', parse_dates=['date1','date2'])\n",
    "sales_wide"
   ]
  },
  {
   "cell_type": "code",
   "execution_count": 12,
   "metadata": {
    "ExecuteTime": {
     "end_time": "2018-06-27T13:53:48.955719Z",
     "start_time": "2018-06-27T13:53:48.937632Z"
    }
   },
   "outputs": [
    {
     "data": {
      "text/html": [
       "<div>\n",
       "<style scoped>\n",
       "    .dataframe tbody tr th:only-of-type {\n",
       "        vertical-align: middle;\n",
       "    }\n",
       "\n",
       "    .dataframe tbody tr th {\n",
       "        vertical-align: top;\n",
       "    }\n",
       "\n",
       "    .dataframe thead th {\n",
       "        text-align: right;\n",
       "    }\n",
       "</style>\n",
       "<table border=\"1\" class=\"dataframe\">\n",
       "  <thead>\n",
       "    <tr style=\"text-align: right;\">\n",
       "      <th></th>\n",
       "      <th>property_id</th>\n",
       "      <th>bedrooms</th>\n",
       "      <th>variable</th>\n",
       "      <th>date</th>\n",
       "    </tr>\n",
       "  </thead>\n",
       "  <tbody>\n",
       "    <tr>\n",
       "      <th>0</th>\n",
       "      <td>5631500400</td>\n",
       "      <td>2</td>\n",
       "      <td>date1</td>\n",
       "      <td>2015-02-25</td>\n",
       "    </tr>\n",
       "    <tr>\n",
       "      <th>1</th>\n",
       "      <td>6021501535</td>\n",
       "      <td>3</td>\n",
       "      <td>date1</td>\n",
       "      <td>2014-07-25</td>\n",
       "    </tr>\n",
       "    <tr>\n",
       "      <th>2</th>\n",
       "      <td>7129300520</td>\n",
       "      <td>3</td>\n",
       "      <td>date1</td>\n",
       "      <td>2014-10-13</td>\n",
       "    </tr>\n",
       "    <tr>\n",
       "      <th>3</th>\n",
       "      <td>5631500400</td>\n",
       "      <td>2</td>\n",
       "      <td>date2</td>\n",
       "      <td>NaT</td>\n",
       "    </tr>\n",
       "    <tr>\n",
       "      <th>4</th>\n",
       "      <td>6021501535</td>\n",
       "      <td>3</td>\n",
       "      <td>date2</td>\n",
       "      <td>2014-12-23</td>\n",
       "    </tr>\n",
       "    <tr>\n",
       "      <th>5</th>\n",
       "      <td>7129300520</td>\n",
       "      <td>3</td>\n",
       "      <td>date2</td>\n",
       "      <td>NaT</td>\n",
       "    </tr>\n",
       "  </tbody>\n",
       "</table>\n",
       "</div>"
      ],
      "text/plain": [
       "   property_id  bedrooms variable       date\n",
       "0   5631500400         2    date1 2015-02-25\n",
       "1   6021501535         3    date1 2014-07-25\n",
       "2   7129300520         3    date1 2014-10-13\n",
       "3   5631500400         2    date2        NaT\n",
       "4   6021501535         3    date2 2014-12-23\n",
       "5   7129300520         3    date2        NaT"
      ]
     },
     "execution_count": 12,
     "metadata": {},
     "output_type": "execute_result"
    }
   ],
   "source": [
    "sales_long = sales_wide1.melt(id_vars=['property_id','bedrooms'], value_name='date')\n",
    "sales_long"
   ]
  },
  {
   "cell_type": "code",
   "execution_count": 15,
   "metadata": {
    "ExecuteTime": {
     "end_time": "2018-06-27T13:54:29.270209Z",
     "start_time": "2018-06-27T13:54:29.226256Z"
    }
   },
   "outputs": [
    {
     "data": {
      "text/html": [
       "<div>\n",
       "<style scoped>\n",
       "    .dataframe tbody tr th:only-of-type {\n",
       "        vertical-align: middle;\n",
       "    }\n",
       "\n",
       "    .dataframe tbody tr th {\n",
       "        vertical-align: top;\n",
       "    }\n",
       "\n",
       "    .dataframe thead th {\n",
       "        text-align: right;\n",
       "    }\n",
       "</style>\n",
       "<table border=\"1\" class=\"dataframe\">\n",
       "  <thead>\n",
       "    <tr style=\"text-align: right;\">\n",
       "      <th></th>\n",
       "      <th>property_id</th>\n",
       "      <th>bedrooms</th>\n",
       "      <th>date</th>\n",
       "    </tr>\n",
       "  </thead>\n",
       "  <tbody>\n",
       "    <tr>\n",
       "      <th>0</th>\n",
       "      <td>5631500400</td>\n",
       "      <td>2</td>\n",
       "      <td>2015-02-25</td>\n",
       "    </tr>\n",
       "    <tr>\n",
       "      <th>1</th>\n",
       "      <td>6021501535</td>\n",
       "      <td>3</td>\n",
       "      <td>2014-07-25</td>\n",
       "    </tr>\n",
       "    <tr>\n",
       "      <th>2</th>\n",
       "      <td>7129300520</td>\n",
       "      <td>3</td>\n",
       "      <td>2014-10-13</td>\n",
       "    </tr>\n",
       "    <tr>\n",
       "      <th>4</th>\n",
       "      <td>6021501535</td>\n",
       "      <td>3</td>\n",
       "      <td>2014-12-23</td>\n",
       "    </tr>\n",
       "  </tbody>\n",
       "</table>\n",
       "</div>"
      ],
      "text/plain": [
       "   property_id  bedrooms       date\n",
       "0   5631500400         2 2015-02-25\n",
       "1   6021501535         3 2014-07-25\n",
       "2   7129300520         3 2014-10-13\n",
       "4   6021501535         3 2014-12-23"
      ]
     },
     "execution_count": 15,
     "metadata": {},
     "output_type": "execute_result"
    }
   ],
   "source": [
    "sales_long.drop(\"variable\", axis=1, inplace=True)\n",
    "sales_long.dropna(how='any', axis=0, inplace=True)  # or e.g. sales = sales[~sales['date'].isnull()]\n",
    "sales_long"
   ]
  },
  {
   "cell_type": "code",
   "execution_count": 16,
   "metadata": {
    "ExecuteTime": {
     "end_time": "2018-06-27T13:56:03.629050Z",
     "start_time": "2018-06-27T13:56:03.547111Z"
    }
   },
   "outputs": [
    {
     "data": {
      "text/html": [
       "<div>\n",
       "<style scoped>\n",
       "    .dataframe tbody tr th:only-of-type {\n",
       "        vertical-align: middle;\n",
       "    }\n",
       "\n",
       "    .dataframe tbody tr th {\n",
       "        vertical-align: top;\n",
       "    }\n",
       "\n",
       "    .dataframe thead th {\n",
       "        text-align: right;\n",
       "    }\n",
       "</style>\n",
       "<table border=\"1\" class=\"dataframe\">\n",
       "  <thead>\n",
       "    <tr style=\"text-align: right;\">\n",
       "      <th>variable</th>\n",
       "      <th>date1</th>\n",
       "      <th>date2</th>\n",
       "    </tr>\n",
       "    <tr>\n",
       "      <th>property_id</th>\n",
       "      <th></th>\n",
       "      <th></th>\n",
       "    </tr>\n",
       "  </thead>\n",
       "  <tbody>\n",
       "    <tr>\n",
       "      <th>5631500400</th>\n",
       "      <td>2015-02-25</td>\n",
       "      <td>NaT</td>\n",
       "    </tr>\n",
       "    <tr>\n",
       "      <th>6021501535</th>\n",
       "      <td>2014-07-25</td>\n",
       "      <td>2014-12-23</td>\n",
       "    </tr>\n",
       "    <tr>\n",
       "      <th>7129300520</th>\n",
       "      <td>2014-10-13</td>\n",
       "      <td>NaT</td>\n",
       "    </tr>\n",
       "  </tbody>\n",
       "</table>\n",
       "</div>"
      ],
      "text/plain": [
       "variable         date1      date2\n",
       "property_id                      \n",
       "5631500400  2015-02-25        NaT\n",
       "6021501535  2014-07-25 2014-12-23\n",
       "7129300520  2014-10-13        NaT"
      ]
     },
     "execution_count": 16,
     "metadata": {},
     "output_type": "execute_result"
    }
   ],
   "source": [
    "# show that pivot can do the inverse of melt\n",
    "sales = sales_wide1.melt(id_vars=['property_id', 'bedrooms'], value_name='date')\n",
    "sales.pivot(index='property_id', columns='variable', values='date')"
   ]
  },
  {
   "cell_type": "markdown",
   "metadata": {},
   "source": [
    "Merge exercise:"
   ]
  },
  {
   "cell_type": "code",
   "execution_count": 19,
   "metadata": {
    "ExecuteTime": {
     "end_time": "2018-06-27T13:58:08.148207Z",
     "start_time": "2018-06-27T13:58:08.076819Z"
    }
   },
   "outputs": [
    {
     "name": "stdout",
     "output_type": "stream",
     "text": [
      "(72, 11)\n"
     ]
    },
    {
     "data": {
      "text/html": [
       "<div>\n",
       "<style scoped>\n",
       "    .dataframe tbody tr th:only-of-type {\n",
       "        vertical-align: middle;\n",
       "    }\n",
       "\n",
       "    .dataframe tbody tr th {\n",
       "        vertical-align: top;\n",
       "    }\n",
       "\n",
       "    .dataframe thead th {\n",
       "        text-align: right;\n",
       "    }\n",
       "</style>\n",
       "<table border=\"1\" class=\"dataframe\">\n",
       "  <thead>\n",
       "    <tr style=\"text-align: right;\">\n",
       "      <th></th>\n",
       "      <th>property_id</th>\n",
       "      <th>bedrooms</th>\n",
       "      <th>bathrooms</th>\n",
       "      <th>sqft_living</th>\n",
       "      <th>sqft_lot</th>\n",
       "      <th>waterfront</th>\n",
       "      <th>view</th>\n",
       "      <th>grade</th>\n",
       "      <th>zipcode</th>\n",
       "      <th>lat</th>\n",
       "      <th>long</th>\n",
       "    </tr>\n",
       "  </thead>\n",
       "  <tbody>\n",
       "    <tr>\n",
       "      <th>0</th>\n",
       "      <td>641900050</td>\n",
       "      <td>4</td>\n",
       "      <td>2.25</td>\n",
       "      <td>2160</td>\n",
       "      <td>8817</td>\n",
       "      <td>False</td>\n",
       "      <td>0</td>\n",
       "      <td>7</td>\n",
       "      <td>98133</td>\n",
       "      <td>47.7595</td>\n",
       "      <td>-122.356</td>\n",
       "    </tr>\n",
       "    <tr>\n",
       "      <th>1</th>\n",
       "      <td>2561340020</td>\n",
       "      <td>3</td>\n",
       "      <td>1.75</td>\n",
       "      <td>1780</td>\n",
       "      <td>11096</td>\n",
       "      <td>False</td>\n",
       "      <td>0</td>\n",
       "      <td>7</td>\n",
       "      <td>98074</td>\n",
       "      <td>47.6170</td>\n",
       "      <td>-122.051</td>\n",
       "    </tr>\n",
       "    <tr>\n",
       "      <th>2</th>\n",
       "      <td>4443800385</td>\n",
       "      <td>2</td>\n",
       "      <td>1.00</td>\n",
       "      <td>1480</td>\n",
       "      <td>4080</td>\n",
       "      <td>False</td>\n",
       "      <td>0</td>\n",
       "      <td>7</td>\n",
       "      <td>98117</td>\n",
       "      <td>47.6842</td>\n",
       "      <td>-122.393</td>\n",
       "    </tr>\n",
       "    <tr>\n",
       "      <th>3</th>\n",
       "      <td>4139420590</td>\n",
       "      <td>4</td>\n",
       "      <td>3.50</td>\n",
       "      <td>4560</td>\n",
       "      <td>16643</td>\n",
       "      <td>False</td>\n",
       "      <td>3</td>\n",
       "      <td>12</td>\n",
       "      <td>98006</td>\n",
       "      <td>47.5521</td>\n",
       "      <td>-122.115</td>\n",
       "    </tr>\n",
       "    <tr>\n",
       "      <th>4</th>\n",
       "      <td>1954420170</td>\n",
       "      <td>3</td>\n",
       "      <td>2.50</td>\n",
       "      <td>2150</td>\n",
       "      <td>7484</td>\n",
       "      <td>False</td>\n",
       "      <td>0</td>\n",
       "      <td>8</td>\n",
       "      <td>98074</td>\n",
       "      <td>47.6191</td>\n",
       "      <td>-122.043</td>\n",
       "    </tr>\n",
       "  </tbody>\n",
       "</table>\n",
       "</div>"
      ],
      "text/plain": [
       "   property_id  bedrooms  bathrooms  sqft_living  sqft_lot  waterfront  view  \\\n",
       "0    641900050         4       2.25         2160      8817       False     0   \n",
       "1   2561340020         3       1.75         1780     11096       False     0   \n",
       "2   4443800385         2       1.00         1480      4080       False     0   \n",
       "3   4139420590         4       3.50         4560     16643       False     3   \n",
       "4   1954420170         3       2.50         2150      7484       False     0   \n",
       "\n",
       "   grade  zipcode      lat     long  \n",
       "0      7    98133  47.7595 -122.356  \n",
       "1      7    98074  47.6170 -122.051  \n",
       "2      7    98117  47.6842 -122.393  \n",
       "3     12    98006  47.5521 -122.115  \n",
       "4      8    98074  47.6191 -122.043  "
      ]
     },
     "execution_count": 19,
     "metadata": {},
     "output_type": "execute_result"
    }
   ],
   "source": [
    "properties = pd.read_csv('houses-property-details.csv')\n",
    "print(properties.shape)\n",
    "properties.head()"
   ]
  },
  {
   "cell_type": "code",
   "execution_count": 20,
   "metadata": {
    "ExecuteTime": {
     "end_time": "2018-06-27T13:58:17.496428Z",
     "start_time": "2018-06-27T13:58:17.467532Z"
    }
   },
   "outputs": [
    {
     "name": "stdout",
     "output_type": "stream",
     "text": [
      "(72, 4)\n"
     ]
    },
    {
     "data": {
      "text/html": [
       "<div>\n",
       "<style scoped>\n",
       "    .dataframe tbody tr th:only-of-type {\n",
       "        vertical-align: middle;\n",
       "    }\n",
       "\n",
       "    .dataframe tbody tr th {\n",
       "        vertical-align: top;\n",
       "    }\n",
       "\n",
       "    .dataframe thead th {\n",
       "        text-align: right;\n",
       "    }\n",
       "</style>\n",
       "<table border=\"1\" class=\"dataframe\">\n",
       "  <thead>\n",
       "    <tr style=\"text-align: right;\">\n",
       "      <th></th>\n",
       "      <th>sale_id</th>\n",
       "      <th>property_id</th>\n",
       "      <th>date</th>\n",
       "      <th>price</th>\n",
       "    </tr>\n",
       "  </thead>\n",
       "  <tbody>\n",
       "    <tr>\n",
       "      <th>0</th>\n",
       "      <td>0</td>\n",
       "      <td>7387500235</td>\n",
       "      <td>2014-05-15</td>\n",
       "      <td>340000.0</td>\n",
       "    </tr>\n",
       "    <tr>\n",
       "      <th>1</th>\n",
       "      <td>1</td>\n",
       "      <td>7972000010</td>\n",
       "      <td>2014-05-20</td>\n",
       "      <td>120750.0</td>\n",
       "    </tr>\n",
       "    <tr>\n",
       "      <th>2</th>\n",
       "      <td>2</td>\n",
       "      <td>4139420590</td>\n",
       "      <td>2014-05-20</td>\n",
       "      <td>1212500.0</td>\n",
       "    </tr>\n",
       "    <tr>\n",
       "      <th>3</th>\n",
       "      <td>3</td>\n",
       "      <td>1954420170</td>\n",
       "      <td>2014-05-21</td>\n",
       "      <td>368250.0</td>\n",
       "    </tr>\n",
       "    <tr>\n",
       "      <th>4</th>\n",
       "      <td>4</td>\n",
       "      <td>3185600040</td>\n",
       "      <td>2014-05-22</td>\n",
       "      <td>180000.0</td>\n",
       "    </tr>\n",
       "  </tbody>\n",
       "</table>\n",
       "</div>"
      ],
      "text/plain": [
       "   sale_id  property_id        date      price\n",
       "0        0   7387500235  2014-05-15   340000.0\n",
       "1        1   7972000010  2014-05-20   120750.0\n",
       "2        2   4139420590  2014-05-20  1212500.0\n",
       "3        3   1954420170  2014-05-21   368250.0\n",
       "4        4   3185600040  2014-05-22   180000.0"
      ]
     },
     "execution_count": 20,
     "metadata": {},
     "output_type": "execute_result"
    }
   ],
   "source": [
    "salesonly = pd.read_csv('houses-sale-details.csv')\n",
    "print(salesonly.shape)\n",
    "salesonly.head()"
   ]
  },
  {
   "cell_type": "code",
   "execution_count": 23,
   "metadata": {
    "ExecuteTime": {
     "end_time": "2018-06-27T13:59:07.938150Z",
     "start_time": "2018-06-27T13:59:07.903988Z"
    }
   },
   "outputs": [
    {
     "name": "stdout",
     "output_type": "stream",
     "text": [
      "(144, 14)\n"
     ]
    },
    {
     "data": {
      "text/html": [
       "<div>\n",
       "<style scoped>\n",
       "    .dataframe tbody tr th:only-of-type {\n",
       "        vertical-align: middle;\n",
       "    }\n",
       "\n",
       "    .dataframe tbody tr th {\n",
       "        vertical-align: top;\n",
       "    }\n",
       "\n",
       "    .dataframe thead th {\n",
       "        text-align: right;\n",
       "    }\n",
       "</style>\n",
       "<table border=\"1\" class=\"dataframe\">\n",
       "  <thead>\n",
       "    <tr style=\"text-align: right;\">\n",
       "      <th></th>\n",
       "      <th>sale_id</th>\n",
       "      <th>property_id</th>\n",
       "      <th>date</th>\n",
       "      <th>price</th>\n",
       "      <th>bedrooms</th>\n",
       "      <th>bathrooms</th>\n",
       "      <th>sqft_living</th>\n",
       "      <th>sqft_lot</th>\n",
       "      <th>waterfront</th>\n",
       "      <th>view</th>\n",
       "      <th>grade</th>\n",
       "      <th>zipcode</th>\n",
       "      <th>lat</th>\n",
       "      <th>long</th>\n",
       "    </tr>\n",
       "  </thead>\n",
       "  <tbody>\n",
       "    <tr>\n",
       "      <th>0</th>\n",
       "      <td>0</td>\n",
       "      <td>7387500235</td>\n",
       "      <td>2014-05-15</td>\n",
       "      <td>340000.0</td>\n",
       "      <td>3</td>\n",
       "      <td>1.75</td>\n",
       "      <td>1960</td>\n",
       "      <td>8136</td>\n",
       "      <td>False</td>\n",
       "      <td>0</td>\n",
       "      <td>7</td>\n",
       "      <td>98106</td>\n",
       "      <td>47.5208</td>\n",
       "      <td>-122.364</td>\n",
       "    </tr>\n",
       "    <tr>\n",
       "      <th>1</th>\n",
       "      <td>0</td>\n",
       "      <td>7387500235</td>\n",
       "      <td>2014-05-15</td>\n",
       "      <td>340000.0</td>\n",
       "      <td>3</td>\n",
       "      <td>1.75</td>\n",
       "      <td>1960</td>\n",
       "      <td>8136</td>\n",
       "      <td>False</td>\n",
       "      <td>0</td>\n",
       "      <td>7</td>\n",
       "      <td>98106</td>\n",
       "      <td>47.5208</td>\n",
       "      <td>-122.364</td>\n",
       "    </tr>\n",
       "    <tr>\n",
       "      <th>2</th>\n",
       "      <td>55</td>\n",
       "      <td>7387500235</td>\n",
       "      <td>2015-03-17</td>\n",
       "      <td>363000.0</td>\n",
       "      <td>3</td>\n",
       "      <td>1.75</td>\n",
       "      <td>1960</td>\n",
       "      <td>8136</td>\n",
       "      <td>False</td>\n",
       "      <td>0</td>\n",
       "      <td>7</td>\n",
       "      <td>98106</td>\n",
       "      <td>47.5208</td>\n",
       "      <td>-122.364</td>\n",
       "    </tr>\n",
       "    <tr>\n",
       "      <th>3</th>\n",
       "      <td>55</td>\n",
       "      <td>7387500235</td>\n",
       "      <td>2015-03-17</td>\n",
       "      <td>363000.0</td>\n",
       "      <td>3</td>\n",
       "      <td>1.75</td>\n",
       "      <td>1960</td>\n",
       "      <td>8136</td>\n",
       "      <td>False</td>\n",
       "      <td>0</td>\n",
       "      <td>7</td>\n",
       "      <td>98106</td>\n",
       "      <td>47.5208</td>\n",
       "      <td>-122.364</td>\n",
       "    </tr>\n",
       "    <tr>\n",
       "      <th>4</th>\n",
       "      <td>1</td>\n",
       "      <td>7972000010</td>\n",
       "      <td>2014-05-20</td>\n",
       "      <td>120750.0</td>\n",
       "      <td>3</td>\n",
       "      <td>1.75</td>\n",
       "      <td>1140</td>\n",
       "      <td>9628</td>\n",
       "      <td>False</td>\n",
       "      <td>0</td>\n",
       "      <td>7</td>\n",
       "      <td>98023</td>\n",
       "      <td>47.2933</td>\n",
       "      <td>-122.372</td>\n",
       "    </tr>\n",
       "  </tbody>\n",
       "</table>\n",
       "</div>"
      ],
      "text/plain": [
       "   sale_id  property_id        date     price  bedrooms  bathrooms  \\\n",
       "0        0   7387500235  2014-05-15  340000.0         3       1.75   \n",
       "1        0   7387500235  2014-05-15  340000.0         3       1.75   \n",
       "2       55   7387500235  2015-03-17  363000.0         3       1.75   \n",
       "3       55   7387500235  2015-03-17  363000.0         3       1.75   \n",
       "4        1   7972000010  2014-05-20  120750.0         3       1.75   \n",
       "\n",
       "   sqft_living  sqft_lot  waterfront  view  grade  zipcode      lat     long  \n",
       "0         1960      8136       False     0      7    98106  47.5208 -122.364  \n",
       "1         1960      8136       False     0      7    98106  47.5208 -122.364  \n",
       "2         1960      8136       False     0      7    98106  47.5208 -122.364  \n",
       "3         1960      8136       False     0      7    98106  47.5208 -122.364  \n",
       "4         1140      9628       False     0      7    98023  47.2933 -122.372  "
      ]
     },
     "execution_count": 23,
     "metadata": {},
     "output_type": "execute_result"
    }
   ],
   "source": [
    "sales_merged = pd.merge(salesonly, properties, on='property_id')\n",
    "print(sales_merged.shape)\n",
    "sales_merged.head()"
   ]
  },
  {
   "cell_type": "markdown",
   "metadata": {},
   "source": [
    "## Some plots "
   ]
  },
  {
   "cell_type": "code",
   "execution_count": 77,
   "metadata": {
    "ExecuteTime": {
     "end_time": "2018-06-05T05:03:02.765576Z",
     "start_time": "2018-06-05T05:03:01.105344Z"
    }
   },
   "outputs": [
    {
     "data": {
      "text/html": [
       "<div>\n",
       "<style>\n",
       "    .dataframe thead tr:only-child th {\n",
       "        text-align: right;\n",
       "    }\n",
       "\n",
       "    .dataframe thead th {\n",
       "        text-align: left;\n",
       "    }\n",
       "\n",
       "    .dataframe tbody tr th {\n",
       "        vertical-align: top;\n",
       "    }\n",
       "</style>\n",
       "<table border=\"1\" class=\"dataframe\">\n",
       "  <thead>\n",
       "    <tr style=\"text-align: right;\">\n",
       "      <th></th>\n",
       "      <th>id</th>\n",
       "      <th>date</th>\n",
       "      <th>price</th>\n",
       "      <th>bedrooms</th>\n",
       "      <th>bathrooms</th>\n",
       "      <th>sqft_living</th>\n",
       "      <th>sqft_lot</th>\n",
       "      <th>floors</th>\n",
       "      <th>waterfront</th>\n",
       "      <th>view</th>\n",
       "      <th>condition</th>\n",
       "      <th>grade</th>\n",
       "      <th>sqft_above</th>\n",
       "      <th>sqft_basement</th>\n",
       "      <th>yr_built</th>\n",
       "      <th>yr_renovated</th>\n",
       "      <th>zipcode</th>\n",
       "      <th>lat</th>\n",
       "      <th>long</th>\n",
       "    </tr>\n",
       "  </thead>\n",
       "  <tbody>\n",
       "    <tr>\n",
       "      <th>0</th>\n",
       "      <td>1446800660</td>\n",
       "      <td>2015-03-16</td>\n",
       "      <td>276500.0</td>\n",
       "      <td>4</td>\n",
       "      <td>1.75</td>\n",
       "      <td>1400</td>\n",
       "      <td>6650</td>\n",
       "      <td>1.5</td>\n",
       "      <td>False</td>\n",
       "      <td>0</td>\n",
       "      <td>4</td>\n",
       "      <td>6</td>\n",
       "      <td>1400</td>\n",
       "      <td>0</td>\n",
       "      <td>1942</td>\n",
       "      <td>0</td>\n",
       "      <td>98168</td>\n",
       "      <td>47.4888</td>\n",
       "      <td>-122.332</td>\n",
       "    </tr>\n",
       "    <tr>\n",
       "      <th>1</th>\n",
       "      <td>1453601502</td>\n",
       "      <td>2015-02-26</td>\n",
       "      <td>303697.0</td>\n",
       "      <td>4</td>\n",
       "      <td>2.00</td>\n",
       "      <td>2520</td>\n",
       "      <td>7334</td>\n",
       "      <td>1.0</td>\n",
       "      <td>False</td>\n",
       "      <td>0</td>\n",
       "      <td>3</td>\n",
       "      <td>7</td>\n",
       "      <td>1600</td>\n",
       "      <td>920</td>\n",
       "      <td>1955</td>\n",
       "      <td>0</td>\n",
       "      <td>98125</td>\n",
       "      <td>47.7263</td>\n",
       "      <td>-122.291</td>\n",
       "    </tr>\n",
       "    <tr>\n",
       "      <th>2</th>\n",
       "      <td>9523103990</td>\n",
       "      <td>2014-12-08</td>\n",
       "      <td>611000.0</td>\n",
       "      <td>3</td>\n",
       "      <td>1.00</td>\n",
       "      <td>1850</td>\n",
       "      <td>5000</td>\n",
       "      <td>1.5</td>\n",
       "      <td>False</td>\n",
       "      <td>0</td>\n",
       "      <td>3</td>\n",
       "      <td>7</td>\n",
       "      <td>1850</td>\n",
       "      <td>0</td>\n",
       "      <td>1922</td>\n",
       "      <td>0</td>\n",
       "      <td>98103</td>\n",
       "      <td>47.6727</td>\n",
       "      <td>-122.351</td>\n",
       "    </tr>\n",
       "    <tr>\n",
       "      <th>3</th>\n",
       "      <td>7308600040</td>\n",
       "      <td>2014-07-23</td>\n",
       "      <td>769995.0</td>\n",
       "      <td>5</td>\n",
       "      <td>2.75</td>\n",
       "      <td>3360</td>\n",
       "      <td>12080</td>\n",
       "      <td>2.0</td>\n",
       "      <td>False</td>\n",
       "      <td>0</td>\n",
       "      <td>3</td>\n",
       "      <td>9</td>\n",
       "      <td>3360</td>\n",
       "      <td>0</td>\n",
       "      <td>2014</td>\n",
       "      <td>0</td>\n",
       "      <td>98011</td>\n",
       "      <td>47.7757</td>\n",
       "      <td>-122.173</td>\n",
       "    </tr>\n",
       "    <tr>\n",
       "      <th>4</th>\n",
       "      <td>1562200240</td>\n",
       "      <td>2014-09-18</td>\n",
       "      <td>550000.0</td>\n",
       "      <td>3</td>\n",
       "      <td>2.25</td>\n",
       "      <td>2160</td>\n",
       "      <td>15360</td>\n",
       "      <td>1.0</td>\n",
       "      <td>False</td>\n",
       "      <td>0</td>\n",
       "      <td>3</td>\n",
       "      <td>8</td>\n",
       "      <td>1410</td>\n",
       "      <td>750</td>\n",
       "      <td>1965</td>\n",
       "      <td>2000</td>\n",
       "      <td>98007</td>\n",
       "      <td>47.6232</td>\n",
       "      <td>-122.138</td>\n",
       "    </tr>\n",
       "  </tbody>\n",
       "</table>\n",
       "</div>"
      ],
      "text/plain": [
       "           id       date     price  bedrooms  bathrooms  sqft_living  \\\n",
       "0  1446800660 2015-03-16  276500.0         4       1.75         1400   \n",
       "1  1453601502 2015-02-26  303697.0         4       2.00         2520   \n",
       "2  9523103990 2014-12-08  611000.0         3       1.00         1850   \n",
       "3  7308600040 2014-07-23  769995.0         5       2.75         3360   \n",
       "4  1562200240 2014-09-18  550000.0         3       2.25         2160   \n",
       "\n",
       "   sqft_lot  floors  waterfront  view  condition  grade  sqft_above  \\\n",
       "0      6650     1.5       False     0          4      6        1400   \n",
       "1      7334     1.0       False     0          3      7        1600   \n",
       "2      5000     1.5       False     0          3      7        1850   \n",
       "3     12080     2.0       False     0          3      9        3360   \n",
       "4     15360     1.0       False     0          3      8        1410   \n",
       "\n",
       "   sqft_basement  yr_built  yr_renovated zipcode      lat     long  \n",
       "0              0      1942             0   98168  47.4888 -122.332  \n",
       "1            920      1955             0   98125  47.7263 -122.291  \n",
       "2              0      1922             0   98103  47.6727 -122.351  \n",
       "3              0      2014             0   98011  47.7757 -122.173  \n",
       "4            750      1965          2000   98007  47.6232 -122.138  "
      ]
     },
     "execution_count": 77,
     "metadata": {},
     "output_type": "execute_result"
    }
   ],
   "source": [
    "sales.head()"
   ]
  },
  {
   "cell_type": "code",
   "execution_count": 82,
   "metadata": {
    "ExecuteTime": {
     "end_time": "2018-06-05T05:05:21.367486Z",
     "start_time": "2018-06-05T05:05:21.048058Z"
    }
   },
   "outputs": [
    {
     "data": {
      "text/plain": [
       "<matplotlib.collections.PathCollection at 0x1a1e137eb8>"
      ]
     },
     "execution_count": 82,
     "metadata": {},
     "output_type": "execute_result"
    },
    {
     "data": {
      "image/png": "[encoded data removed]",
      "text/plain": [
       "<matplotlib.figure.Figure at 0x1a1def6da0>"
      ]
     },
     "metadata": {},
     "output_type": "display_data"
    }
   ],
   "source": [
    "plt.scatter(sales['grade'], sales['price'], alpha=0.5, c='green')"
   ]
  },
  {
   "cell_type": "markdown",
   "metadata": {},
   "source": [
    "### 1D plots "
   ]
  },
  {
   "cell_type": "code",
   "execution_count": 83,
   "metadata": {
    "ExecuteTime": {
     "end_time": "2018-06-05T05:06:43.442525Z",
     "start_time": "2018-06-05T05:06:42.302133Z"
    }
   },
   "outputs": [
    {
     "data": {
      "text/plain": [
       "<matplotlib.axes._subplots.AxesSubplot at 0x1a1e064128>"
      ]
     },
     "execution_count": 83,
     "metadata": {},
     "output_type": "execute_result"
    },
    {
     "data": {
      "image/png": "[encoded data removed]",
      "text/plain": [
       "<matplotlib.figure.Figure at 0x1a1de28ba8>"
      ]
     },
     "metadata": {},
     "output_type": "display_data"
    }
   ],
   "source": [
    "sns.distplot(sales['price'])"
   ]
  },
  {
   "cell_type": "code",
   "execution_count": 85,
   "metadata": {
    "ExecuteTime": {
     "end_time": "2018-06-05T05:09:56.713361Z",
     "start_time": "2018-06-05T05:09:55.850530Z"
    }
   },
   "outputs": [
    {
     "data": {
      "text/plain": [
       "<matplotlib.axes._subplots.AxesSubplot at 0x1a1e5db518>"
      ]
     },
     "execution_count": 85,
     "metadata": {},
     "output_type": "execute_result"
    },
    {
     "data": {
      "image/png": "[encoded data removed]",
      "text/plain": [
       "<matplotlib.figure.Figure at 0x1a1de04a58>"
      ]
     },
     "metadata": {},
     "output_type": "display_data"
    }
   ],
   "source": [
    "sns.barplot(data=sales, x='grade', y='price')"
   ]
  },
  {
   "cell_type": "markdown",
   "metadata": {},
   "source": [
    "Use each of the Seaborn functions on `price` against `grade`:\n",
    "\n",
    "- pointplot()\n",
    "- boxplot()\n",
    "- violinplot()  (try the `scale` parameter)\n",
    "- lvplot()\n",
    "- stripplot() [SEE WARNING]  (try the `jitter` parameter)\n",
    "- swarmplot() [SEE WARNING]"
   ]
  },
  {
   "cell_type": "code",
   "execution_count": 100,
   "metadata": {
    "ExecuteTime": {
     "end_time": "2018-06-05T05:36:46.567524Z",
     "start_time": "2018-06-05T05:36:46.557324Z"
    },
    "collapsed": true
   },
   "outputs": [],
   "source": [
    "subset = sales.sample(100)"
   ]
  },
  {
   "cell_type": "code",
   "execution_count": 91,
   "metadata": {
    "ExecuteTime": {
     "end_time": "2018-06-05T05:33:15.398181Z",
     "start_time": "2018-06-05T05:33:14.347626Z"
    }
   },
   "outputs": [
    {
     "data": {
      "text/plain": [
       "<matplotlib.axes._subplots.AxesSubplot at 0x1a1e734160>"
      ]
     },
     "execution_count": 91,
     "metadata": {},
     "output_type": "execute_result"
    },
    {
     "data": {
      "image/png": "[encoded data removed]",
      "text/plain": [
       "<matplotlib.figure.Figure at 0x1a1e727208>"
      ]
     },
     "metadata": {},
     "output_type": "display_data"
    }
   ],
   "source": [
    "sns.violinplot(data=sales, x='grade', y='price', scale='width')"
   ]
  },
  {
   "cell_type": "code",
   "execution_count": 94,
   "metadata": {
    "ExecuteTime": {
     "end_time": "2018-06-05T05:34:57.318867Z",
     "start_time": "2018-06-05T05:34:57.303055Z"
    },
    "collapsed": true
   },
   "outputs": [],
   "source": [
    "?sns.lvplot"
   ]
  },
  {
   "cell_type": "code",
   "execution_count": 93,
   "metadata": {
    "ExecuteTime": {
     "end_time": "2018-06-05T05:36:50.231225Z",
     "start_time": "2018-06-05T05:36:49.980602Z"
    }
   },
   "outputs": [
    {
     "data": {
      "text/plain": [
       "<matplotlib.axes._subplots.AxesSubplot at 0x1a1d4e7d68>"
      ]
     },
     "execution_count": 93,
     "metadata": {},
     "output_type": "execute_result"
    },
    {
     "data": {
      "image/png": "[encoded data removed]",
      "text/plain": [
       "<matplotlib.figure.Figure at 0x1a1d534cc0>"
      ]
     },
     "metadata": {},
     "output_type": "display_data"
    }
   ],
   "source": [
    "sns.lvplot(data=sales, x='grade', y='price')"
   ]
  },
  {
   "cell_type": "code",
   "execution_count": 101,
   "metadata": {
    "ExecuteTime": {
     "end_time": "2018-06-05T05:36:50.231225Z",
     "start_time": "2018-06-05T05:36:49.980602Z"
    }
   },
   "outputs": [
    {
     "data": {
      "text/plain": [
       "<matplotlib.axes._subplots.AxesSubplot at 0x1a1d50fa90>"
      ]
     },
     "execution_count": 101,
     "metadata": {},
     "output_type": "execute_result"
    },
    {
     "data": {
      "image/png": "[encoded data removed]",
      "text/plain": [
       "<matplotlib.figure.Figure at 0x1a1ef74860>"
      ]
     },
     "metadata": {},
     "output_type": "display_data"
    }
   ],
   "source": [
    "sns.stripplot(data=subset, x='grade', y='price', jitter=0.2, alpha=0.5)"
   ]
  },
  {
   "cell_type": "code",
   "execution_count": 108,
   "metadata": {
    "ExecuteTime": {
     "end_time": "2018-06-05T05:41:57.679523Z",
     "start_time": "2018-06-05T05:41:57.243746Z"
    }
   },
   "outputs": [
    {
     "data": {
      "text/plain": [
       "(0, 3000000)"
      ]
     },
     "execution_count": 108,
     "metadata": {},
     "output_type": "execute_result"
    },
    {
     "data": {
      "image/png": "[encoded data removed]",
      "text/plain": [
       "<matplotlib.figure.Figure at 0x1a1ed5b470>"
      ]
     },
     "metadata": {},
     "output_type": "display_data"
    }
   ],
   "source": [
    "sns.boxplot(data=sales, x='grade', y='price')\n",
    "sns.stripplot(data=subset, x='grade', y='price', jitter=0.2)\n",
    "plt.ylim(0,3000000)"
   ]
  },
  {
   "cell_type": "code",
   "execution_count": null,
   "metadata": {
    "collapsed": true
   },
   "outputs": [],
   "source": []
  },
  {
   "cell_type": "code",
   "execution_count": 102,
   "metadata": {
    "ExecuteTime": {
     "end_time": "2018-06-05T05:37:26.726832Z",
     "start_time": "2018-06-05T05:37:26.317564Z"
    }
   },
   "outputs": [
    {
     "data": {
      "text/plain": [
       "<matplotlib.axes._subplots.AxesSubplot at 0x1a1f091160>"
      ]
     },
     "execution_count": 102,
     "metadata": {},
     "output_type": "execute_result"
    },
    {
     "data": {
      "image/png": "[encoded data removed]",
      "text/plain": [
       "<matplotlib.figure.Figure at 0x1a1c19bb70>"
      ]
     },
     "metadata": {},
     "output_type": "display_data"
    }
   ],
   "source": [
    "sns.swarmplot(data=subset, x='grade', y='price')"
   ]
  },
  {
   "cell_type": "markdown",
   "metadata": {},
   "source": [
    "### Compound plots "
   ]
  },
  {
   "cell_type": "code",
   "execution_count": 109,
   "metadata": {
    "ExecuteTime": {
     "end_time": "2018-06-05T06:01:21.995397Z",
     "start_time": "2018-06-05T06:01:21.941004Z"
    }
   },
   "outputs": [
    {
     "data": {
      "text/html": [
       "<div>\n",
       "<style>\n",
       "    .dataframe thead tr:only-child th {\n",
       "        text-align: right;\n",
       "    }\n",
       "\n",
       "    .dataframe thead th {\n",
       "        text-align: left;\n",
       "    }\n",
       "\n",
       "    .dataframe tbody tr th {\n",
       "        vertical-align: top;\n",
       "    }\n",
       "</style>\n",
       "<table border=\"1\" class=\"dataframe\">\n",
       "  <thead>\n",
       "    <tr style=\"text-align: right;\">\n",
       "      <th></th>\n",
       "      <th>id</th>\n",
       "      <th>date</th>\n",
       "      <th>price</th>\n",
       "      <th>bedrooms</th>\n",
       "      <th>bathrooms</th>\n",
       "      <th>sqft_living</th>\n",
       "      <th>sqft_lot</th>\n",
       "      <th>floors</th>\n",
       "      <th>waterfront</th>\n",
       "      <th>view</th>\n",
       "      <th>condition</th>\n",
       "      <th>grade</th>\n",
       "      <th>sqft_above</th>\n",
       "      <th>sqft_basement</th>\n",
       "      <th>yr_built</th>\n",
       "      <th>yr_renovated</th>\n",
       "      <th>zipcode</th>\n",
       "      <th>lat</th>\n",
       "      <th>long</th>\n",
       "    </tr>\n",
       "  </thead>\n",
       "  <tbody>\n",
       "    <tr>\n",
       "      <th>0</th>\n",
       "      <td>1446800660</td>\n",
       "      <td>2015-03-16</td>\n",
       "      <td>276500.0</td>\n",
       "      <td>4</td>\n",
       "      <td>1.75</td>\n",
       "      <td>1400</td>\n",
       "      <td>6650</td>\n",
       "      <td>1.5</td>\n",
       "      <td>False</td>\n",
       "      <td>0</td>\n",
       "      <td>4</td>\n",
       "      <td>6</td>\n",
       "      <td>1400</td>\n",
       "      <td>0</td>\n",
       "      <td>1942</td>\n",
       "      <td>0</td>\n",
       "      <td>98168</td>\n",
       "      <td>47.4888</td>\n",
       "      <td>-122.332</td>\n",
       "    </tr>\n",
       "    <tr>\n",
       "      <th>1</th>\n",
       "      <td>1453601502</td>\n",
       "      <td>2015-02-26</td>\n",
       "      <td>303697.0</td>\n",
       "      <td>4</td>\n",
       "      <td>2.00</td>\n",
       "      <td>2520</td>\n",
       "      <td>7334</td>\n",
       "      <td>1.0</td>\n",
       "      <td>False</td>\n",
       "      <td>0</td>\n",
       "      <td>3</td>\n",
       "      <td>7</td>\n",
       "      <td>1600</td>\n",
       "      <td>920</td>\n",
       "      <td>1955</td>\n",
       "      <td>0</td>\n",
       "      <td>98125</td>\n",
       "      <td>47.7263</td>\n",
       "      <td>-122.291</td>\n",
       "    </tr>\n",
       "    <tr>\n",
       "      <th>2</th>\n",
       "      <td>9523103990</td>\n",
       "      <td>2014-12-08</td>\n",
       "      <td>611000.0</td>\n",
       "      <td>3</td>\n",
       "      <td>1.00</td>\n",
       "      <td>1850</td>\n",
       "      <td>5000</td>\n",
       "      <td>1.5</td>\n",
       "      <td>False</td>\n",
       "      <td>0</td>\n",
       "      <td>3</td>\n",
       "      <td>7</td>\n",
       "      <td>1850</td>\n",
       "      <td>0</td>\n",
       "      <td>1922</td>\n",
       "      <td>0</td>\n",
       "      <td>98103</td>\n",
       "      <td>47.6727</td>\n",
       "      <td>-122.351</td>\n",
       "    </tr>\n",
       "    <tr>\n",
       "      <th>3</th>\n",
       "      <td>7308600040</td>\n",
       "      <td>2014-07-23</td>\n",
       "      <td>769995.0</td>\n",
       "      <td>5</td>\n",
       "      <td>2.75</td>\n",
       "      <td>3360</td>\n",
       "      <td>12080</td>\n",
       "      <td>2.0</td>\n",
       "      <td>False</td>\n",
       "      <td>0</td>\n",
       "      <td>3</td>\n",
       "      <td>9</td>\n",
       "      <td>3360</td>\n",
       "      <td>0</td>\n",
       "      <td>2014</td>\n",
       "      <td>0</td>\n",
       "      <td>98011</td>\n",
       "      <td>47.7757</td>\n",
       "      <td>-122.173</td>\n",
       "    </tr>\n",
       "    <tr>\n",
       "      <th>4</th>\n",
       "      <td>1562200240</td>\n",
       "      <td>2014-09-18</td>\n",
       "      <td>550000.0</td>\n",
       "      <td>3</td>\n",
       "      <td>2.25</td>\n",
       "      <td>2160</td>\n",
       "      <td>15360</td>\n",
       "      <td>1.0</td>\n",
       "      <td>False</td>\n",
       "      <td>0</td>\n",
       "      <td>3</td>\n",
       "      <td>8</td>\n",
       "      <td>1410</td>\n",
       "      <td>750</td>\n",
       "      <td>1965</td>\n",
       "      <td>2000</td>\n",
       "      <td>98007</td>\n",
       "      <td>47.6232</td>\n",
       "      <td>-122.138</td>\n",
       "    </tr>\n",
       "  </tbody>\n",
       "</table>\n",
       "</div>"
      ],
      "text/plain": [
       "           id       date     price  bedrooms  bathrooms  sqft_living  \\\n",
       "0  1446800660 2015-03-16  276500.0         4       1.75         1400   \n",
       "1  1453601502 2015-02-26  303697.0         4       2.00         2520   \n",
       "2  9523103990 2014-12-08  611000.0         3       1.00         1850   \n",
       "3  7308600040 2014-07-23  769995.0         5       2.75         3360   \n",
       "4  1562200240 2014-09-18  550000.0         3       2.25         2160   \n",
       "\n",
       "   sqft_lot  floors  waterfront  view  condition  grade  sqft_above  \\\n",
       "0      6650     1.5       False     0          4      6        1400   \n",
       "1      7334     1.0       False     0          3      7        1600   \n",
       "2      5000     1.5       False     0          3      7        1850   \n",
       "3     12080     2.0       False     0          3      9        3360   \n",
       "4     15360     1.0       False     0          3      8        1410   \n",
       "\n",
       "   sqft_basement  yr_built  yr_renovated zipcode      lat     long  \n",
       "0              0      1942             0   98168  47.4888 -122.332  \n",
       "1            920      1955             0   98125  47.7263 -122.291  \n",
       "2              0      1922             0   98103  47.6727 -122.351  \n",
       "3              0      2014             0   98011  47.7757 -122.173  \n",
       "4            750      1965          2000   98007  47.6232 -122.138  "
      ]
     },
     "execution_count": 109,
     "metadata": {},
     "output_type": "execute_result"
    }
   ],
   "source": [
    "sales.head()"
   ]
  },
  {
   "cell_type": "code",
   "execution_count": 112,
   "metadata": {
    "ExecuteTime": {
     "end_time": "2018-06-05T06:02:47.049997Z",
     "start_time": "2018-06-05T06:02:45.425384Z"
    }
   },
   "outputs": [
    {
     "data": {
      "text/plain": [
       "<seaborn.axisgrid.FacetGrid at 0x1a200c4128>"
      ]
     },
     "execution_count": 112,
     "metadata": {},
     "output_type": "execute_result"
    },
    {
     "data": {
      "image/png": "[encoded data removed]",
      "text/plain": [
       "<matplotlib.figure.Figure at 0x1a1fe3ef28>"
      ]
     },
     "metadata": {},
     "output_type": "display_data"
    }
   ],
   "source": [
    "sns.lmplot(data=sales, x='sqft_living', y='price', hue='waterfront')"
   ]
  },
  {
   "cell_type": "code",
   "execution_count": 114,
   "metadata": {
    "ExecuteTime": {
     "end_time": "2018-06-05T06:05:39.617532Z",
     "start_time": "2018-06-05T06:05:37.722021Z"
    }
   },
   "outputs": [
    {
     "data": {
      "text/plain": [
       "<seaborn.axisgrid.PairGrid at 0x1a21553c50>"
      ]
     },
     "execution_count": 114,
     "metadata": {},
     "output_type": "execute_result"
    },
    {
     "data": {
      "image/png": "[encoded data removed]",
      "text/plain": [
       "<matplotlib.figure.Figure at 0x1a21553f60>"
      ]
     },
     "metadata": {},
     "output_type": "display_data"
    }
   ],
   "source": [
    "sns.pairplot(cars[['weight','mpg','horsepower']])"
   ]
  },
  {
   "cell_type": "code",
   "execution_count": null,
   "metadata": {
    "collapsed": true
   },
   "outputs": [],
   "source": []
  },
  {
   "cell_type": "code",
   "execution_count": 116,
   "metadata": {
    "ExecuteTime": {
     "end_time": "2018-06-05T06:07:22.200713Z",
     "start_time": "2018-06-05T06:07:22.163203Z"
    }
   },
   "outputs": [],
   "source": [
    "?sns.jointplot(data=cars, x='weight', y='horsepower')"
   ]
  },
  {
   "cell_type": "code",
   "execution_count": 118,
   "metadata": {
    "ExecuteTime": {
     "end_time": "2018-06-05T06:08:36.650370Z",
     "start_time": "2018-06-05T06:08:35.981207Z"
    }
   },
   "outputs": [
    {
     "data": {
      "text/plain": [
       "<seaborn.axisgrid.JointGrid at 0x1a23de0ef0>"
      ]
     },
     "execution_count": 118,
     "metadata": {},
     "output_type": "execute_result"
    },
    {
     "data": {
      "image/png": "[encoded data removed]",
      "text/plain": [
       "<matplotlib.figure.Figure at 0x1a23de0cf8>"
      ]
     },
     "metadata": {},
     "output_type": "display_data"
    }
   ],
   "source": [
    "sns.jointplot(data=cars, x='weight', y='horsepower', kind='hex')"
   ]
  },
  {
   "cell_type": "code",
   "execution_count": 122,
   "metadata": {
    "ExecuteTime": {
     "end_time": "2018-06-05T06:11:03.627410Z",
     "start_time": "2018-06-05T06:11:03.599842Z"
    }
   },
   "outputs": [
    {
     "data": {
      "text/html": [
       "<div>\n",
       "<style>\n",
       "    .dataframe thead tr:only-child th {\n",
       "        text-align: right;\n",
       "    }\n",
       "\n",
       "    .dataframe thead th {\n",
       "        text-align: left;\n",
       "    }\n",
       "\n",
       "    .dataframe tbody tr th {\n",
       "        vertical-align: top;\n",
       "    }\n",
       "</style>\n",
       "<table border=\"1\" class=\"dataframe\">\n",
       "  <thead>\n",
       "    <tr style=\"text-align: right;\">\n",
       "      <th></th>\n",
       "      <th>mpg</th>\n",
       "      <th>cylinders</th>\n",
       "      <th>displacement</th>\n",
       "      <th>horsepower</th>\n",
       "      <th>weight</th>\n",
       "      <th>acceleration</th>\n",
       "      <th>year</th>\n",
       "      <th>origin</th>\n",
       "      <th>name</th>\n",
       "    </tr>\n",
       "  </thead>\n",
       "  <tbody>\n",
       "    <tr>\n",
       "      <th>0</th>\n",
       "      <td>18.0</td>\n",
       "      <td>8</td>\n",
       "      <td>307.0</td>\n",
       "      <td>130</td>\n",
       "      <td>3504</td>\n",
       "      <td>12.0</td>\n",
       "      <td>70</td>\n",
       "      <td>1</td>\n",
       "      <td>chevrolet chevelle malibu</td>\n",
       "    </tr>\n",
       "    <tr>\n",
       "      <th>1</th>\n",
       "      <td>15.0</td>\n",
       "      <td>8</td>\n",
       "      <td>350.0</td>\n",
       "      <td>165</td>\n",
       "      <td>3693</td>\n",
       "      <td>11.5</td>\n",
       "      <td>70</td>\n",
       "      <td>1</td>\n",
       "      <td>buick skylark 320</td>\n",
       "    </tr>\n",
       "    <tr>\n",
       "      <th>2</th>\n",
       "      <td>18.0</td>\n",
       "      <td>8</td>\n",
       "      <td>318.0</td>\n",
       "      <td>150</td>\n",
       "      <td>3436</td>\n",
       "      <td>11.0</td>\n",
       "      <td>70</td>\n",
       "      <td>1</td>\n",
       "      <td>plymouth satellite</td>\n",
       "    </tr>\n",
       "    <tr>\n",
       "      <th>3</th>\n",
       "      <td>16.0</td>\n",
       "      <td>8</td>\n",
       "      <td>304.0</td>\n",
       "      <td>150</td>\n",
       "      <td>3433</td>\n",
       "      <td>12.0</td>\n",
       "      <td>70</td>\n",
       "      <td>1</td>\n",
       "      <td>amc rebel sst</td>\n",
       "    </tr>\n",
       "    <tr>\n",
       "      <th>4</th>\n",
       "      <td>17.0</td>\n",
       "      <td>8</td>\n",
       "      <td>302.0</td>\n",
       "      <td>140</td>\n",
       "      <td>3449</td>\n",
       "      <td>10.5</td>\n",
       "      <td>70</td>\n",
       "      <td>1</td>\n",
       "      <td>ford torino</td>\n",
       "    </tr>\n",
       "  </tbody>\n",
       "</table>\n",
       "</div>"
      ],
      "text/plain": [
       "    mpg  cylinders  displacement  horsepower  weight  acceleration  year  \\\n",
       "0  18.0          8         307.0         130    3504          12.0    70   \n",
       "1  15.0          8         350.0         165    3693          11.5    70   \n",
       "2  18.0          8         318.0         150    3436          11.0    70   \n",
       "3  16.0          8         304.0         150    3433          12.0    70   \n",
       "4  17.0          8         302.0         140    3449          10.5    70   \n",
       "\n",
       "   origin                       name  \n",
       "0       1  chevrolet chevelle malibu  \n",
       "1       1          buick skylark 320  \n",
       "2       1         plymouth satellite  \n",
       "3       1              amc rebel sst  \n",
       "4       1                ford torino  "
      ]
     },
     "execution_count": 122,
     "metadata": {},
     "output_type": "execute_result"
    }
   ],
   "source": [
    "cars.head()"
   ]
  },
  {
   "cell_type": "code",
   "execution_count": 125,
   "metadata": {
    "ExecuteTime": {
     "end_time": "2018-06-05T06:12:26.133980Z",
     "start_time": "2018-06-05T06:12:25.432264Z"
    }
   },
   "outputs": [
    {
     "data": {
      "text/plain": [
       "<seaborn.axisgrid.FacetGrid at 0x1a26aa6f60>"
      ]
     },
     "execution_count": 125,
     "metadata": {},
     "output_type": "execute_result"
    },
    {
     "data": {
      "image/png": "[encoded data removed]",
      "text/plain": [
       "<matplotlib.figure.Figure at 0x1a26c27eb8>"
      ]
     },
     "metadata": {},
     "output_type": "display_data"
    }
   ],
   "source": [
    "sns.factorplot(data=cars, aspect=4, size=2,\n",
    "               x='cylinders', y='horsepower', row='origin', kind='box')"
   ]
  },
  {
   "cell_type": "code",
   "execution_count": 126,
   "metadata": {
    "ExecuteTime": {
     "end_time": "2018-06-05T06:14:06.065232Z",
     "start_time": "2018-06-05T06:14:06.029085Z"
    },
    "collapsed": true
   },
   "outputs": [],
   "source": [
    "?sns.factorplot"
   ]
  },
  {
   "cell_type": "markdown",
   "metadata": {},
   "source": [
    "**Exercise:** design a plot using sns.factorplot, to show the relationship between house price and: grade, view, and whether the property is waterfront. Available channels of information are:\n",
    "- x and y coordinates\n",
    "- hue\n",
    "- row and column of subplot (`row` and `col`)\n",
    "\n",
    "You can set the `kind` parameter to the kind of plot you want to make: point, bar, count, box, violin, or stripplot.\n",
    "\n",
    "You do not have to use all of these channels - in fact your plot may be difficult to take in if you do."
   ]
  },
  {
   "cell_type": "code",
   "execution_count": 129,
   "metadata": {
    "ExecuteTime": {
     "end_time": "2018-06-05T06:25:27.087729Z",
     "start_time": "2018-06-05T06:25:22.795063Z"
    }
   },
   "outputs": [
    {
     "data": {
      "text/plain": [
       "<seaborn.axisgrid.FacetGrid at 0x1a27719b00>"
      ]
     },
     "execution_count": 129,
     "metadata": {},
     "output_type": "execute_result"
    },
    {
     "data": {
      "image/png": "[encoded data removed]",
      "text/plain": [
       "<matplotlib.figure.Figure at 0x1a26e52e48>"
      ]
     },
     "metadata": {},
     "output_type": "display_data"
    }
   ],
   "source": [
    "sns.factorplot(data=sales, row='waterfront', col='view',\n",
    "               x='grade', y='price', kind='box')"
   ]
  },
  {
   "cell_type": "markdown",
   "metadata": {},
   "source": [
    "## Colour "
   ]
  },
  {
   "cell_type": "markdown",
   "metadata": {},
   "source": [
    "Matplotlib has a good range of colours. We'll look a bit at colour functionality, and there are some more convenience functions when we get up to Seaborn.\n",
    "\n",
    "Colours can be specified by name (e.g. \"red\", \"blue\", \"palegoldenrod\"....) - a list of named colours is [here](https://matplotlib.org/examples/color/named_colors.html)\n",
    "\n",
    "Colours can be specified by RGB or RGBA value, as hex (e.g. \"#ffffa0\" or \"#ffffa088\") or as tuples, e.g. (1,1,0.6) or (1,1,0.6,0.5).\n",
    "\n",
    "_Colormaps_ map continuous variables to colours. This is done by normalising the variable into the [0,1] range, then mapping this to a defined range of colours. The `plt.cm` module contains built-in colourmaps, and these can also be retrieved with `plt.get_cmap(name)`.\n",
    "\n",
    "There's some Matplotlib documentation on [Choosing Colormaps](https://matplotlib.org/users/colormaps.html), which illustrates available built-in colormaps."
   ]
  },
  {
   "cell_type": "code",
   "execution_count": 138,
   "metadata": {
    "ExecuteTime": {
     "end_time": "2018-06-05T06:39:27.706648Z",
     "start_time": "2018-06-05T06:39:27.517944Z"
    }
   },
   "outputs": [
    {
     "data": {
      "text/plain": [
       "<matplotlib.image.AxesImage at 0x1a296f7358>"
      ]
     },
     "execution_count": 138,
     "metadata": {},
     "output_type": "execute_result"
    },
    {
     "data": {
      "image/png": "[encoded data removed]",
      "text/plain": [
       "<matplotlib.figure.Figure at 0x1a296f7a58>"
      ]
     },
     "metadata": {},
     "output_type": "display_data"
    }
   ],
   "source": [
    "# Show the plt.cm.Greens_r colormap. Replace with other colormaps to see them. \n",
    "# Greens_r is a sequential colormap of greens of differing intensities.\n",
    "# _r means it is reversed (dark to light)\n",
    "\n",
    "colourmap = plt.get_cmap(\"rainbow\")\n",
    "\n",
    "fix, ax = plt.subplots(figsize=(5,0.5))\n",
    "\n",
    "# Make an image which is two rows of points with a gradient from 0 to 1\n",
    "gradient = np.linspace(0, 1, 256)\n",
    "image = np.vstack([gradient, gradient])\n",
    "\n",
    "ax.imshow(image, aspect='auto', cmap=colourmap)\n",
    "\n"
   ]
  },
  {
   "cell_type": "code",
   "execution_count": 135,
   "metadata": {
    "ExecuteTime": {
     "end_time": "2018-06-05T06:37:46.894736Z",
     "start_time": "2018-06-05T06:37:46.555457Z"
    }
   },
   "outputs": [
    {
     "data": {
      "text/plain": [
       "<matplotlib.collections.PathCollection at 0x1a2949abe0>"
      ]
     },
     "execution_count": 135,
     "metadata": {},
     "output_type": "execute_result"
    },
    {
     "data": {
      "image/png": "[encoded data removed]",
      "text/plain": [
       "<matplotlib.figure.Figure at 0x1a2933a550>"
      ]
     },
     "metadata": {},
     "output_type": "display_data"
    }
   ],
   "source": [
    "subset = sales.sample(1000)\n",
    "plt.scatter(sales['long'],sales['lat'],alpha=0.6,c=(1,0,0.5))"
   ]
  },
  {
   "cell_type": "code",
   "execution_count": 141,
   "metadata": {
    "ExecuteTime": {
     "end_time": "2018-06-05T06:41:20.067987Z",
     "start_time": "2018-06-05T06:41:19.257637Z"
    }
   },
   "outputs": [
    {
     "data": {
      "text/plain": [
       "<matplotlib.collections.PathCollection at 0x1a29aeec18>"
      ]
     },
     "execution_count": 141,
     "metadata": {},
     "output_type": "execute_result"
    },
    {
     "data": {
      "image/png": "[encoded data removed]",
      "text/plain": [
       "<matplotlib.figure.Figure at 0x1a2995cc18>"
      ]
     },
     "metadata": {},
     "output_type": "display_data"
    }
   ],
   "source": [
    "subset = sales.sample(1000)\n",
    "plt.scatter(sales['long'],sales['lat'],alpha=0.6,c=sales['price'],\n",
    "            cmap='Greens_r')"
   ]
  },
  {
   "cell_type": "code",
   "execution_count": 142,
   "metadata": {
    "ExecuteTime": {
     "end_time": "2018-06-05T06:41:46.877719Z",
     "start_time": "2018-06-05T06:41:46.862952Z"
    },
    "collapsed": true
   },
   "outputs": [],
   "source": [
    "import numpy as np"
   ]
  },
  {
   "cell_type": "code",
   "execution_count": 150,
   "metadata": {
    "ExecuteTime": {
     "end_time": "2018-06-05T06:48:15.330191Z",
     "start_time": "2018-06-05T06:48:14.184355Z"
    },
    "scrolled": true
   },
   "outputs": [
    {
     "data": {
      "image/png": "[encoded data removed]",
      "text/plain": [
       "<matplotlib.figure.Figure at 0x1a2a57bf28>"
      ]
     },
     "metadata": {},
     "output_type": "display_data"
    }
   ],
   "source": [
    "subset = sales.sample(1000)\n",
    "plt.scatter(sales['long'],sales['lat'],alpha=0.6,c=np.log(sales['price']),\n",
    "           cmap='Greens', s=4)\n",
    "plt.savefig(\"seattle_pricemap.png\")"
   ]
  },
  {
   "cell_type": "code",
   "execution_count": 164,
   "metadata": {
    "ExecuteTime": {
     "end_time": "2018-06-05T07:02:14.217921Z",
     "start_time": "2018-06-05T07:02:14.179869Z"
    },
    "collapsed": true
   },
   "outputs": [],
   "source": [
    "?plt.subplot"
   ]
  },
  {
   "cell_type": "code",
   "execution_count": 168,
   "metadata": {
    "ExecuteTime": {
     "end_time": "2018-06-05T07:03:50.905992Z",
     "start_time": "2018-06-05T07:03:49.318245Z"
    }
   },
   "outputs": [
    {
     "data": {
      "image/png": "[encoded data removed]",
      "text/plain": [
       "<matplotlib.figure.Figure at 0x1a2c462c18>"
      ]
     },
     "metadata": {},
     "output_type": "display_data"
    }
   ],
   "source": [
    "result = plt.subplots(1,2)"
   ]
  },
  {
   "cell_type": "code",
   "execution_count": 169,
   "metadata": {
    "ExecuteTime": {
     "end_time": "2018-06-05T07:03:54.479436Z",
     "start_time": "2018-06-05T07:03:54.471778Z"
    }
   },
   "outputs": [
    {
     "data": {
      "text/plain": [
       "(<matplotlib.figure.Figure at 0x1a2c462c18>,\n",
       " array([<matplotlib.axes._subplots.AxesSubplot object at 0x1a2c483550>,\n",
       "        <matplotlib.axes._subplots.AxesSubplot object at 0x1a2c411c88>], dtype=object))"
      ]
     },
     "execution_count": 169,
     "metadata": {},
     "output_type": "execute_result"
    }
   ],
   "source": [
    "result"
   ]
  },
  {
   "cell_type": "code",
   "execution_count": 170,
   "metadata": {
    "ExecuteTime": {
     "end_time": "2018-06-05T07:04:52.393036Z",
     "start_time": "2018-06-05T07:04:52.385851Z"
    },
    "collapsed": true
   },
   "outputs": [],
   "source": [
    "fig, axes = result"
   ]
  },
  {
   "cell_type": "code",
   "execution_count": 172,
   "metadata": {
    "ExecuteTime": {
     "end_time": "2018-06-05T07:07:11.819280Z",
     "start_time": "2018-06-05T07:07:11.784332Z"
    }
   },
   "outputs": [
    {
     "data": {
      "text/plain": [
       "array([<matplotlib.axes._subplots.AxesSubplot object at 0x1a2c483550>,\n",
       "       <matplotlib.axes._subplots.AxesSubplot object at 0x1a2c411c88>], dtype=object)"
      ]
     },
     "execution_count": 172,
     "metadata": {},
     "output_type": "execute_result"
    }
   ],
   "source": [
    "axes[0]"
   ]
  },
  {
   "cell_type": "code",
   "execution_count": 161,
   "metadata": {
    "ExecuteTime": {
     "end_time": "2018-06-05T06:53:34.333768Z",
     "start_time": "2018-06-05T06:53:32.489261Z"
    }
   },
   "outputs": [
    {
     "data": {
      "image/png": "[encoded data removed]",
      "text/plain": [
       "<matplotlib.figure.Figure at 0x1a2b0ec160>"
      ]
     },
     "metadata": {},
     "output_type": "display_data"
    }
   ],
   "source": [
    "fig, ax = plt.subplots(1,1,figsize=(8,6))\n",
    "ax.scatter(sales['long'],sales['lat'],alpha=0.6,c=np.log(sales['price']),\n",
    "           cmap='Greens', s=4)\n",
    "fig.savefig(\"seattle_pricemap.png\", dpi=300)"
   ]
  },
  {
   "cell_type": "code",
   "execution_count": 162,
   "metadata": {
    "ExecuteTime": {
     "end_time": "2018-06-05T06:55:48.605915Z",
     "start_time": "2018-06-05T06:55:48.584595Z"
    }
   },
   "outputs": [
    {
     "data": {
      "text/plain": [
       "matplotlib.figure.Figure"
      ]
     },
     "execution_count": 162,
     "metadata": {},
     "output_type": "execute_result"
    }
   ],
   "source": [
    "type(fig)"
   ]
  },
  {
   "cell_type": "code",
   "execution_count": null,
   "metadata": {
    "collapsed": true
   },
   "outputs": [],
   "source": []
  }
 ],
 "metadata": {
  "kernelspec": {
   "display_name": "Python 3",
   "language": "python",
   "name": "python3"
  },
  "language_info": {
   "codemirror_mode": {
    "name": "ipython",
    "version": 3
   },
   "file_extension": ".py",
   "mimetype": "text/x-python",
   "name": "python",
   "nbconvert_exporter": "python",
   "pygments_lexer": "ipython3",
   "version": "3.6.5"
  },
  "toc": {
   "colors": {
    "hover_highlight": "#DAA520",
    "running_highlight": "#FF0000",
    "selected_highlight": "#FFD700"
   },
   "moveMenuLeft": true,
   "nav_menu": {
    "height": "11px",
    "width": "251px"
   },
   "navigate_menu": true,
   "number_sections": false,
   "sideBar": true,
   "threshold": 4,
   "toc_cell": false,
   "toc_section_display": "block",
   "toc_window_display": true
  },
  "varInspector": {
   "cols": {
    "lenName": 16,
    "lenType": 16,
    "lenVar": 40
   },
   "kernels_config": {
    "python": {
     "delete_cmd_postfix": "",
     "delete_cmd_prefix": "del ",
     "library": "var_list.py",
     "varRefreshCmd": "print(var_dic_list())"
    },
    "r": {
     "delete_cmd_postfix": ") ",
     "delete_cmd_prefix": "rm(",
     "library": "var_list.r",
     "varRefreshCmd": "cat(var_dic_list()) "
    }
   },
   "types_to_exclude": [
    "module",
    "function",
    "builtin_function_or_method",
    "instance",
    "_Feature"
   ],
   "window_display": false
  }
 },
 "nbformat": 4,
 "nbformat_minor": 2
}
