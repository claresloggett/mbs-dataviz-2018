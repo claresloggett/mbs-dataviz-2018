{
 "cells": [
  {
   "cell_type": "markdown",
   "metadata": {},
   "source": [
    "# Plotly"
   ]
  },
  {
   "cell_type": "markdown",
   "metadata": {},
   "source": [
    "### Handy hints "
   ]
  },
  {
   "cell_type": "markdown",
   "metadata": {},
   "source": [
    "* In general, we are using plotting libraries that return objects encapsulating the plot. You can check the type of these returned objects with `type()`. Jupyter's tools for exploring objects and methods will also be useful: the `?` and `??` operators, and tab autocompletion.\n",
    "\n",
    "* If you are using an older version of Jupyter you are running, you may need to launch this notebook with a higher data rate limit: `jupyter notebook --NotebookApp.iopub_data_rate_limit=10000000` (alternatively, upgrade your Jupyter version)."
   ]
  },
  {
   "cell_type": "markdown",
   "metadata": {},
   "source": [
    "## Setup "
   ]
  },
  {
   "cell_type": "code",
   "execution_count": 1,
   "metadata": {
    "ExecuteTime": {
     "end_time": "2018-06-26T00:50:12.760195Z",
     "start_time": "2018-06-26T00:50:11.117127Z"
    }
   },
   "outputs": [],
   "source": [
    "import pandas as pd\n",
    "import numpy as np"
   ]
  },
  {
   "cell_type": "code",
   "execution_count": 2,
   "metadata": {
    "ExecuteTime": {
     "end_time": "2018-06-26T00:50:15.011295Z",
     "start_time": "2018-06-26T00:50:13.319590Z"
    }
   },
   "outputs": [],
   "source": [
    "# We may want to use some colours etc from other libraries\n",
    "%matplotlib inline\n",
    "import matplotlib.pyplot as plt\n",
    "import seaborn as sns"
   ]
  },
  {
   "cell_type": "code",
   "execution_count": 3,
   "metadata": {
    "ExecuteTime": {
     "end_time": "2018-06-26T00:50:16.713160Z",
     "start_time": "2018-06-26T00:50:15.014298Z"
    }
   },
   "outputs": [],
   "source": [
    "# Use the plotly.offline module to use plotly without a cloud account\n",
    "from plotly.offline import download_plotlyjs, init_notebook_mode, plot, iplot\n",
    "import plotly.graph_objs as go\n",
    "from plotly import tools\n",
    "import plotly"
   ]
  },
  {
   "cell_type": "code",
   "execution_count": 4,
   "metadata": {
    "ExecuteTime": {
     "end_time": "2018-01-15T06:02:02.007199Z",
     "start_time": "2018-01-15T06:02:01.999543Z"
    }
   },
   "outputs": [
    {
     "data": {
      "text/html": [
       "<script>requirejs.config({paths: { 'plotly': ['https://cdn.plot.ly/plotly-latest.min']},});if(!window.Plotly) {{require(['plotly'],function(plotly) {window.Plotly=plotly;});}}</script>"
      ],
      "text/vnd.plotly.v1+html": [
       "<script>requirejs.config({paths: { 'plotly': ['https://cdn.plot.ly/plotly-latest.min']},});if(!window.Plotly) {{require(['plotly'],function(plotly) {window.Plotly=plotly;});}}</script>"
      ]
     },
     "metadata": {},
     "output_type": "display_data"
    }
   ],
   "source": [
    "# init_notebook_mode() will inject the Plotly javascript into our notebook\n",
    "# so we can display plots inline using iplot()\n",
    "init_notebook_mode()"
   ]
  },
  {
   "cell_type": "code",
   "execution_count": null,
   "metadata": {},
   "outputs": [],
   "source": [
    "# uncomment these lines to import and initialise altair\n",
    "#import altair as alt\n",
    "#alt.renderers.enable('notebook')"
   ]
  },
  {
   "cell_type": "markdown",
   "metadata": {},
   "source": [
    "## Data"
   ]
  },
  {
   "cell_type": "code",
   "execution_count": 4,
   "metadata": {
    "ExecuteTime": {
     "end_time": "2018-06-26T00:50:25.362283Z",
     "start_time": "2018-06-26T00:50:25.247413Z"
    }
   },
   "outputs": [],
   "source": [
    "sales = pd.read_csv(\"housing-data-10000.csv\", \n",
    "                    parse_dates=['date'], \n",
    "                    dtype={'zipcode': 'category',\n",
    "                           'waterfront': 'bool'})"
   ]
  },
  {
   "cell_type": "code",
   "execution_count": 5,
   "metadata": {
    "ExecuteTime": {
     "end_time": "2018-06-26T00:50:27.951925Z",
     "start_time": "2018-06-26T00:50:27.937044Z"
    }
   },
   "outputs": [],
   "source": [
    "# take a random sample of rows from sales, to make our dataset a bit smaller\n",
    "sales = sales.sample(4000)"
   ]
  },
  {
   "cell_type": "code",
   "execution_count": 6,
   "metadata": {
    "ExecuteTime": {
     "end_time": "2018-06-26T00:50:28.413777Z",
     "start_time": "2018-06-26T00:50:28.374286Z"
    },
    "scrolled": true
   },
   "outputs": [
    {
     "data": {
      "text/html": [
       "<div>\n",
       "<style scoped>\n",
       "    .dataframe tbody tr th:only-of-type {\n",
       "        vertical-align: middle;\n",
       "    }\n",
       "\n",
       "    .dataframe tbody tr th {\n",
       "        vertical-align: top;\n",
       "    }\n",
       "\n",
       "    .dataframe thead th {\n",
       "        text-align: right;\n",
       "    }\n",
       "</style>\n",
       "<table border=\"1\" class=\"dataframe\">\n",
       "  <thead>\n",
       "    <tr style=\"text-align: right;\">\n",
       "      <th></th>\n",
       "      <th>id</th>\n",
       "      <th>date</th>\n",
       "      <th>price</th>\n",
       "      <th>bedrooms</th>\n",
       "      <th>bathrooms</th>\n",
       "      <th>sqft_living</th>\n",
       "      <th>sqft_lot</th>\n",
       "      <th>floors</th>\n",
       "      <th>waterfront</th>\n",
       "      <th>view</th>\n",
       "      <th>condition</th>\n",
       "      <th>grade</th>\n",
       "      <th>sqft_above</th>\n",
       "      <th>sqft_basement</th>\n",
       "      <th>yr_built</th>\n",
       "      <th>yr_renovated</th>\n",
       "      <th>zipcode</th>\n",
       "      <th>lat</th>\n",
       "      <th>long</th>\n",
       "    </tr>\n",
       "  </thead>\n",
       "  <tbody>\n",
       "    <tr>\n",
       "      <th>5229</th>\n",
       "      <td>2387000110</td>\n",
       "      <td>2014-11-10</td>\n",
       "      <td>898000.0</td>\n",
       "      <td>2</td>\n",
       "      <td>1.75</td>\n",
       "      <td>1490</td>\n",
       "      <td>9874</td>\n",
       "      <td>1.0</td>\n",
       "      <td>False</td>\n",
       "      <td>0</td>\n",
       "      <td>4</td>\n",
       "      <td>7</td>\n",
       "      <td>1490</td>\n",
       "      <td>0</td>\n",
       "      <td>1963</td>\n",
       "      <td>0</td>\n",
       "      <td>98004</td>\n",
       "      <td>47.6246</td>\n",
       "      <td>-122.199</td>\n",
       "    </tr>\n",
       "    <tr>\n",
       "      <th>2826</th>\n",
       "      <td>8562750060</td>\n",
       "      <td>2015-04-20</td>\n",
       "      <td>825000.0</td>\n",
       "      <td>5</td>\n",
       "      <td>3.50</td>\n",
       "      <td>4140</td>\n",
       "      <td>6770</td>\n",
       "      <td>2.0</td>\n",
       "      <td>False</td>\n",
       "      <td>0</td>\n",
       "      <td>3</td>\n",
       "      <td>9</td>\n",
       "      <td>3030</td>\n",
       "      <td>1110</td>\n",
       "      <td>2004</td>\n",
       "      <td>0</td>\n",
       "      <td>98027</td>\n",
       "      <td>47.5381</td>\n",
       "      <td>-122.069</td>\n",
       "    </tr>\n",
       "    <tr>\n",
       "      <th>1678</th>\n",
       "      <td>4364700885</td>\n",
       "      <td>2014-09-12</td>\n",
       "      <td>324950.0</td>\n",
       "      <td>3</td>\n",
       "      <td>1.50</td>\n",
       "      <td>1210</td>\n",
       "      <td>7560</td>\n",
       "      <td>1.0</td>\n",
       "      <td>False</td>\n",
       "      <td>0</td>\n",
       "      <td>3</td>\n",
       "      <td>7</td>\n",
       "      <td>1210</td>\n",
       "      <td>0</td>\n",
       "      <td>1941</td>\n",
       "      <td>0</td>\n",
       "      <td>98126</td>\n",
       "      <td>47.5255</td>\n",
       "      <td>-122.374</td>\n",
       "    </tr>\n",
       "    <tr>\n",
       "      <th>16</th>\n",
       "      <td>8091411120</td>\n",
       "      <td>2014-07-17</td>\n",
       "      <td>220000.0</td>\n",
       "      <td>3</td>\n",
       "      <td>2.25</td>\n",
       "      <td>1400</td>\n",
       "      <td>7205</td>\n",
       "      <td>1.0</td>\n",
       "      <td>False</td>\n",
       "      <td>0</td>\n",
       "      <td>3</td>\n",
       "      <td>7</td>\n",
       "      <td>1140</td>\n",
       "      <td>260</td>\n",
       "      <td>1985</td>\n",
       "      <td>0</td>\n",
       "      <td>98030</td>\n",
       "      <td>47.3490</td>\n",
       "      <td>-122.166</td>\n",
       "    </tr>\n",
       "    <tr>\n",
       "      <th>5955</th>\n",
       "      <td>8732190990</td>\n",
       "      <td>2014-07-09</td>\n",
       "      <td>229000.0</td>\n",
       "      <td>4</td>\n",
       "      <td>2.25</td>\n",
       "      <td>2010</td>\n",
       "      <td>7688</td>\n",
       "      <td>1.0</td>\n",
       "      <td>False</td>\n",
       "      <td>0</td>\n",
       "      <td>3</td>\n",
       "      <td>8</td>\n",
       "      <td>1170</td>\n",
       "      <td>840</td>\n",
       "      <td>1979</td>\n",
       "      <td>0</td>\n",
       "      <td>98023</td>\n",
       "      <td>47.3086</td>\n",
       "      <td>-122.396</td>\n",
       "    </tr>\n",
       "  </tbody>\n",
       "</table>\n",
       "</div>"
      ],
      "text/plain": [
       "              id       date     price  bedrooms  bathrooms  sqft_living  \\\n",
       "5229  2387000110 2014-11-10  898000.0         2       1.75         1490   \n",
       "2826  8562750060 2015-04-20  825000.0         5       3.50         4140   \n",
       "1678  4364700885 2014-09-12  324950.0         3       1.50         1210   \n",
       "16    8091411120 2014-07-17  220000.0         3       2.25         1400   \n",
       "5955  8732190990 2014-07-09  229000.0         4       2.25         2010   \n",
       "\n",
       "      sqft_lot  floors  waterfront  view  condition  grade  sqft_above  \\\n",
       "5229      9874     1.0       False     0          4      7        1490   \n",
       "2826      6770     2.0       False     0          3      9        3030   \n",
       "1678      7560     1.0       False     0          3      7        1210   \n",
       "16        7205     1.0       False     0          3      7        1140   \n",
       "5955      7688     1.0       False     0          3      8        1170   \n",
       "\n",
       "      sqft_basement  yr_built  yr_renovated zipcode      lat     long  \n",
       "5229              0      1963             0   98004  47.6246 -122.199  \n",
       "2826           1110      2004             0   98027  47.5381 -122.069  \n",
       "1678              0      1941             0   98126  47.5255 -122.374  \n",
       "16              260      1985             0   98030  47.3490 -122.166  \n",
       "5955            840      1979             0   98023  47.3086 -122.396  "
      ]
     },
     "execution_count": 6,
     "metadata": {},
     "output_type": "execute_result"
    }
   ],
   "source": [
    "sales.head()"
   ]
  },
  {
   "cell_type": "markdown",
   "metadata": {},
   "source": [
    "This is data from the USA's [National Electronic Injury Surveillance System](https://www.cpsc.gov/vi-VN/Research--Statistics/NEISS-Injury-Data), for patients aged 5-80 from incidents in December 2016."
   ]
  },
  {
   "cell_type": "code",
   "execution_count": 9,
   "metadata": {
    "ExecuteTime": {
     "end_time": "2018-06-26T00:52:03.188035Z",
     "start_time": "2018-06-26T00:52:03.148725Z"
    }
   },
   "outputs": [
    {
     "name": "stdout",
     "output_type": "stream",
     "text": [
      "(4000, 11)\n"
     ]
    }
   ],
   "source": [
    "injuries = pd.read_csv('neiss-tidied.csv', parse_dates=['trmt_date'])\n",
    "print(injuries.shape)"
   ]
  },
  {
   "cell_type": "code",
   "execution_count": 12,
   "metadata": {
    "ExecuteTime": {
     "end_time": "2018-06-26T00:55:07.692567Z",
     "start_time": "2018-06-26T00:55:07.403835Z"
    }
   },
   "outputs": [],
   "source": [
    "# the data covers one month. Extract day of month for convenience\n",
    "injuries['day'] = (injuries['trmt_date'] - injuries['trmt_date'].min()).dt.days + 1\n",
    "# add a 'count' field that is just 1 for each incident; convenient for summing incident count in various plots\n",
    "injuries['count'] = 1"
   ]
  },
  {
   "cell_type": "code",
   "execution_count": 13,
   "metadata": {
    "ExecuteTime": {
     "end_time": "2018-06-26T00:55:09.822233Z",
     "start_time": "2018-06-26T00:55:09.771209Z"
    }
   },
   "outputs": [
    {
     "data": {
      "text/html": [
       "<div>\n",
       "<style scoped>\n",
       "    .dataframe tbody tr th:only-of-type {\n",
       "        vertical-align: middle;\n",
       "    }\n",
       "\n",
       "    .dataframe tbody tr th {\n",
       "        vertical-align: top;\n",
       "    }\n",
       "\n",
       "    .dataframe thead th {\n",
       "        text-align: right;\n",
       "    }\n",
       "</style>\n",
       "<table border=\"1\" class=\"dataframe\">\n",
       "  <thead>\n",
       "    <tr style=\"text-align: right;\">\n",
       "      <th></th>\n",
       "      <th>case_id</th>\n",
       "      <th>trmt_date</th>\n",
       "      <th>age</th>\n",
       "      <th>sex</th>\n",
       "      <th>body_part</th>\n",
       "      <th>product</th>\n",
       "      <th>diagnosis</th>\n",
       "      <th>location</th>\n",
       "      <th>hospital_stratum</th>\n",
       "      <th>disposition</th>\n",
       "      <th>narr</th>\n",
       "      <th>day</th>\n",
       "      <th>count</th>\n",
       "    </tr>\n",
       "  </thead>\n",
       "  <tbody>\n",
       "    <tr>\n",
       "      <th>0</th>\n",
       "      <td>161205654</td>\n",
       "      <td>2016-12-01</td>\n",
       "      <td>20.0</td>\n",
       "      <td>Female</td>\n",
       "      <td>Trunk, upper</td>\n",
       "      <td>Basketball</td>\n",
       "      <td>Contusions, Abrasions</td>\n",
       "      <td>Not recorded</td>\n",
       "      <td>Medium Hospitals</td>\n",
       "      <td>Treated and released or examined and released ...</td>\n",
       "      <td>20YOF PLAYING BASKETBALL AND HIT IN THE CHEST ...</td>\n",
       "      <td>1</td>\n",
       "      <td>1</td>\n",
       "    </tr>\n",
       "    <tr>\n",
       "      <th>1</th>\n",
       "      <td>161205688</td>\n",
       "      <td>2016-12-02</td>\n",
       "      <td>29.0</td>\n",
       "      <td>Female</td>\n",
       "      <td>Ankle</td>\n",
       "      <td>Stairs or steps</td>\n",
       "      <td>Strain or Sprain</td>\n",
       "      <td>Not recorded</td>\n",
       "      <td>Medium Hospitals</td>\n",
       "      <td>Treated and released or examined and released ...</td>\n",
       "      <td>NaN</td>\n",
       "      <td>2</td>\n",
       "      <td>1</td>\n",
       "    </tr>\n",
       "    <tr>\n",
       "      <th>2</th>\n",
       "      <td>161205692</td>\n",
       "      <td>2016-12-02</td>\n",
       "      <td>80.0</td>\n",
       "      <td>Male</td>\n",
       "      <td>Trunk, upper</td>\n",
       "      <td>Floors or flooring materials</td>\n",
       "      <td>Contusions, Abrasions</td>\n",
       "      <td>Home</td>\n",
       "      <td>Medium Hospitals</td>\n",
       "      <td>Treated and admitted for hospitalization (with...</td>\n",
       "      <td>80YOM HAD A SYNCOPEL EVENT AND FELL TO THE BAT...</td>\n",
       "      <td>2</td>\n",
       "      <td>1</td>\n",
       "    </tr>\n",
       "    <tr>\n",
       "      <th>3</th>\n",
       "      <td>161205716</td>\n",
       "      <td>2016-12-02</td>\n",
       "      <td>43.0</td>\n",
       "      <td>Female</td>\n",
       "      <td>Face</td>\n",
       "      <td>Stairs or steps</td>\n",
       "      <td>Fracture</td>\n",
       "      <td>Home</td>\n",
       "      <td>Medium Hospitals</td>\n",
       "      <td>Treated and released or examined and released ...</td>\n",
       "      <td>43YOF SLIPPED GOING DOWN HER STAIRS FELL FACE ...</td>\n",
       "      <td>2</td>\n",
       "      <td>1</td>\n",
       "    </tr>\n",
       "    <tr>\n",
       "      <th>4</th>\n",
       "      <td>161205721</td>\n",
       "      <td>2016-12-02</td>\n",
       "      <td>34.0</td>\n",
       "      <td>Male</td>\n",
       "      <td>Trunk, lower</td>\n",
       "      <td>Stairs or steps</td>\n",
       "      <td>Contusions, Abrasions</td>\n",
       "      <td>Home</td>\n",
       "      <td>Medium Hospitals</td>\n",
       "      <td>Treated and released or examined and released ...</td>\n",
       "      <td>34YOM FELL DOWN A FLIGHT OF STAIRS AND LANDED ...</td>\n",
       "      <td>2</td>\n",
       "      <td>1</td>\n",
       "    </tr>\n",
       "  </tbody>\n",
       "</table>\n",
       "</div>"
      ],
      "text/plain": [
       "     case_id  trmt_date   age     sex     body_part  \\\n",
       "0  161205654 2016-12-01  20.0  Female  Trunk, upper   \n",
       "1  161205688 2016-12-02  29.0  Female         Ankle   \n",
       "2  161205692 2016-12-02  80.0    Male  Trunk, upper   \n",
       "3  161205716 2016-12-02  43.0  Female          Face   \n",
       "4  161205721 2016-12-02  34.0    Male  Trunk, lower   \n",
       "\n",
       "                        product              diagnosis      location  \\\n",
       "0                    Basketball  Contusions, Abrasions  Not recorded   \n",
       "1               Stairs or steps       Strain or Sprain  Not recorded   \n",
       "2  Floors or flooring materials  Contusions, Abrasions          Home   \n",
       "3               Stairs or steps               Fracture          Home   \n",
       "4               Stairs or steps  Contusions, Abrasions          Home   \n",
       "\n",
       "   hospital_stratum                                        disposition  \\\n",
       "0  Medium Hospitals  Treated and released or examined and released ...   \n",
       "1  Medium Hospitals  Treated and released or examined and released ...   \n",
       "2  Medium Hospitals  Treated and admitted for hospitalization (with...   \n",
       "3  Medium Hospitals  Treated and released or examined and released ...   \n",
       "4  Medium Hospitals  Treated and released or examined and released ...   \n",
       "\n",
       "                                                narr  day  count  \n",
       "0  20YOF PLAYING BASKETBALL AND HIT IN THE CHEST ...    1      1  \n",
       "1                                                NaN    2      1  \n",
       "2  80YOM HAD A SYNCOPEL EVENT AND FELL TO THE BAT...    2      1  \n",
       "3  43YOF SLIPPED GOING DOWN HER STAIRS FELL FACE ...    2      1  \n",
       "4  34YOM FELL DOWN A FLIGHT OF STAIRS AND LANDED ...    2      1  "
      ]
     },
     "execution_count": 13,
     "metadata": {},
     "output_type": "execute_result"
    }
   ],
   "source": [
    "injuries.head()"
   ]
  },
  {
   "cell_type": "markdown",
   "metadata": {},
   "source": [
    "## Plotly "
   ]
  },
  {
   "cell_type": "markdown",
   "metadata": {},
   "source": [
    "Plotly is a javascript library with APIs in several languages: Python, R and Matlab. It has a wide range of built-in plot types and works well with the Jupyter Notebook. Plots made using the Python API (or any API) are rendered with Javascript, and are all interactive.\n",
    "\n",
    "Some useful references:\n",
    "\n",
    "- Plotly Python reference home https://plot.ly/python/\n",
    "- Plotly Python introductory user guide https://plot.ly/python/user-guide/\n",
    "- Plotly online Graph Maker https://plot.ly/create/ \n",
    "\n",
    "Plotly was originally designed to work with hosted plots in the cloud, and that is still possible, but it is now also possible to work entirely offline without an account by using the `plotly.offline` module."
   ]
  },
  {
   "cell_type": "markdown",
   "metadata": {},
   "source": [
    "Here's a simple example of a Plotly plot. Try mouseover on the data to see the hover info, and try out the zoom/pan/select tools in the upper right. Also try clicking on the legend, which is interactive."
   ]
  },
  {
   "cell_type": "code",
   "execution_count": 22,
   "metadata": {
    "ExecuteTime": {
     "end_time": "2018-01-15T06:20:19.337756Z",
     "start_time": "2018-01-15T06:20:19.307639Z"
    },
    "scrolled": false
   },
   "outputs": [
    {
     "data": {
      "application/vnd.plotly.v1+json": {
       "data": [
        {
         "line": {
          "color": "blue"
         },
         "mode": "lines",
         "name": "Projected",
         "type": "scatter",
         "x": [
          1,
          2,
          3,
          4,
          5
         ],
         "y": [
          2,
          5,
          10,
          17,
          26
         ]
        },
        {
         "marker": {
          "color": "red",
          "size": 10
         },
         "mode": "markers",
         "name": "Actual",
         "type": "scatter",
         "x": [
          1,
          2,
          3,
          4,
          5
         ],
         "y": [
          1,
          4,
          9,
          11,
          9
         ]
        }
       ],
       "layout": {}
      },
      "text/html": [
       "<div id=\"edebc441-a2a0-45bf-ba83-c42618c18022\" style=\"height: 525px; width: 100%;\" class=\"plotly-graph-div\"></div><script type=\"text/javascript\">require([\"plotly\"], function(Plotly) { window.PLOTLYENV=window.PLOTLYENV || {};window.PLOTLYENV.BASE_URL=\"https://plot.ly\";Plotly.newPlot(\"edebc441-a2a0-45bf-ba83-c42618c18022\", [{\"type\": \"scatter\", \"x\": [1, 2, 3, 4, 5], \"y\": [2, 5, 10, 17, 26], \"mode\": \"lines\", \"line\": {\"color\": \"blue\"}, \"name\": \"Projected\"}, {\"type\": \"scatter\", \"x\": [1, 2, 3, 4, 5], \"y\": [1, 4, 9, 11, 9], \"mode\": \"markers\", \"marker\": {\"color\": \"red\", \"size\": 10}, \"name\": \"Actual\"}], {}, {\"showLink\": true, \"linkText\": \"Export to plot.ly\"})});</script>"
      ],
      "text/vnd.plotly.v1+html": [
       "<div id=\"edebc441-a2a0-45bf-ba83-c42618c18022\" style=\"height: 525px; width: 100%;\" class=\"plotly-graph-div\"></div><script type=\"text/javascript\">require([\"plotly\"], function(Plotly) { window.PLOTLYENV=window.PLOTLYENV || {};window.PLOTLYENV.BASE_URL=\"https://plot.ly\";Plotly.newPlot(\"edebc441-a2a0-45bf-ba83-c42618c18022\", [{\"type\": \"scatter\", \"x\": [1, 2, 3, 4, 5], \"y\": [2, 5, 10, 17, 26], \"mode\": \"lines\", \"line\": {\"color\": \"blue\"}, \"name\": \"Projected\"}, {\"type\": \"scatter\", \"x\": [1, 2, 3, 4, 5], \"y\": [1, 4, 9, 11, 9], \"mode\": \"markers\", \"marker\": {\"color\": \"red\", \"size\": 10}, \"name\": \"Actual\"}], {}, {\"showLink\": true, \"linkText\": \"Export to plot.ly\"})});</script>"
      ]
     },
     "metadata": {},
     "output_type": "display_data"
    }
   ],
   "source": [
    "x = [1,2,3,4,5]\n",
    "y = [2,5,10,17,26]\n",
    "y2 = [1,4,9,11,9]\n",
    "\n",
    "trace0 = go.Scatter(x=x, y=y, mode='lines', \n",
    "                    line=dict(color='blue'),\n",
    "                    name='Projected')\n",
    "\n",
    "trace1 = go.Scatter(x=x, y=y2, mode='markers', \n",
    "                    marker=dict(color='red', size=10),\n",
    "                    name='Actual')\n",
    "\n",
    "data = [trace0, trace1]\n",
    "\n",
    "iplot([trace0, trace1])"
   ]
  },
  {
   "cell_type": "code",
   "execution_count": null,
   "metadata": {},
   "outputs": [],
   "source": []
  }
 ],
 "metadata": {
  "kernelspec": {
   "display_name": "Python 3",
   "language": "python",
   "name": "python3"
  },
  "language_info": {
   "codemirror_mode": {
    "name": "ipython",
    "version": 3
   },
   "file_extension": ".py",
   "mimetype": "text/x-python",
   "name": "python",
   "nbconvert_exporter": "python",
   "pygments_lexer": "ipython3",
   "version": "3.6.5"
  },
  "toc": {
   "colors": {
    "hover_highlight": "#DAA520",
    "running_highlight": "#FF0000",
    "selected_highlight": "#FFD700"
   },
   "moveMenuLeft": true,
   "nav_menu": {
    "height": "138px",
    "width": "252px"
   },
   "navigate_menu": true,
   "number_sections": true,
   "sideBar": true,
   "threshold": 4,
   "toc_cell": false,
   "toc_section_display": "block",
   "toc_window_display": false
  },
  "varInspector": {
   "cols": {
    "lenName": 16,
    "lenType": 16,
    "lenVar": 40
   },
   "kernels_config": {
    "python": {
     "delete_cmd_postfix": "",
     "delete_cmd_prefix": "del ",
     "library": "var_list.py",
     "varRefreshCmd": "print(var_dic_list())"
    },
    "r": {
     "delete_cmd_postfix": ") ",
     "delete_cmd_prefix": "rm(",
     "library": "var_list.r",
     "varRefreshCmd": "cat(var_dic_list()) "
    }
   },
   "types_to_exclude": [
    "module",
    "function",
    "builtin_function_or_method",
    "instance",
    "_Feature"
   ],
   "window_display": false
  }
 },
 "nbformat": 4,
 "nbformat_minor": 2
}
